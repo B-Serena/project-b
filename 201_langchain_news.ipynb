{
 "cells": [
  {
   "cell_type": "markdown",
   "metadata": {},
   "source": [
    "# 뉴스 본문 데이터 수집"
   ]
  },
  {
   "cell_type": "code",
   "execution_count": 1,
   "metadata": {},
   "outputs": [],
   "source": [
    "import os\n",
    "from dotenv import load_dotenv\n",
    "\n",
    "load_dotenv()\n",
    "\n",
    "OPENAI_API_KEY = os.environ[\"OPENAI_API_KEY\"]"
   ]
  },
  {
   "cell_type": "code",
   "execution_count": 2,
   "metadata": {},
   "outputs": [
    {
     "data": {
      "text/html": [
       "<div>\n",
       "<style scoped>\n",
       "    .dataframe tbody tr th:only-of-type {\n",
       "        vertical-align: middle;\n",
       "    }\n",
       "\n",
       "    .dataframe tbody tr th {\n",
       "        vertical-align: top;\n",
       "    }\n",
       "\n",
       "    .dataframe thead th {\n",
       "        text-align: right;\n",
       "    }\n",
       "</style>\n",
       "<table border=\"1\" class=\"dataframe\">\n",
       "  <thead>\n",
       "    <tr style=\"text-align: right;\">\n",
       "      <th></th>\n",
       "      <th>title</th>\n",
       "      <th>agency</th>\n",
       "      <th>category</th>\n",
       "      <th>link</th>\n",
       "    </tr>\n",
       "  </thead>\n",
       "  <tbody>\n",
       "    <tr>\n",
       "      <th>0</th>\n",
       "      <td>전기차 생각만큼 안 팔려도… 현대차 \"美 조지아 공장 문제없다\"</td>\n",
       "      <td>데일리안</td>\n",
       "      <td>경제</td>\n",
       "      <td>https://v.daum.net/v/20240828200914773</td>\n",
       "    </tr>\n",
       "    <tr>\n",
       "      <th>1</th>\n",
       "      <td>버크셔해서웨이, 시가총액 1조달러 클럽 도전</td>\n",
       "      <td>한국경제</td>\n",
       "      <td>경제</td>\n",
       "      <td>https://v.daum.net/v/20240828200910772</td>\n",
       "    </tr>\n",
       "    <tr>\n",
       "      <th>2</th>\n",
       "      <td>29일 오전 6시…엔비디아發 `태풍`이 온다</td>\n",
       "      <td>디지털타임스</td>\n",
       "      <td>경제</td>\n",
       "      <td>https://v.daum.net/v/20240828200232564</td>\n",
       "    </tr>\n",
       "    <tr>\n",
       "      <th>3</th>\n",
       "      <td>애플·구글의 앱마켓 독점 견제가 기회...원스토어 \"지역 맞춤형 전략으로 해외 간다\"</td>\n",
       "      <td>한국일보</td>\n",
       "      <td>경제</td>\n",
       "      <td>https://v.daum.net/v/20240828200231561</td>\n",
       "    </tr>\n",
       "    <tr>\n",
       "      <th>4</th>\n",
       "      <td>[여기는 전남] 순천 시내버스 노선 개편…중복노선 줄이고 읍면 지선 체계</td>\n",
       "      <td>KBS</td>\n",
       "      <td>경제</td>\n",
       "      <td>https://v.daum.net/v/20240828200049520</td>\n",
       "    </tr>\n",
       "  </tbody>\n",
       "</table>\n",
       "</div>"
      ],
      "text/plain": [
       "                                             title  agency category  \\\n",
       "0              전기차 생각만큼 안 팔려도… 현대차 \"美 조지아 공장 문제없다\"    데일리안       경제   \n",
       "1                         버크셔해서웨이, 시가총액 1조달러 클럽 도전    한국경제       경제   \n",
       "2                         29일 오전 6시…엔비디아發 `태풍`이 온다  디지털타임스       경제   \n",
       "3  애플·구글의 앱마켓 독점 견제가 기회...원스토어 \"지역 맞춤형 전략으로 해외 간다\"    한국일보       경제   \n",
       "4         [여기는 전남] 순천 시내버스 노선 개편…중복노선 줄이고 읍면 지선 체계     KBS       경제   \n",
       "\n",
       "                                     link  \n",
       "0  https://v.daum.net/v/20240828200914773  \n",
       "1  https://v.daum.net/v/20240828200910772  \n",
       "2  https://v.daum.net/v/20240828200232564  \n",
       "3  https://v.daum.net/v/20240828200231561  \n",
       "4  https://v.daum.net/v/20240828200049520  "
      ]
     },
     "execution_count": 2,
     "metadata": {},
     "output_type": "execute_result"
    }
   ],
   "source": [
    "# 뉴스 링크 데이터 가져오기\n",
    "import pandas as pd\n",
    "df_news = pd.read_csv('daum_economy_news.csv')\n",
    "df_news.head()"
   ]
  },
  {
   "cell_type": "code",
   "execution_count": 3,
   "metadata": {},
   "outputs": [
    {
     "data": {
      "text/plain": [
       "80"
      ]
     },
     "execution_count": 3,
     "metadata": {},
     "output_type": "execute_result"
    }
   ],
   "source": [
    "len(df_news)"
   ]
  },
  {
   "cell_type": "code",
   "execution_count": 4,
   "metadata": {},
   "outputs": [
    {
     "data": {
      "text/plain": [
       "'https://v.daum.net/v/20240828200914773'"
      ]
     },
     "execution_count": 4,
     "metadata": {},
     "output_type": "execute_result"
    }
   ],
   "source": [
    "# 첫 번째 뉴스 링크 가져오기\n",
    "df_news['link'][0]"
   ]
  },
  {
   "cell_type": "code",
   "execution_count": 9,
   "metadata": {},
   "outputs": [
    {
     "data": {
      "text/plain": [
       "1"
      ]
     },
     "execution_count": 9,
     "metadata": {},
     "output_type": "execute_result"
    }
   ],
   "source": [
    "# 랭체인 WebBaseLoader로 뉴스 본문 가져오기 (!!!)\n",
    "\n",
    "import bs4\n",
    "from langchain_community.document_loaders import WebBaseLoader\n",
    "\n",
    "url = df_news['link'][0]\n",
    "\n",
    "loader = WebBaseLoader(\n",
    "    web_paths=[url, ],\n",
    "    bs_kwargs=dict(\n",
    "        parse_only=bs4.SoupStrainer(\n",
    "            class_=[\"article_view\"]\n",
    "        )\n",
    "    ),\n",
    ")\n",
    "docs = loader.load()\n",
    "len(docs)"
   ]
  },
  {
   "cell_type": "code",
   "execution_count": 6,
   "metadata": {},
   "outputs": [
    {
     "data": {
      "text/plain": [
       "Document(page_content='\\n\\n\\n\\n\\n            장재훈 현대자동차 사장이 28일 여의도 콘래드 호텔에서 열린 \\'CEO 인베스터데이\\'에서 중장기 전략을 발표하고 있다.ⓒ현대자동차\\n           \\n\\n현대자동차의 미국 전기차 전용공장인 \\'현대차그룹 메타플랜트 아메리카(HMGMA)\\'의 완공이 올 10월로 다가온 가운데, 전기차 판매 둔화에 대응할 카드를 공개했다. 전기차 전용 생산 라인을 일부 하이브리드차 생산라인으로 바꿔 현지 생산 속도를 조절하는 방안이다.\\n국내와 달리 미국에선 전기차 판매가 늘고 있지만, 기존 기대했던 수준보다 시장이 빨리 커지고 있지 않은 탓이다. 최근 미국 내 하이브리드 수요가 급격히 늘면서 오히려 수익 확대에 보탬이 될 것으로 보인다.\\n장재훈 현대차 사장은 28일 여의도 콘래드 호텔에서 진행된 \\'CEO 인베스터데이\\'에서 \"하이브리드차를 대폭 확대할 계획이다. 글로벌 판매숫자 대비 40% 증가한 133만대를 목표로 할 것\"이라며 \"글로벌 거점 활용, 혼류생산, 부품 공급망 확보 등을 총동원 할 것이다. 특히 북미 조지아에서도 하이브리드차를 생산할 예정\"이라고 말했다.\\nHMGMA는 현대차, 제네시스, 기아 등 현대차그룹의 전기차 전용 생산 공장이다. 미국 현지에서 생산하지 않은 차량에 보조금을 지급하지 않는 IRA(인플레이션 감축법)가 2년 전 제정되면서 이에 대응하기 위해 대규모 투자를 통해 착공을 시작했었다.\\n착공 당시만 하더라도 테슬라에 이어 미국 내 전기차 판매로 2위를 달성하고 있었던 만큼, 완공 후 전기차만 생산해도 충분한 물량이 받쳐줄 것으로 예상했기 때문이다. 해당 공장은 아이오닉9을 포함해 현대차·기아·제네시스 브랜드 6개 차종 전기차를 연간 30만대 생산하고, 향후 50만대까지 증설이 가능한 규모를 갖출 예정이다.\\n하지만 현대차가 HMGMA에서 하이브리드차를 생산하기로 결정한 것은 최근 2년 간 전기차 판매 속도가 기대만큼 빠르게 증가하지 않고 있기 때문이다. 여전히 지난해 기준 미국 전기차 시장에서 총 9만4340대의 전기차를 팔아 테슬라에 이어 2위를 차지하는 등 선전하고는 있지만, 예상치 못했던 하이브리드차 판매량이 미국 내에서도 급속하게 증가하고 있어서다.\\n현대차는 두 달 앞으로 다가온 HMGMA 완공 전 급하게 방향을 선회한 것으로 보인다. 이미 깔아놓은 전기차 라인을 철거하고, 하이브리드 생산 가능 라인을 투입했을 가능성이 높다.\\n호세 무뇨스 글로벌 최고운영책임자(COO) 사장은 \"미국 조지아 공장은 애초에 전기차 전용공장으로 예상됐었다. 하지만 시장 트렌드를 보니 하이브리드에 대한 수요높아졌고, 좀 더 유연하게 대응하기로 결정했다\"며 \"조금의 투자가 있고, 일부 공장 부분을 조절하면 하이브리드도 생산이 가능하다는 결론에 도달했다. 작은 투자로서 가능했다\"고 말했다.\\n이에 따라 현대차는 10월 가동을 시작하는 시점부터 곧바로 하이브리드차와 전기차 생산을 병행할 수 있게됐다. 하이브리드가 차지하는 비율은 전체 생산량의 3분의 1 수준이다.\\n무뇨스 사장은 \"생산량을 예상해본다면 최대 생산 능력의 약 3분의 1이 하이브리드가 될 수 있을 것으로 보인다\"며 \"그러나 더 많은 배터리 수요가 있을 경우, 더 적거나 많게 조정할 수 있다\"고 말했다.\\n장 사장은 \"중요한 점은 새로운 공장에서 어떻게 더 낮은 비용으로 유연하게 대처할 수 있느냐 하는 것\"이라며 \"우리는 약 30% 비용 절감을 기대하고 있으며, 새로운 공장에서 하이브리드 차량을 생산하는 데 있어 적응성을 갖추고 있다. 시장 수요에 따라 유연하게 대응할 계획\"이라고 말했다.\\n\\n', metadata={'source': 'https://v.daum.net/v/20240828200914773'})"
      ]
     },
     "execution_count": 6,
     "metadata": {},
     "output_type": "execute_result"
    }
   ],
   "source": [
    "# Document 객체 확인\n",
    "docs[0]"
   ]
  },
  {
   "cell_type": "code",
   "execution_count": 7,
   "metadata": {},
   "outputs": [
    {
     "data": {
      "text/plain": [
       "'장재훈 현대자동차 사장이 28일 여의도 콘래드 호텔에서 열린 \\'CEO 인베스터데이\\'에서 중장기 전략을 발표하고 있다.ⓒ현대자동차\\n           \\n\\n현대자동차의 미국 전기차 전용공장인 \\'현대차그룹 메타플랜트 아메리카(HMGMA)\\'의 완공이 올 10월로 다가온 가운데, 전기차 판매 둔화에 대응할 카드를 공개했다. 전기차 전용 생산 라인을 일부 하이브리드차 생산라인으로 바꿔 현지 생산 속도를 조절하는 방안이다.\\n국내와 달리 미국에선 전기차 판매가 늘고 있지만, 기존 기대했던 수준보다 시장이 빨리 커지고 있지 않은 탓이다. 최근 미국 내 하이브리드 수요가 급격히 늘면서 오히려 수익 확대에 보탬이 될 것으로 보인다.\\n장재훈 현대차 사장은 28일 여의도 콘래드 호텔에서 진행된 \\'CEO 인베스터데이\\'에서 \"하이브리드차를 대폭 확대할 계획이다. 글로벌 판매숫자 대비 40% 증가한 133만대를 목표로 할 것\"이라며 \"글로벌 거점 활용, 혼류생산, 부품 공급망 확보 등을 총동원 할 것이다. 특히 북미 조지아에서도 하이브리드차를 생산할 예정\"이라고 말했다.\\nHMGMA는 현대차, 제네시스, 기아 등 현대차그룹의 전기차 전용 생산 공장이다. 미국 현지에서 생산하지 않은 차량에 보조금을 지급하지 않는 IRA(인플레이션 감축법)가 2년 전 제정되면서 이에 대응하기 위해 대규모 투자를 통해 착공을 시작했었다.\\n착공 당시만 하더라도 테슬라에 이어 미국 내 전기차 판매로 2위를 달성하고 있었던 만큼, 완공 후 전기차만 생산해도 충분한 물량이 받쳐줄 것으로 예상했기 때문이다. 해당 공장은 아이오닉9을 포함해 현대차·기아·제네시스 브랜드 6개 차종 전기차를 연간 30만대 생산하고, 향후 50만대까지 증설이 가능한 규모를 갖출 예정이다.\\n하지만 현대차가 HMGMA에서 하이브리드차를 생산하기로 결정한 것은 최근 2년 간 전기차 판매 속도가 기대만큼 빠르게 증가하지 않고 있기 때문이다. 여전히 지난해 기준 미국 전기차 시장에서 총 9만4340대의 전기차를 팔아 테슬라에 이어 2위를 차지하는 등 선전하고는 있지만, 예상치 못했던 하이브리드차 판매량이 미국 내에서도 급속하게 증가하고 있어서다.\\n현대차는 두 달 앞으로 다가온 HMGMA 완공 전 급하게 방향을 선회한 것으로 보인다. 이미 깔아놓은 전기차 라인을 철거하고, 하이브리드 생산 가능 라인을 투입했을 가능성이 높다.\\n호세 무뇨스 글로벌 최고운영책임자(COO) 사장은 \"미국 조지아 공장은 애초에 전기차 전용공장으로 예상됐었다. 하지만 시장 트렌드를 보니 하이브리드에 대한 수요높아졌고, 좀 더 유연하게 대응하기로 결정했다\"며 \"조금의 투자가 있고, 일부 공장 부분을 조절하면 하이브리드도 생산이 가능하다는 결론에 도달했다. 작은 투자로서 가능했다\"고 말했다.\\n이에 따라 현대차는 10월 가동을 시작하는 시점부터 곧바로 하이브리드차와 전기차 생산을 병행할 수 있게됐다. 하이브리드가 차지하는 비율은 전체 생산량의 3분의 1 수준이다.\\n무뇨스 사장은 \"생산량을 예상해본다면 최대 생산 능력의 약 3분의 1이 하이브리드가 될 수 있을 것으로 보인다\"며 \"그러나 더 많은 배터리 수요가 있을 경우, 더 적거나 많게 조정할 수 있다\"고 말했다.\\n장 사장은 \"중요한 점은 새로운 공장에서 어떻게 더 낮은 비용으로 유연하게 대처할 수 있느냐 하는 것\"이라며 \"우리는 약 30% 비용 절감을 기대하고 있으며, 새로운 공장에서 하이브리드 차량을 생산하는 데 있어 적응성을 갖추고 있다. 시장 수요에 따라 유연하게 대응할 계획\"이라고 말했다.'"
      ]
     },
     "execution_count": 7,
     "metadata": {},
     "output_type": "execute_result"
    }
   ],
   "source": [
    "# Document 객체의 page_content 속성 확인\n",
    "docs[0].page_content.strip()"
   ]
  },
  {
   "cell_type": "code",
   "execution_count": 10,
   "metadata": {},
   "outputs": [],
   "source": [
    "# 각 링크를 순회하며 뉴스 본문 가져오기\n",
    "import time\n",
    "\n",
    "def get_news_content(url):\n",
    "    loader = WebBaseLoader(\n",
    "        web_paths=[url],\n",
    "        bs_kwargs=dict(\n",
    "            parse_only=bs4.SoupStrainer(\n",
    "                class_=[\"article_view\"]\n",
    "            )\n",
    "        ),\n",
    "    )\n",
    "    docs = loader.load()\n",
    "    time.sleep(1)\n",
    "    return docs[0].page_content.strip()"
   ]
  },
  {
   "cell_type": "code",
   "execution_count": 11,
   "metadata": {},
   "outputs": [
    {
     "data": {
      "text/html": [
       "<div>\n",
       "<style scoped>\n",
       "    .dataframe tbody tr th:only-of-type {\n",
       "        vertical-align: middle;\n",
       "    }\n",
       "\n",
       "    .dataframe tbody tr th {\n",
       "        vertical-align: top;\n",
       "    }\n",
       "\n",
       "    .dataframe thead th {\n",
       "        text-align: right;\n",
       "    }\n",
       "</style>\n",
       "<table border=\"1\" class=\"dataframe\">\n",
       "  <thead>\n",
       "    <tr style=\"text-align: right;\">\n",
       "      <th></th>\n",
       "      <th>title</th>\n",
       "      <th>agency</th>\n",
       "      <th>category</th>\n",
       "      <th>link</th>\n",
       "      <th>content</th>\n",
       "    </tr>\n",
       "  </thead>\n",
       "  <tbody>\n",
       "    <tr>\n",
       "      <th>0</th>\n",
       "      <td>전기차 생각만큼 안 팔려도… 현대차 \"美 조지아 공장 문제없다\"</td>\n",
       "      <td>데일리안</td>\n",
       "      <td>경제</td>\n",
       "      <td>https://v.daum.net/v/20240828200914773</td>\n",
       "      <td>장재훈 현대자동차 사장이 28일 여의도 콘래드 호텔에서 열린 'CEO 인베스터데이'...</td>\n",
       "    </tr>\n",
       "    <tr>\n",
       "      <th>1</th>\n",
       "      <td>버크셔해서웨이, 시가총액 1조달러 클럽 도전</td>\n",
       "      <td>한국경제</td>\n",
       "      <td>경제</td>\n",
       "      <td>https://v.daum.net/v/20240828200910772</td>\n",
       "      <td>이 기사는 국내 최대 해외 투자정보 플랫폼 한경 글로벌마켓에 게재된 기사입니다.\\n...</td>\n",
       "    </tr>\n",
       "    <tr>\n",
       "      <th>2</th>\n",
       "      <td>29일 오전 6시…엔비디아發 `태풍`이 온다</td>\n",
       "      <td>디지털타임스</td>\n",
       "      <td>경제</td>\n",
       "      <td>https://v.daum.net/v/20240828200232564</td>\n",
       "      <td>로이터 연합 자료 사진\\n           \\n\\n'잭슨홀 랠리'보다 강한 '엔비...</td>\n",
       "    </tr>\n",
       "    <tr>\n",
       "      <th>3</th>\n",
       "      <td>애플·구글의 앱마켓 독점 견제가 기회...원스토어 \"지역 맞춤형 전략으로 해외 간다\"</td>\n",
       "      <td>한국일보</td>\n",
       "      <td>경제</td>\n",
       "      <td>https://v.daum.net/v/20240828200231561</td>\n",
       "      <td>전동진 원스토어 대표가 28일 서울 중구 SK타워 수펙스홀에서 열린 기자간담회에서 ...</td>\n",
       "    </tr>\n",
       "    <tr>\n",
       "      <th>4</th>\n",
       "      <td>[여기는 전남] 순천 시내버스 노선 개편…중복노선 줄이고 읍면 지선 체계</td>\n",
       "      <td>KBS</td>\n",
       "      <td>경제</td>\n",
       "      <td>https://v.daum.net/v/20240828200049520</td>\n",
       "      <td>[KBS 광주] [앵커]\\n순천시가 시내버스 노선 개편을 추진하고 있습니다.\\n도심...</td>\n",
       "    </tr>\n",
       "  </tbody>\n",
       "</table>\n",
       "</div>"
      ],
      "text/plain": [
       "                                             title  agency category  \\\n",
       "0              전기차 생각만큼 안 팔려도… 현대차 \"美 조지아 공장 문제없다\"    데일리안       경제   \n",
       "1                         버크셔해서웨이, 시가총액 1조달러 클럽 도전    한국경제       경제   \n",
       "2                         29일 오전 6시…엔비디아發 `태풍`이 온다  디지털타임스       경제   \n",
       "3  애플·구글의 앱마켓 독점 견제가 기회...원스토어 \"지역 맞춤형 전략으로 해외 간다\"    한국일보       경제   \n",
       "4         [여기는 전남] 순천 시내버스 노선 개편…중복노선 줄이고 읍면 지선 체계     KBS       경제   \n",
       "\n",
       "                                     link  \\\n",
       "0  https://v.daum.net/v/20240828200914773   \n",
       "1  https://v.daum.net/v/20240828200910772   \n",
       "2  https://v.daum.net/v/20240828200232564   \n",
       "3  https://v.daum.net/v/20240828200231561   \n",
       "4  https://v.daum.net/v/20240828200049520   \n",
       "\n",
       "                                             content  \n",
       "0  장재훈 현대자동차 사장이 28일 여의도 콘래드 호텔에서 열린 'CEO 인베스터데이'...  \n",
       "1  이 기사는 국내 최대 해외 투자정보 플랫폼 한경 글로벌마켓에 게재된 기사입니다.\\n...  \n",
       "2  로이터 연합 자료 사진\\n           \\n\\n'잭슨홀 랠리'보다 강한 '엔비...  \n",
       "3  전동진 원스토어 대표가 28일 서울 중구 SK타워 수펙스홀에서 열린 기자간담회에서 ...  \n",
       "4  [KBS 광주] [앵커]\\n순천시가 시내버스 노선 개편을 추진하고 있습니다.\\n도심...  "
      ]
     },
     "execution_count": 11,
     "metadata": {},
     "output_type": "execute_result"
    }
   ],
   "source": [
    "df_news['content'] = df_news['link'].apply(get_news_content)\n",
    "df_news.head()"
   ]
  },
  {
   "cell_type": "code",
   "execution_count": 12,
   "metadata": {},
   "outputs": [],
   "source": [
    "# 뉴스 본문 데이터 저장\n",
    "df_news.to_csv('daum_economy_news_content.csv', index=False)"
   ]
  },
  {
   "cell_type": "code",
   "execution_count": 13,
   "metadata": {},
   "outputs": [],
   "source": [
    "# df_news = pd.read_csv('daum_economy_news_content.csv')"
   ]
  },
  {
   "cell_type": "markdown",
   "metadata": {},
   "source": [
    "# 뉴스 본문에서 언론사 이름, 기자 이름, 이메일 주소 등을 추출 "
   ]
  },
  {
   "cell_type": "code",
   "execution_count": 14,
   "metadata": {},
   "outputs": [
    {
     "data": {
      "text/plain": [
       "'장재훈 현대자동차 사장이 28일 여의도 콘래드 호텔에서 열린 \\'CEO 인베스터데이\\'에서 중장기 전략을 발표하고 있다.ⓒ현대자동차\\n           \\n\\n현대자동차의 미국 전기차 전용공장인 \\'현대차그룹 메타플랜트 아메리카(HMGMA)\\'의 완공이 올 10월로 다가온 가운데, 전기차 판매 둔화에 대응할 카드를 공개했다. 전기차 전용 생산 라인을 일부 하이브리드차 생산라인으로 바꿔 현지 생산 속도를 조절하는 방안이다.\\n국내와 달리 미국에선 전기차 판매가 늘고 있지만, 기존 기대했던 수준보다 시장이 빨리 커지고 있지 않은 탓이다. 최근 미국 내 하이브리드 수요가 급격히 늘면서 오히려 수익 확대에 보탬이 될 것으로 보인다.\\n장재훈 현대차 사장은 28일 여의도 콘래드 호텔에서 진행된 \\'CEO 인베스터데이\\'에서 \"하이브리드차를 대폭 확대할 계획이다. 글로벌 판매숫자 대비 40% 증가한 133만대를 목표로 할 것\"이라며 \"글로벌 거점 활용, 혼류생산, 부품 공급망 확보 등을 총동원 할 것이다. 특히 북미 조지아에서도 하이브리드차를 생산할 예정\"이라고 말했다.\\nHMGMA는 현대차, 제네시스, 기아 등 현대차그룹의 전기차 전용 생산 공장이다. 미국 현지에서 생산하지 않은 차량에 보조금을 지급하지 않는 IRA(인플레이션 감축법)가 2년 전 제정되면서 이에 대응하기 위해 대규모 투자를 통해 착공을 시작했었다.\\n착공 당시만 하더라도 테슬라에 이어 미국 내 전기차 판매로 2위를 달성하고 있었던 만큼, 완공 후 전기차만 생산해도 충분한 물량이 받쳐줄 것으로 예상했기 때문이다. 해당 공장은 아이오닉9을 포함해 현대차·기아·제네시스 브랜드 6개 차종 전기차를 연간 30만대 생산하고, 향후 50만대까지 증설이 가능한 규모를 갖출 예정이다.\\n하지만 현대차가 HMGMA에서 하이브리드차를 생산하기로 결정한 것은 최근 2년 간 전기차 판매 속도가 기대만큼 빠르게 증가하지 않고 있기 때문이다. 여전히 지난해 기준 미국 전기차 시장에서 총 9만4340대의 전기차를 팔아 테슬라에 이어 2위를 차지하는 등 선전하고는 있지만, 예상치 못했던 하이브리드차 판매량이 미국 내에서도 급속하게 증가하고 있어서다.\\n현대차는 두 달 앞으로 다가온 HMGMA 완공 전 급하게 방향을 선회한 것으로 보인다. 이미 깔아놓은 전기차 라인을 철거하고, 하이브리드 생산 가능 라인을 투입했을 가능성이 높다.\\n호세 무뇨스 글로벌 최고운영책임자(COO) 사장은 \"미국 조지아 공장은 애초에 전기차 전용공장으로 예상됐었다. 하지만 시장 트렌드를 보니 하이브리드에 대한 수요높아졌고, 좀 더 유연하게 대응하기로 결정했다\"며 \"조금의 투자가 있고, 일부 공장 부분을 조절하면 하이브리드도 생산이 가능하다는 결론에 도달했다. 작은 투자로서 가능했다\"고 말했다.\\n이에 따라 현대차는 10월 가동을 시작하는 시점부터 곧바로 하이브리드차와 전기차 생산을 병행할 수 있게됐다. 하이브리드가 차지하는 비율은 전체 생산량의 3분의 1 수준이다.\\n무뇨스 사장은 \"생산량을 예상해본다면 최대 생산 능력의 약 3분의 1이 하이브리드가 될 수 있을 것으로 보인다\"며 \"그러나 더 많은 배터리 수요가 있을 경우, 더 적거나 많게 조정할 수 있다\"고 말했다.\\n장 사장은 \"중요한 점은 새로운 공장에서 어떻게 더 낮은 비용으로 유연하게 대처할 수 있느냐 하는 것\"이라며 \"우리는 약 30% 비용 절감을 기대하고 있으며, 새로운 공장에서 하이브리드 차량을 생산하는 데 있어 적응성을 갖추고 있다. 시장 수요에 따라 유연하게 대응할 계획\"이라고 말했다.'"
      ]
     },
     "execution_count": 14,
     "metadata": {},
     "output_type": "execute_result"
    }
   ],
   "source": [
    "# 뉴스 본문 데이터 확인하기\n",
    "text = df_news['content'].iloc[0]\n",
    "text"
   ]
  },
  {
   "cell_type": "code",
   "execution_count": 15,
   "metadata": {},
   "outputs": [],
   "source": [
    "# 정규표현식 사용 - 기자 이름 추출\n",
    "import re\n",
    "name_pattern = r'([가-힣]{2,4} 기자)'\n",
    "name_matches = re.findall(name_pattern, text)\n",
    "name = name_matches[0] if name_matches else None\n",
    "name"
   ]
  },
  {
   "cell_type": "code",
   "execution_count": 16,
   "metadata": {},
   "outputs": [],
   "source": [
    "# 정규표현식 사용 - 이메일 주소 추출\n",
    "email_pattern = r'[a-zA-Z0-9._%+-]+@[a-zA-Z0-9.-]+\\.[a-zA-Z]{2,}'\n",
    "email_matches = re.findall(email_pattern, text)\n",
    "email = email_matches[0] if email_matches else None\n",
    "email"
   ]
  },
  {
   "cell_type": "code",
   "execution_count": 17,
   "metadata": {},
   "outputs": [
    {
     "data": {
      "text/plain": [
       "'기자 이름: 없음\\n이메일 주소: 없음'"
      ]
     },
     "execution_count": 17,
     "metadata": {},
     "output_type": "execute_result"
    }
   ],
   "source": [
    "# LLM 활용 - 기자 이름, 이메일 주소 추출\n",
    "from langchain.prompts import PromptTemplate\n",
    "from langchain_openai import ChatOpenAI\n",
    "from langchain_core.output_parsers import StrOutputParser\n",
    "\n",
    "# prompt\n",
    "prompt_template = \"\"\"다음 뉴스 본문에서 기자 이름, 이메일 주소를 추출합니다.\n",
    "\n",
    "<뉴스 본문>\n",
    "{text}\n",
    "</뉴스 본문>\n",
    "\n",
    "기자 이름:\n",
    "이메일 주소:\n",
    "\"\"\"\n",
    "\n",
    "prompt = PromptTemplate.from_template(prompt_template)\n",
    "\n",
    "# LLM\n",
    "llm = ChatOpenAI(temperature=0, model_name=\"gpt-3.5-turbo-0125\",\n",
    "                 api_key=OPENAI_API_KEY)\n",
    "\n",
    "# output parser\n",
    "output_parser = StrOutputParser()\n",
    "\n",
    "# Chain\n",
    "llm_chain = prompt | llm | output_parser\n",
    "\n",
    "response = llm_chain.invoke({\"text\": text})\n",
    "\n",
    "response"
   ]
  },
  {
   "cell_type": "markdown",
   "metadata": {},
   "source": [
    "# 뉴스 본문 요약"
   ]
  },
  {
   "cell_type": "code",
   "execution_count": 18,
   "metadata": {},
   "outputs": [
    {
     "data": {
      "text/plain": [
       "'요점 1: 현대차가 미국 전기차 판매 둔화에 대응하기 위해 하이브리드차 생산 라인을 일부 하이브리드차 생산라인으로 바꾸기로 결정했다.\\n요점 2: HMGMA 완공 후 전기차만 생산할 예정이었으나, 하이브리드차 판매량이 미국 내에서 급속하게 증가하고 있어 하이브리드차 생산을 결정했다.\\n요점 3: 하이브리드차가 전체 생산량의 3분의 1을 차지할 것으로 예상되며, 새로운 공장에서 약 30% 비용 절감을 기대하고 있으며 시장 수요에 따라 유연하게 대응할 계획이다.'"
      ]
     },
     "execution_count": 18,
     "metadata": {},
     "output_type": "execute_result"
    }
   ],
   "source": [
    "# prompt\n",
    "prompt_template = \"\"\"다음 뉴스 본문을 3가지 요점으로 요약합니다. 각 요점은 1줄로 작성합니다.\n",
    "\n",
    "<뉴스 본문>\n",
    "{text}\n",
    "</뉴스 본문>\n",
    "\n",
    "요점 1:\n",
    "요점 2:\n",
    "요점 3:\n",
    "\"\"\"\n",
    "\n",
    "prompt = PromptTemplate.from_template(prompt_template)\n",
    "\n",
    "# LLM\n",
    "llm = ChatOpenAI(temperature=0, model_name=\"gpt-3.5-turbo-0125\",\n",
    "                 api_key=OPENAI_API_KEY)\n",
    "\n",
    "# output parser\n",
    "output_parser = StrOutputParser()\n",
    "\n",
    "# Chain\n",
    "llm_chain = prompt | llm | output_parser\n",
    "\n",
    "response = llm_chain.invoke({\"text\": text})\n",
    "\n",
    "response"
   ]
  },
  {
   "cell_type": "markdown",
   "metadata": {},
   "source": [
    "# 뉴스 키워드 추출"
   ]
  },
  {
   "cell_type": "code",
   "execution_count": 19,
   "metadata": {},
   "outputs": [
    {
     "data": {
      "text/plain": [
       "'현대자동차, 하이브리드차, 미국'"
      ]
     },
     "execution_count": 19,
     "metadata": {},
     "output_type": "execute_result"
    }
   ],
   "source": [
    "# prompt\n",
    "prompt_template = \"\"\"다음 뉴스 본문에서 3가지 키워드를 추출합니다. 각 키워드는 쉼표(,)로 구분합니다.\n",
    "\n",
    "<뉴스 본문>\n",
    "{text}\n",
    "</뉴스 본문>\n",
    "\n",
    "키워드: \n",
    "\"\"\"\n",
    "\n",
    "prompt = PromptTemplate.from_template(prompt_template)\n",
    "\n",
    "# LLM\n",
    "llm = ChatOpenAI(temperature=0, model_name=\"gpt-3.5-turbo-0125\", api_key=OPENAI_API_KEY)\n",
    "\n",
    "# output parser\n",
    "output_parser = StrOutputParser()\n",
    "\n",
    "# Chain\n",
    "llm_chain = prompt | llm | output_parser\n",
    "\n",
    "response = llm_chain.invoke({\"text\": text})\n",
    "\n",
    "response"
   ]
  },
  {
   "cell_type": "markdown",
   "metadata": {},
   "source": [
    "## create_extraction_chain 활용하여 요약, 추출"
   ]
  },
  {
   "cell_type": "code",
   "execution_count": 20,
   "metadata": {},
   "outputs": [
    {
     "data": {
      "text/plain": [
       "'장재훈 현대자동차 사장이 28일 여의도 콘래드 호텔에서 열린 \\'CEO 인베스터데이\\'에서 중장기 전략을 발표하고 있다.ⓒ현대자동차\\n           \\n\\n현대자동차의 미국 전기차 전용공장인 \\'현대차그룹 메타플랜트 아메리카(HMGMA)\\'의 완공이 올 10월로 다가온 가운데, 전기차 판매 둔화에 대응할 카드를 공개했다. 전기차 전용 생산 라인을 일부 하이브리드차 생산라인으로 바꿔 현지 생산 속도를 조절하는 방안이다.\\n국내와 달리 미국에선 전기차 판매가 늘고 있지만, 기존 기대했던 수준보다 시장이 빨리 커지고 있지 않은 탓이다. 최근 미국 내 하이브리드 수요가 급격히 늘면서 오히려 수익 확대에 보탬이 될 것으로 보인다.\\n장재훈 현대차 사장은 28일 여의도 콘래드 호텔에서 진행된 \\'CEO 인베스터데이\\'에서 \"하이브리드차를 대폭 확대할 계획이다. 글로벌 판매숫자 대비 40% 증가한 133만대를 목표로 할 것\"이라며 \"글로벌 거점 활용, 혼류생산, 부품 공급망 확보 등을 총동원 할 것이다. 특히 북미 조지아에서도 하이브리드차를 생산할 예정\"이라고 말했다.\\nHMGMA는 현대차, 제네시스, 기아 등 현대차그룹의 전기차 전용 생산 공장이다. 미국 현지에서 생산하지 않은 차량에 보조금을 지급하지 않는 IRA(인플레이션 감축법)가 2년 전 제정되면서 이에 대응하기 위해 대규모 투자를 통해 착공을 시작했었다.\\n착공 당시만 하더라도 테슬라에 이어 미국 내 전기차 판매로 2위를 달성하고 있었던 만큼, 완공 후 전기차만 생산해도 충분한 물량이 받쳐줄 것으로 예상했기 때문이다. 해당 공장은 아이오닉9을 포함해 현대차·기아·제네시스 브랜드 6개 차종 전기차를 연간 30만대 생산하고, 향후 50만대까지 증설이 가능한 규모를 갖출 예정이다.\\n하지만 현대차가 HMGMA에서 하이브리드차를 생산하기로 결정한 것은 최근 2년 간 전기차 판매 속도가 기대만큼 빠르게 증가하지 않고 있기 때문이다. 여전히 지난해 기준 미국 전기차 시장에서 총 9만4340대의 전기차를 팔아 테슬라에 이어 2위를 차지하는 등 선전하고는 있지만, 예상치 못했던 하이브리드차 판매량이 미국 내에서도 급속하게 증가하고 있어서다.\\n현대차는 두 달 앞으로 다가온 HMGMA 완공 전 급하게 방향을 선회한 것으로 보인다. 이미 깔아놓은 전기차 라인을 철거하고, 하이브리드 생산 가능 라인을 투입했을 가능성이 높다.\\n호세 무뇨스 글로벌 최고운영책임자(COO) 사장은 \"미국 조지아 공장은 애초에 전기차 전용공장으로 예상됐었다. 하지만 시장 트렌드를 보니 하이브리드에 대한 수요높아졌고, 좀 더 유연하게 대응하기로 결정했다\"며 \"조금의 투자가 있고, 일부 공장 부분을 조절하면 하이브리드도 생산이 가능하다는 결론에 도달했다. 작은 투자로서 가능했다\"고 말했다.\\n이에 따라 현대차는 10월 가동을 시작하는 시점부터 곧바로 하이브리드차와 전기차 생산을 병행할 수 있게됐다. 하이브리드가 차지하는 비율은 전체 생산량의 3분의 1 수준이다.\\n무뇨스 사장은 \"생산량을 예상해본다면 최대 생산 능력의 약 3분의 1이 하이브리드가 될 수 있을 것으로 보인다\"며 \"그러나 더 많은 배터리 수요가 있을 경우, 더 적거나 많게 조정할 수 있다\"고 말했다.\\n장 사장은 \"중요한 점은 새로운 공장에서 어떻게 더 낮은 비용으로 유연하게 대처할 수 있느냐 하는 것\"이라며 \"우리는 약 30% 비용 절감을 기대하고 있으며, 새로운 공장에서 하이브리드 차량을 생산하는 데 있어 적응성을 갖추고 있다. 시장 수요에 따라 유연하게 대응할 계획\"이라고 말했다.'"
      ]
     },
     "execution_count": 20,
     "metadata": {},
     "output_type": "execute_result"
    }
   ],
   "source": [
    "text"
   ]
  },
  {
   "cell_type": "code",
   "execution_count": 21,
   "metadata": {},
   "outputs": [
    {
     "data": {
      "text/plain": [
       "{'input': '장재훈 현대자동차 사장이 28일 여의도 콘래드 호텔에서 열린 \\'CEO 인베스터데이\\'에서 중장기 전략을 발표하고 있다.ⓒ현대자동차\\n           \\n\\n현대자동차의 미국 전기차 전용공장인 \\'현대차그룹 메타플랜트 아메리카(HMGMA)\\'의 완공이 올 10월로 다가온 가운데, 전기차 판매 둔화에 대응할 카드를 공개했다. 전기차 전용 생산 라인을 일부 하이브리드차 생산라인으로 바꿔 현지 생산 속도를 조절하는 방안이다.\\n국내와 달리 미국에선 전기차 판매가 늘고 있지만, 기존 기대했던 수준보다 시장이 빨리 커지고 있지 않은 탓이다. 최근 미국 내 하이브리드 수요가 급격히 늘면서 오히려 수익 확대에 보탬이 될 것으로 보인다.\\n장재훈 현대차 사장은 28일 여의도 콘래드 호텔에서 진행된 \\'CEO 인베스터데이\\'에서 \"하이브리드차를 대폭 확대할 계획이다. 글로벌 판매숫자 대비 40% 증가한 133만대를 목표로 할 것\"이라며 \"글로벌 거점 활용, 혼류생산, 부품 공급망 확보 등을 총동원 할 것이다. 특히 북미 조지아에서도 하이브리드차를 생산할 예정\"이라고 말했다.\\nHMGMA는 현대차, 제네시스, 기아 등 현대차그룹의 전기차 전용 생산 공장이다. 미국 현지에서 생산하지 않은 차량에 보조금을 지급하지 않는 IRA(인플레이션 감축법)가 2년 전 제정되면서 이에 대응하기 위해 대규모 투자를 통해 착공을 시작했었다.\\n착공 당시만 하더라도 테슬라에 이어 미국 내 전기차 판매로 2위를 달성하고 있었던 만큼, 완공 후 전기차만 생산해도 충분한 물량이 받쳐줄 것으로 예상했기 때문이다. 해당 공장은 아이오닉9을 포함해 현대차·기아·제네시스 브랜드 6개 차종 전기차를 연간 30만대 생산하고, 향후 50만대까지 증설이 가능한 규모를 갖출 예정이다.\\n하지만 현대차가 HMGMA에서 하이브리드차를 생산하기로 결정한 것은 최근 2년 간 전기차 판매 속도가 기대만큼 빠르게 증가하지 않고 있기 때문이다. 여전히 지난해 기준 미국 전기차 시장에서 총 9만4340대의 전기차를 팔아 테슬라에 이어 2위를 차지하는 등 선전하고는 있지만, 예상치 못했던 하이브리드차 판매량이 미국 내에서도 급속하게 증가하고 있어서다.\\n현대차는 두 달 앞으로 다가온 HMGMA 완공 전 급하게 방향을 선회한 것으로 보인다. 이미 깔아놓은 전기차 라인을 철거하고, 하이브리드 생산 가능 라인을 투입했을 가능성이 높다.\\n호세 무뇨스 글로벌 최고운영책임자(COO) 사장은 \"미국 조지아 공장은 애초에 전기차 전용공장으로 예상됐었다. 하지만 시장 트렌드를 보니 하이브리드에 대한 수요높아졌고, 좀 더 유연하게 대응하기로 결정했다\"며 \"조금의 투자가 있고, 일부 공장 부분을 조절하면 하이브리드도 생산이 가능하다는 결론에 도달했다. 작은 투자로서 가능했다\"고 말했다.\\n이에 따라 현대차는 10월 가동을 시작하는 시점부터 곧바로 하이브리드차와 전기차 생산을 병행할 수 있게됐다. 하이브리드가 차지하는 비율은 전체 생산량의 3분의 1 수준이다.\\n무뇨스 사장은 \"생산량을 예상해본다면 최대 생산 능력의 약 3분의 1이 하이브리드가 될 수 있을 것으로 보인다\"며 \"그러나 더 많은 배터리 수요가 있을 경우, 더 적거나 많게 조정할 수 있다\"고 말했다.\\n장 사장은 \"중요한 점은 새로운 공장에서 어떻게 더 낮은 비용으로 유연하게 대처할 수 있느냐 하는 것\"이라며 \"우리는 약 30% 비용 절감을 기대하고 있으며, 새로운 공장에서 하이브리드 차량을 생산하는 데 있어 적응성을 갖추고 있다. 시장 수요에 따라 유연하게 대응할 계획\"이라고 말했다.',\n",
       " 'text': [{'뉴스_제목': \"장재훈 현대자동차 사장, 'CEO 인베스터데이'서 중장기 전략 발표\",\n",
       "   '뉴스_카테고리': '기업',\n",
       "   '뉴스_요약': \"현대자동차의 미국 전기차 전용공장 'HMGMA'의 완공과 전략 발표\",\n",
       "   '뉴스_키워드': '현대자동차, HMGMA, 전기차, 하이브리드차, 미국',\n",
       "   '기자_이름': '미상',\n",
       "   '기자_이메일': '미상'}]}"
      ]
     },
     "execution_count": 21,
     "metadata": {},
     "output_type": "execute_result"
    }
   ],
   "source": [
    "from langchain.chains import create_extraction_chain\n",
    "from langchain_openai import ChatOpenAI\n",
    "\n",
    "# 스키마 정의\n",
    "schema = {\n",
    "    \"properties\": {\n",
    "        \"뉴스_제목\": {\"type\": \"string\"},\n",
    "        \"뉴스_카테고리\": {\"type\": \"string\"},\n",
    "        \"뉴스_요약\": {\"type\": \"string\"},\n",
    "        \"뉴스_키워드\": {\"type\": \"string\"},\n",
    "        \"기자_이름\": {\"type\": \"string\"},\n",
    "        \"기자_이메일\": {\"type\": \"string\"},\n",
    "    },\n",
    "    \"required\": [\"뉴스_제목\", \"뉴스_카테고리\", \"뉴스_요약\", \"뉴스_키워드\", \"기자_이름\", \"기자_이메일\"],\n",
    "}\n",
    "\n",
    "# LLM 생성\n",
    "llm = ChatOpenAI(temperature=0, model_name=\"gpt-3.5-turbo-0125\", api_key=OPENAI_API_KEY)\n",
    "\n",
    "# Chain 생성\n",
    "chain = create_extraction_chain(schema=schema, llm=llm)\n",
    "\n",
    "# Chain 실행\n",
    "response = chain.invoke(text)\n",
    "\n",
    "# 결과 확인\n",
    "response"
   ]
  },
  {
   "cell_type": "code",
   "execution_count": 22,
   "metadata": {},
   "outputs": [
    {
     "data": {
      "text/plain": [
       "{'input': '장재훈 현대자동차 사장이 28일 여의도 콘래드 호텔에서 열린 \\'CEO 인베스터데이\\'에서 중장기 전략을 발표하고 있다.ⓒ현대자동차\\n           \\n\\n현대자동차의 미국 전기차 전용공장인 \\'현대차그룹 메타플랜트 아메리카(HMGMA)\\'의 완공이 올 10월로 다가온 가운데, 전기차 판매 둔화에 대응할 카드를 공개했다. 전기차 전용 생산 라인을 일부 하이브리드차 생산라인으로 바꿔 현지 생산 속도를 조절하는 방안이다.\\n국내와 달리 미국에선 전기차 판매가 늘고 있지만, 기존 기대했던 수준보다 시장이 빨리 커지고 있지 않은 탓이다. 최근 미국 내 하이브리드 수요가 급격히 늘면서 오히려 수익 확대에 보탬이 될 것으로 보인다.\\n장재훈 현대차 사장은 28일 여의도 콘래드 호텔에서 진행된 \\'CEO 인베스터데이\\'에서 \"하이브리드차를 대폭 확대할 계획이다. 글로벌 판매숫자 대비 40% 증가한 133만대를 목표로 할 것\"이라며 \"글로벌 거점 활용, 혼류생산, 부품 공급망 확보 등을 총동원 할 것이다. 특히 북미 조지아에서도 하이브리드차를 생산할 예정\"이라고 말했다.\\nHMGMA는 현대차, 제네시스, 기아 등 현대차그룹의 전기차 전용 생산 공장이다. 미국 현지에서 생산하지 않은 차량에 보조금을 지급하지 않는 IRA(인플레이션 감축법)가 2년 전 제정되면서 이에 대응하기 위해 대규모 투자를 통해 착공을 시작했었다.\\n착공 당시만 하더라도 테슬라에 이어 미국 내 전기차 판매로 2위를 달성하고 있었던 만큼, 완공 후 전기차만 생산해도 충분한 물량이 받쳐줄 것으로 예상했기 때문이다. 해당 공장은 아이오닉9을 포함해 현대차·기아·제네시스 브랜드 6개 차종 전기차를 연간 30만대 생산하고, 향후 50만대까지 증설이 가능한 규모를 갖출 예정이다.\\n하지만 현대차가 HMGMA에서 하이브리드차를 생산하기로 결정한 것은 최근 2년 간 전기차 판매 속도가 기대만큼 빠르게 증가하지 않고 있기 때문이다. 여전히 지난해 기준 미국 전기차 시장에서 총 9만4340대의 전기차를 팔아 테슬라에 이어 2위를 차지하는 등 선전하고는 있지만, 예상치 못했던 하이브리드차 판매량이 미국 내에서도 급속하게 증가하고 있어서다.\\n현대차는 두 달 앞으로 다가온 HMGMA 완공 전 급하게 방향을 선회한 것으로 보인다. 이미 깔아놓은 전기차 라인을 철거하고, 하이브리드 생산 가능 라인을 투입했을 가능성이 높다.\\n호세 무뇨스 글로벌 최고운영책임자(COO) 사장은 \"미국 조지아 공장은 애초에 전기차 전용공장으로 예상됐었다. 하지만 시장 트렌드를 보니 하이브리드에 대한 수요높아졌고, 좀 더 유연하게 대응하기로 결정했다\"며 \"조금의 투자가 있고, 일부 공장 부분을 조절하면 하이브리드도 생산이 가능하다는 결론에 도달했다. 작은 투자로서 가능했다\"고 말했다.\\n이에 따라 현대차는 10월 가동을 시작하는 시점부터 곧바로 하이브리드차와 전기차 생산을 병행할 수 있게됐다. 하이브리드가 차지하는 비율은 전체 생산량의 3분의 1 수준이다.\\n무뇨스 사장은 \"생산량을 예상해본다면 최대 생산 능력의 약 3분의 1이 하이브리드가 될 수 있을 것으로 보인다\"며 \"그러나 더 많은 배터리 수요가 있을 경우, 더 적거나 많게 조정할 수 있다\"고 말했다.\\n장 사장은 \"중요한 점은 새로운 공장에서 어떻게 더 낮은 비용으로 유연하게 대처할 수 있느냐 하는 것\"이라며 \"우리는 약 30% 비용 절감을 기대하고 있으며, 새로운 공장에서 하이브리드 차량을 생산하는 데 있어 적응성을 갖추고 있다. 시장 수요에 따라 유연하게 대응할 계획\"이라고 말했다.',\n",
       " 'text': [{'뉴스_제목': \"장재훈 현대자동차 사장, 'CEO 인베스터데이'서 중장기 전략 발표\",\n",
       "   '뉴스_카테고리': '경제',\n",
       "   '뉴스_요약': \"현대자동차의 미국 전기차 전용공장 'HMGMA'의 완공과 전략 발표\",\n",
       "   '뉴스_키워드': '현대자동차, 전기차, 하이브리드차',\n",
       "   '기자_이름': '미상',\n",
       "   '기자_이메일': '미상'}]}"
      ]
     },
     "execution_count": 22,
     "metadata": {},
     "output_type": "execute_result"
    }
   ],
   "source": [
    "# prompt 추가\n",
    "\n",
    "from langchain_core.prompts import ChatPromptTemplate\n",
    "\n",
    "prompt_template = \"\"\"Extract and save the relevant entities mentioned \\\n",
    "in the following passage together with their properties.\n",
    "\n",
    "Only extract the properties mentioned in the 'information_extraction' function.\n",
    "\n",
    "If a property is not present and is not required in the function parameters, do not include it in the output.\n",
    "\n",
    "For keywords, extract at most 3 keywords.\n",
    "For categories, use the following categories: '정치', '경제', '사회', '문화', '세계', '과학', '기술', '스포츠', '엔터', '건강'.\n",
    "\n",
    "Passage:\n",
    "{input}\n",
    "\"\"\" \n",
    "\n",
    "prompt = ChatPromptTemplate.from_template(prompt_template)\n",
    "\n",
    "chain = create_extraction_chain(schema=schema, llm=llm, prompt=prompt)\n",
    "\n",
    "# Chain 실행\n",
    "response = chain.invoke(text)\n",
    "\n",
    "# 결과 확인\n",
    "response"
   ]
  },
  {
   "cell_type": "code",
   "execution_count": null,
   "metadata": {},
   "outputs": [],
   "source": []
  }
 ],
 "metadata": {
  "kernelspec": {
   "display_name": "toy-pjt-b",
   "language": "python",
   "name": "python3"
  },
  "language_info": {
   "codemirror_mode": {
    "name": "ipython",
    "version": 3
   },
   "file_extension": ".py",
   "mimetype": "text/x-python",
   "name": "python",
   "nbconvert_exporter": "python",
   "pygments_lexer": "ipython3",
   "version": "3.11.9"
  }
 },
 "nbformat": 4,
 "nbformat_minor": 4
}
