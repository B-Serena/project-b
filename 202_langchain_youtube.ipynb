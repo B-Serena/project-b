{
 "cells": [
  {
   "cell_type": "markdown",
   "metadata": {},
   "source": [
    "# 라이브러리 불러오기"
   ]
  },
  {
   "cell_type": "code",
   "execution_count": 2,
   "metadata": {},
   "outputs": [],
   "source": [
    "import pandas as pd\n",
    "import numpy as np\n",
    "\n",
    "import matplotlib.pyplot as plt\n",
    "import seaborn as sns\n",
    "import re\n",
    "\n",
    "# 한글 폰트 설정\n",
    "import matplotlib.font_manager as fm\n",
    "\n",
    "font_path = '/System/Library/Fonts/Supplemental/AppleGothic.ttf'\n",
    "\n",
    "font_name = fm.FontProperties(fname=font_path).get_name()\n",
    "plt.rc('font', family=font_name)\n",
    "\n",
    "# 경고 문구 미표\n",
    "import warnings\n",
    "warnings.filterwarnings('ignore')"
   ]
  },
  {
   "cell_type": "markdown",
   "metadata": {},
   "source": [
    "# YouTubeSearchTool \n",
    "- 유튜브 검색해서 URL 목록을 제공하는 도구\n",
    "- 검색어: 키워드,개수"
   ]
  },
  {
   "cell_type": "code",
   "execution_count": 20,
   "metadata": {},
   "outputs": [],
   "source": [
    "from langchain_community.tools import YouTubeSearchTool\n",
    "\n",
    "tool = YouTubeSearchTool()"
   ]
  },
  {
   "cell_type": "code",
   "execution_count": 21,
   "metadata": {},
   "outputs": [],
   "source": [
    "results = tool.run(\"코스트코 상품 리뷰,10\")"
   ]
  },
  {
   "cell_type": "code",
   "execution_count": 22,
   "metadata": {},
   "outputs": [
    {
     "name": "stdout",
     "output_type": "stream",
     "text": [
      "['https://www.youtube.com/watch?v=EXoJljoSxjY&pp=ygUa7L2U7Iqk7Yq47L2UIOyDge2SiCDrpqzrt7A%3D', 'https://www.youtube.com/watch?v=1RCfyEInSH0&pp=ygUa7L2U7Iqk7Yq47L2UIOyDge2SiCDrpqzrt7A%3D', 'https://www.youtube.com/watch?v=PNXft5OD3bA&pp=ygUa7L2U7Iqk7Yq47L2UIOyDge2SiCDrpqzrt7A%3D', 'https://www.youtube.com/watch?v=0LxUgZgDR9k&pp=ygUa7L2U7Iqk7Yq47L2UIOyDge2SiCDrpqzrt7A%3D', 'https://www.youtube.com/watch?v=Z-Lph_o0_MU&pp=ygUa7L2U7Iqk7Yq47L2UIOyDge2SiCDrpqzrt7A%3D', 'https://www.youtube.com/watch?v=78dBvzXwk1o&pp=ygUa7L2U7Iqk7Yq47L2UIOyDge2SiCDrpqzrt7A%3D', 'https://www.youtube.com/shorts/gC4XcZUB4ew', 'https://www.youtube.com/shorts/D-0JnRp47SM', 'https://www.youtube.com/watch?v=qDBXlv4W1J8&pp=ygUa7L2U7Iqk7Yq47L2UIOyDge2SiCDrpqzrt7A%3D', 'https://www.youtube.com/shorts/pEemiNJHmsU']\n"
     ]
    }
   ],
   "source": [
    "# 문자열을 파이썬 리스트로 변환\n",
    "import json\n",
    "url_list = json.loads(results.replace(\"'\", '\"'))\n",
    "\n",
    "# 결과 출력\n",
    "print(url_list)"
   ]
  },
  {
   "cell_type": "code",
   "execution_count": 23,
   "metadata": {},
   "outputs": [
    {
     "data": {
      "text/plain": [
       "10"
      ]
     },
     "execution_count": 23,
     "metadata": {},
     "output_type": "execute_result"
    }
   ],
   "source": [
    "len(url_list)"
   ]
  },
  {
   "cell_type": "code",
   "execution_count": 24,
   "metadata": {},
   "outputs": [
    {
     "data": {
      "text/plain": [
       "'https://www.youtube.com/watch?v=EXoJljoSxjY&pp=ygUa7L2U7Iqk7Yq47L2UIOyDge2SiCDrpqzrt7A%3D'"
      ]
     },
     "execution_count": 24,
     "metadata": {},
     "output_type": "execute_result"
    }
   ],
   "source": [
    "url_list[0]"
   ]
  },
  {
   "cell_type": "code",
   "execution_count": 25,
   "metadata": {},
   "outputs": [
    {
     "data": {
      "text/plain": [
       "17"
      ]
     },
     "execution_count": 25,
     "metadata": {},
     "output_type": "execute_result"
    }
   ],
   "source": [
    "# 함수로 정의\n",
    "def search_youtube(keyword, max_results=20):\n",
    "    \"\"\"\n",
    "    유튜브에서 키워드 검색 결과를 가져오는 함수\n",
    "    Args:\n",
    "        keyword: 검색할 키워드\n",
    "        max_results: 가져올 최대 결과 수\n",
    "    Returns:\n",
    "        url_list: 검색 결과의 URL 리스트\n",
    "    \"\"\"\n",
    "    tool = YouTubeSearchTool()\n",
    "    results = tool.run(f\"{keyword},{max_results}\")\n",
    "    url_list = json.loads(results.replace(\"'\", '\"'))\n",
    "    return url_list\n",
    "\n",
    "\n",
    "# 함수 실행\n",
    "url_list = search_youtube(\"코스트코 상품 리뷰\")\n",
    "len(url_list)"
   ]
  },
  {
   "cell_type": "code",
   "execution_count": 26,
   "metadata": {},
   "outputs": [
    {
     "data": {
      "text/plain": [
       "9"
      ]
     },
     "execution_count": 26,
     "metadata": {},
     "output_type": "execute_result"
    }
   ],
   "source": [
    "url_list2 = search_youtube(\"코스트코 상품 리뷰\")\n",
    "len(url_list2)"
   ]
  },
  {
   "cell_type": "code",
   "execution_count": 27,
   "metadata": {},
   "outputs": [
    {
     "data": {
      "text/plain": [
       "9"
      ]
     },
     "execution_count": 27,
     "metadata": {},
     "output_type": "execute_result"
    }
   ],
   "source": [
    "len(set(url_list) - set(url_list2))"
   ]
  },
  {
   "cell_type": "markdown",
   "metadata": {},
   "source": [
    "# YoutubeLoader\n",
    "- url을 입력하면 유튜브 자막을 추출하여 문서 객체로 변환\n",
    "- add_video_info: 비디오 정보를 추가"
   ]
  },
  {
   "cell_type": "code",
   "execution_count": 28,
   "metadata": {},
   "outputs": [
    {
     "name": "stdout",
     "output_type": "stream",
     "text": [
      "1\n",
      "page_content='코스트코 직원들도 못 구하는 코스트코 희귀템 탑 4 하정우 와인으로 유명한 와인이 있습니다 그래서 더 구하기 힘들어진 거 같은데요 바로 커클랜드 말보로 쇼미용 화이트 와인입니다 달콤한 편이 아니라 거의 드라이에 가까워요 과실향과 산미가 풍부하고 어떤 음식에도 잘 어울립니다 물에 닿아도 잘 찢어지지 않는 키친 타울 바로 커클랜드 키친 타올인쇄 한 장의 크기가 가로 28cm 새로 18cm 커다랗게 때문에 무려 한 장만으로도 프라이팬을 싹 닦을 수 있어요 코스트코 치즈케이크 애플파이 이건 너무 유명하잖아요 거기에 도해 하나만 더 추천드리면 생과일 타르트 한번 드셔 보세요 망고 자몽 키위 세 종류의 과일이 큼지막하게 올려져 있는데요 입안 가득한 식감 무조건 추천합니다 다이어트나 운동하시는 분들에게 필수 제품으로 소문난 커클랜드 프로틴 바입니다 맛도 좋지만 편의성이 좋아서 운동하시는 분들에게는 이만한게 없죠' metadata={'source': '6VNnEYbftbE', 'title': '입고되면 하루만에 품절되는 코스트코 추천템 TOP4! 코스트코 가서 눈에 보이면 바로 구매하셔야 합니다!', 'description': 'Unknown', 'view_count': 293256, 'thumbnail_url': 'https://i.ytimg.com/vi/6VNnEYbftbE/hq720.jpg?sqp=-oaymwEoCIAKENAF8quKqQMcGADwAQH4AbYIgAKAD4oCDAgAEAEYRCBlKGIwDw==&rs=AOn4CLDYDMZ1_EiGm5YT6QH_PQ36Dyc8Cg', 'publish_date': '2024-06-18 00:00:00', 'length': 52, 'author': '살림연구소 오클'}\n",
      "{'source': '6VNnEYbftbE', 'title': '입고되면 하루만에 품절되는 코스트코 추천템 TOP4! 코스트코 가서 눈에 보이면 바로 구매하셔야 합니다!', 'description': 'Unknown', 'view_count': 293256, 'thumbnail_url': 'https://i.ytimg.com/vi/6VNnEYbftbE/hq720.jpg?sqp=-oaymwEoCIAKENAF8quKqQMcGADwAQH4AbYIgAKAD4oCDAgAEAEYRCBlKGIwDw==&rs=AOn4CLDYDMZ1_EiGm5YT6QH_PQ36Dyc8Cg', 'publish_date': '2024-06-18 00:00:00', 'length': 52, 'author': '살림연구소 오클'}\n"
     ]
    }
   ],
   "source": [
    "from langchain_community.document_loaders import YoutubeLoader\n",
    "\n",
    "# 자막을 포함한 동영상 정보를 가져오기\n",
    "loader = YoutubeLoader.from_youtube_url(\n",
    "    url_list[0], \n",
    "    add_video_info=True,\n",
    "    language=[\"ko\", \"en\"],\n",
    "    translation=\"ko\",\n",
    ")\n",
    "\n",
    "docs = loader.load()\n",
    "print(len(docs))\n",
    "print(docs[0])\n",
    "print(docs[0].metadata)"
   ]
  },
  {
   "cell_type": "code",
   "execution_count": 29,
   "metadata": {},
   "outputs": [
    {
     "name": "stdout",
     "output_type": "stream",
     "text": [
      "1\n",
      "page_content='코스트코 직원들도 못 구하는 코스트코 희귀템 탑 4 하정우 와인으로 유명한 와인이 있습니다 그래서 더 구하기 힘들어진 거 같은데요 바로 커클랜드 말보로 쇼미용 화이트 와인입니다 달콤한 편이 아니라 거의 드라이에 가까워요 과실향과 산미가 풍부하고 어떤 음식에도 잘 어울립니다 물에 닿아도 잘 찢어지지 않는 키친 타울 바로 커클랜드 키친 타올인쇄 한 장의 크기가 가로 28cm 새로 18cm 커다랗게 때문에 무려 한 장만으로도 프라이팬을 싹 닦을 수 있어요 코스트코 치즈케이크 애플파이 이건 너무 유명하잖아요 거기에 도해 하나만 더 추천드리면 생과일 타르트 한번 드셔 보세요 망고 자몽 키위 세 종류의 과일이 큼지막하게 올려져 있는데요 입안 가득한 식감 무조건 추천합니다 다이어트나 운동하시는 분들에게 필수 제품으로 소문난 커클랜드 프로틴 바입니다 맛도 좋지만 편의성이 좋아서 운동하시는 분들에게는 이만한게 없죠' metadata={'source': '6VNnEYbftbE', 'title': '입고되면 하루만에 품절되는 코스트코 추천템 TOP4! 코스트코 가서 눈에 보이면 바로 구매하셔야 합니다!', 'description': 'Unknown', 'view_count': 293272, 'thumbnail_url': 'https://i.ytimg.com/vi/6VNnEYbftbE/hq720.jpg?sqp=-oaymwEoCIAKENAF8quKqQMcGADwAQH4AbYIgAKAD4oCDAgAEAEYRCBlKGIwDw==&rs=AOn4CLDYDMZ1_EiGm5YT6QH_PQ36Dyc8Cg', 'publish_date': '2024-06-18 00:00:00', 'length': 52, 'author': '살림연구소 오클'}\n"
     ]
    }
   ],
   "source": [
    "# 함수를 정의\n",
    "def get_youtube_video_transcript(url):\n",
    "    \"\"\"\n",
    "    YouTube 동영상의 자막을 가져오는 함수\n",
    "    Args:\n",
    "        url (str): YouTube 동영상 URL\n",
    "    Returns:\n",
    "        Document: 동영상 자막 정보 객체\n",
    "    \"\"\"\n",
    "    loader = YoutubeLoader.from_youtube_url(\n",
    "        url,\n",
    "        add_video_info=True,\n",
    "        language=[\"ko\", \"en\"],\n",
    "        translation=\"ko\",\n",
    "    )\n",
    "\n",
    "    docs = loader.load()\n",
    "    return docs\n",
    "\n",
    "# 함수 실행\n",
    "docs = get_youtube_video_transcript(url_list[0])\n",
    "print(len(docs))\n",
    "print(docs[0])"
   ]
  },
  {
   "cell_type": "markdown",
   "metadata": {},
   "source": [
    "# create_extraction_chain 활용하여 요약, 추출"
   ]
  },
  {
   "cell_type": "code",
   "execution_count": 65,
   "metadata": {},
   "outputs": [],
   "source": [
    "import os\n",
    "from dotenv import load_dotenv\n",
    "\n",
    "load_dotenv()\n",
    "\n",
    "OPENAI_API_KEY = os.environ[\"OPENAI_API_KEY\"]"
   ]
  },
  {
   "cell_type": "code",
   "execution_count": 31,
   "metadata": {},
   "outputs": [
    {
     "data": {
      "text/plain": [
       "Document(page_content='코스트코 직원들도 못 구하는 코스트코 희귀템 탑 4 하정우 와인으로 유명한 와인이 있습니다 그래서 더 구하기 힘들어진 거 같은데요 바로 커클랜드 말보로 쇼미용 화이트 와인입니다 달콤한 편이 아니라 거의 드라이에 가까워요 과실향과 산미가 풍부하고 어떤 음식에도 잘 어울립니다 물에 닿아도 잘 찢어지지 않는 키친 타울 바로 커클랜드 키친 타올인쇄 한 장의 크기가 가로 28cm 새로 18cm 커다랗게 때문에 무려 한 장만으로도 프라이팬을 싹 닦을 수 있어요 코스트코 치즈케이크 애플파이 이건 너무 유명하잖아요 거기에 도해 하나만 더 추천드리면 생과일 타르트 한번 드셔 보세요 망고 자몽 키위 세 종류의 과일이 큼지막하게 올려져 있는데요 입안 가득한 식감 무조건 추천합니다 다이어트나 운동하시는 분들에게 필수 제품으로 소문난 커클랜드 프로틴 바입니다 맛도 좋지만 편의성이 좋아서 운동하시는 분들에게는 이만한게 없죠', metadata={'source': '6VNnEYbftbE', 'title': '입고되면 하루만에 품절되는 코스트코 추천템 TOP4! 코스트코 가서 눈에 보이면 바로 구매하셔야 합니다!', 'description': 'Unknown', 'view_count': 293272, 'thumbnail_url': 'https://i.ytimg.com/vi/6VNnEYbftbE/hq720.jpg?sqp=-oaymwEoCIAKENAF8quKqQMcGADwAQH4AbYIgAKAD4oCDAgAEAEYRCBlKGIwDw==&rs=AOn4CLDYDMZ1_EiGm5YT6QH_PQ36Dyc8Cg', 'publish_date': '2024-06-18 00:00:00', 'length': 52, 'author': '살림연구소 오클'})"
      ]
     },
     "execution_count": 31,
     "metadata": {},
     "output_type": "execute_result"
    }
   ],
   "source": [
    "docs[0]"
   ]
  },
  {
   "cell_type": "code",
   "execution_count": 32,
   "metadata": {},
   "outputs": [
    {
     "data": {
      "text/plain": [
       "{'input': Document(page_content='코스트코 직원들도 못 구하는 코스트코 희귀템 탑 4 하정우 와인으로 유명한 와인이 있습니다 그래서 더 구하기 힘들어진 거 같은데요 바로 커클랜드 말보로 쇼미용 화이트 와인입니다 달콤한 편이 아니라 거의 드라이에 가까워요 과실향과 산미가 풍부하고 어떤 음식에도 잘 어울립니다 물에 닿아도 잘 찢어지지 않는 키친 타울 바로 커클랜드 키친 타올인쇄 한 장의 크기가 가로 28cm 새로 18cm 커다랗게 때문에 무려 한 장만으로도 프라이팬을 싹 닦을 수 있어요 코스트코 치즈케이크 애플파이 이건 너무 유명하잖아요 거기에 도해 하나만 더 추천드리면 생과일 타르트 한번 드셔 보세요 망고 자몽 키위 세 종류의 과일이 큼지막하게 올려져 있는데요 입안 가득한 식감 무조건 추천합니다 다이어트나 운동하시는 분들에게 필수 제품으로 소문난 커클랜드 프로틴 바입니다 맛도 좋지만 편의성이 좋아서 운동하시는 분들에게는 이만한게 없죠', metadata={'source': '6VNnEYbftbE', 'title': '입고되면 하루만에 품절되는 코스트코 추천템 TOP4! 코스트코 가서 눈에 보이면 바로 구매하셔야 합니다!', 'description': 'Unknown', 'view_count': 293272, 'thumbnail_url': 'https://i.ytimg.com/vi/6VNnEYbftbE/hq720.jpg?sqp=-oaymwEoCIAKENAF8quKqQMcGADwAQH4AbYIgAKAD4oCDAgAEAEYRCBlKGIwDw==&rs=AOn4CLDYDMZ1_EiGm5YT6QH_PQ36Dyc8Cg', 'publish_date': '2024-06-18 00:00:00', 'length': 52, 'author': '살림연구소 오클'}),\n",
       " 'text': [{'상품_이름': '커클랜드 말보로 쇼미용 화이트 와인',\n",
       "   '상품_설명': '달콤한 편이 아니라 거의 드라이에 가까워요 과실향과 산미가 풍부하고 어떤 음식에도 잘 어울립니다',\n",
       "   '상품_가격': 'N/A',\n",
       "   '상품_평가': 'N/A'},\n",
       "  {'상품_이름': '커클랜드 키친 타올',\n",
       "   '상품_설명': '한 장의 크기가 가로 28cm 새로 18cm 커다랗게 때문에 무려 한 장만으로도 프라이팬을 싹 닦을 수 있어요',\n",
       "   '상품_가격': 'N/A',\n",
       "   '상품_평가': 'N/A'},\n",
       "  {'상품_이름': '코스트코 치즈케이크', '상품_설명': 'N/A', '상품_가격': 'N/A', '상품_평가': 'N/A'},\n",
       "  {'상품_이름': '생과일 타르트',\n",
       "   '상품_설명': '망고 자몽 키위 세 종류의 과일이 큼지막하게 올려져 있는데요 입안 가득한 식감 무조건 추천합니다',\n",
       "   '상품_가격': 'N/A',\n",
       "   '상품_평가': 'N/A'},\n",
       "  {'상품_이름': '커클랜드 프로틴 바',\n",
       "   '상품_설명': '맛도 좋지만 편의성이 좋아서 운동하시는 분들에게는 이만한게 없죠',\n",
       "   '상품_가격': 'N/A',\n",
       "   '상품_평가': 'N/A'}]}"
      ]
     },
     "execution_count": 32,
     "metadata": {},
     "output_type": "execute_result"
    }
   ],
   "source": [
    "from langchain.chains import create_extraction_chain\n",
    "from langchain_openai import ChatOpenAI\n",
    "from langchain_core.prompts import ChatPromptTemplate\n",
    "\n",
    "# 스키마 정의\n",
    "schema = {\n",
    "    \"properties\": {\n",
    "        \"상품_이름\": {\"type\": \"string\"},\n",
    "        \"상품_설명\": {\"type\": \"string\"},\n",
    "        \"상품_가격\": {\"type\": \"string\"},\n",
    "        \"상품_평가\": {\"type\": \"string\"},\n",
    "    },\n",
    "    \"required\": [\"상품_이름\", \"상품_설명\", \"상품_가격\", \"상품_평가\"],\n",
    "}\n",
    "\n",
    "\n",
    "# Chain 생성\n",
    "prompt_template = \"\"\"Extract and save the relevant entities mentioned \\\n",
    "in the following passage together with their properties. \n",
    "Only extract the properties mentioned in the 'information_extraction' function. \\\n",
    "When no suitable data is present, show the default value 'N/A'.\n",
    "\n",
    "Passage:\n",
    "{input}\n",
    "\"\"\" \n",
    "\n",
    "prompt = ChatPromptTemplate.from_template(prompt_template)\n",
    "llm = ChatOpenAI(temperature=0, model_name=\"gpt-3.5-turbo-0125\", api_key=OPENAI_API_KEY)\n",
    "chain = create_extraction_chain(schema=schema, llm=llm, prompt=prompt)\n",
    "\n",
    "# Chain 실행\n",
    "response = chain.invoke(docs[0])\n",
    "\n",
    "# 결과 확인\n",
    "response"
   ]
  },
  {
   "cell_type": "code",
   "execution_count": 33,
   "metadata": {},
   "outputs": [
    {
     "data": {
      "text/html": [
       "<div>\n",
       "<style scoped>\n",
       "    .dataframe tbody tr th:only-of-type {\n",
       "        vertical-align: middle;\n",
       "    }\n",
       "\n",
       "    .dataframe tbody tr th {\n",
       "        vertical-align: top;\n",
       "    }\n",
       "\n",
       "    .dataframe thead th {\n",
       "        text-align: right;\n",
       "    }\n",
       "</style>\n",
       "<table border=\"1\" class=\"dataframe\">\n",
       "  <thead>\n",
       "    <tr style=\"text-align: right;\">\n",
       "      <th></th>\n",
       "      <th>상품_이름</th>\n",
       "      <th>상품_설명</th>\n",
       "      <th>상품_가격</th>\n",
       "      <th>상품_평가</th>\n",
       "    </tr>\n",
       "  </thead>\n",
       "  <tbody>\n",
       "    <tr>\n",
       "      <th>0</th>\n",
       "      <td>커클랜드 말보로 쇼미용 화이트 와인</td>\n",
       "      <td>달콤한 편이 아니라 거의 드라이에 가까워요 과실향과 산미가 풍부하고 어떤 음식에도 ...</td>\n",
       "      <td>N/A</td>\n",
       "      <td>N/A</td>\n",
       "    </tr>\n",
       "    <tr>\n",
       "      <th>1</th>\n",
       "      <td>커클랜드 키친 타올</td>\n",
       "      <td>한 장의 크기가 가로 28cm 새로 18cm 커다랗게 때문에 무려 한 장만으로도 프...</td>\n",
       "      <td>N/A</td>\n",
       "      <td>N/A</td>\n",
       "    </tr>\n",
       "    <tr>\n",
       "      <th>2</th>\n",
       "      <td>코스트코 치즈케이크</td>\n",
       "      <td>N/A</td>\n",
       "      <td>N/A</td>\n",
       "      <td>N/A</td>\n",
       "    </tr>\n",
       "    <tr>\n",
       "      <th>3</th>\n",
       "      <td>생과일 타르트</td>\n",
       "      <td>망고 자몽 키위 세 종류의 과일이 큼지막하게 올려져 있는데요 입안 가득한 식감 무조...</td>\n",
       "      <td>N/A</td>\n",
       "      <td>N/A</td>\n",
       "    </tr>\n",
       "    <tr>\n",
       "      <th>4</th>\n",
       "      <td>커클랜드 프로틴 바</td>\n",
       "      <td>맛도 좋지만 편의성이 좋아서 운동하시는 분들에게는 이만한게 없죠</td>\n",
       "      <td>N/A</td>\n",
       "      <td>N/A</td>\n",
       "    </tr>\n",
       "  </tbody>\n",
       "</table>\n",
       "</div>"
      ],
      "text/plain": [
       "                 상품_이름                                              상품_설명  \\\n",
       "0  커클랜드 말보로 쇼미용 화이트 와인  달콤한 편이 아니라 거의 드라이에 가까워요 과실향과 산미가 풍부하고 어떤 음식에도 ...   \n",
       "1           커클랜드 키친 타올  한 장의 크기가 가로 28cm 새로 18cm 커다랗게 때문에 무려 한 장만으로도 프...   \n",
       "2           코스트코 치즈케이크                                                N/A   \n",
       "3              생과일 타르트  망고 자몽 키위 세 종류의 과일이 큼지막하게 올려져 있는데요 입안 가득한 식감 무조...   \n",
       "4           커클랜드 프로틴 바                맛도 좋지만 편의성이 좋아서 운동하시는 분들에게는 이만한게 없죠   \n",
       "\n",
       "  상품_가격 상품_평가  \n",
       "0   N/A   N/A  \n",
       "1   N/A   N/A  \n",
       "2   N/A   N/A  \n",
       "3   N/A   N/A  \n",
       "4   N/A   N/A  "
      ]
     },
     "execution_count": 33,
     "metadata": {},
     "output_type": "execute_result"
    }
   ],
   "source": [
    "# 결과를 판다스 데이터프레임으로 변환\n",
    "df = pd.DataFrame(response['text'])\n",
    "df.head()"
   ]
  },
  {
   "cell_type": "code",
   "execution_count": 34,
   "metadata": {},
   "outputs": [],
   "source": [
    "# 전체 동영상에 대해 자막을 추출하고 엔티티를 추출\n",
    "def extract_entities_from_youtube_videos(url_list):\n",
    "    \"\"\"\n",
    "    YouTube 동영상의 자막을 가져와 엔티티를 추출하는 함수\n",
    "    Args:\n",
    "        url_list (list): YouTube 동영상 URL 리스트\n",
    "    Returns:\n",
    "        pd.DataFrame: 엔티티 추출 결과\n",
    "    \"\"\"\n",
    "    # 스키마 정의\n",
    "    schema = {\n",
    "        \"properties\": {\n",
    "            \"상품_이름\": {\"type\": \"string\"},\n",
    "            \"상품_설명\": {\"type\": \"string\"},\n",
    "            \"상품_가격\": {\"type\": \"string\"},\n",
    "            \"상품_평가\": {\"type\": \"string\"},\n",
    "        },\n",
    "        \"required\": [\"상품_이름\", \"상품_설명\", \"상품_가격\", \"상품_평가\"],\n",
    "    }\n",
    "\n",
    "    # Chain 생성\n",
    "    prompt_template = \"\"\"Extract and save the relevant entities mentioned \\\n",
    "    in the following passage together with their properties. \n",
    "    Only extract the properties mentioned in the 'information_extraction' function. \\\n",
    "    When no suitable data is present, show the default value 'N/A'.\n",
    "\n",
    "    Passage:\n",
    "    {input}\n",
    "    \"\"\" \n",
    "\n",
    "    prompt = ChatPromptTemplate.from_template(prompt_template)\n",
    "    llm = ChatOpenAI(temperature=0, model_name=\"gpt-3.5-turbo-0125\", api_key=OPENAI_API_KEY)\n",
    "    chain = create_extraction_chain(schema=schema, llm=llm, prompt=prompt)\n",
    "\n",
    "    # 결과를 저장할 데이터프레임 생성\n",
    "    df = pd.DataFrame()\n",
    "\n",
    "    for url in url_list:\n",
    "        # 동영상 자막 가져오기\n",
    "        docs = get_youtube_video_transcript(url)\n",
    "\n",
    "        # Chain 실행\n",
    "        response = chain.invoke(docs[0])\n",
    "\n",
    "        # 결과를 데이터프레임으로 변환\n",
    "        df = pd.concat([df, pd.DataFrame(response['text'])])\n",
    "\n",
    "    return df"
   ]
  },
  {
   "cell_type": "code",
   "execution_count": 35,
   "metadata": {},
   "outputs": [
    {
     "data": {
      "text/html": [
       "<div>\n",
       "<style scoped>\n",
       "    .dataframe tbody tr th:only-of-type {\n",
       "        vertical-align: middle;\n",
       "    }\n",
       "\n",
       "    .dataframe tbody tr th {\n",
       "        vertical-align: top;\n",
       "    }\n",
       "\n",
       "    .dataframe thead th {\n",
       "        text-align: right;\n",
       "    }\n",
       "</style>\n",
       "<table border=\"1\" class=\"dataframe\">\n",
       "  <thead>\n",
       "    <tr style=\"text-align: right;\">\n",
       "      <th></th>\n",
       "      <th>상품_이름</th>\n",
       "      <th>상품_설명</th>\n",
       "      <th>상품_가격</th>\n",
       "      <th>상품_평가</th>\n",
       "    </tr>\n",
       "  </thead>\n",
       "  <tbody>\n",
       "    <tr>\n",
       "      <th>0</th>\n",
       "      <td>커클랜드 말보로 쇼미용 화이트 와인</td>\n",
       "      <td>달콤한 편이 아니라 거의 드라이에 가까워요 과실향과 산미가 풍부하고 어떤 음식에도 ...</td>\n",
       "      <td>N/A</td>\n",
       "      <td>N/A</td>\n",
       "    </tr>\n",
       "    <tr>\n",
       "      <th>1</th>\n",
       "      <td>커클랜드 키친 타월</td>\n",
       "      <td>한 장의 크기가 가로 28cm 새로 18cm 커다랗게 때문에 무려 한 장만으로도 프...</td>\n",
       "      <td>N/A</td>\n",
       "      <td>N/A</td>\n",
       "    </tr>\n",
       "    <tr>\n",
       "      <th>2</th>\n",
       "      <td>코스트코 치즈케이크</td>\n",
       "      <td>N/A</td>\n",
       "      <td>N/A</td>\n",
       "      <td>N/A</td>\n",
       "    </tr>\n",
       "    <tr>\n",
       "      <th>3</th>\n",
       "      <td>생과일 타르트</td>\n",
       "      <td>망고 자몽 키위 세 종류의 과일이 큼지막하게 올려져 있는데요 입안 가득한 식감 무조...</td>\n",
       "      <td>N/A</td>\n",
       "      <td>N/A</td>\n",
       "    </tr>\n",
       "    <tr>\n",
       "      <th>4</th>\n",
       "      <td>커클랜드 프로틴 바</td>\n",
       "      <td>맛도 좋지만 편의성이 좋아서 운동하시는 분들에게는 이만한게 없죠</td>\n",
       "      <td>N/A</td>\n",
       "      <td>N/A</td>\n",
       "    </tr>\n",
       "    <tr>\n",
       "      <th>0</th>\n",
       "      <td>이탈리아 무디 파사타 토마토 퓨리</td>\n",
       "      <td>이탈리아의 햇살에 빨갛 익은 토마토를 지중해의 111년만으로 만든 벨벳 재질의 퓨레</td>\n",
       "      <td>1,990</td>\n",
       "      <td>N/A</td>\n",
       "    </tr>\n",
       "    <tr>\n",
       "      <th>1</th>\n",
       "      <td>메일 바이오 프로틴 요거트 플레인</td>\n",
       "      <td>lgg 유산균 요건 크리스찬 한센 유산균으로 커클랜드 유산균 제조 업체 세계 1위 ...</td>\n",
       "      <td>1,490</td>\n",
       "      <td>N/A</td>\n",
       "    </tr>\n",
       "    <tr>\n",
       "      <th>2</th>\n",
       "      <td>고디바 브라운</td>\n",
       "      <td>한 박스에 16개 18개가 들어 있으며 다크와 밀크 두 가지 맛이 있습니다</td>\n",
       "      <td>18,990</td>\n",
       "      <td>N/A</td>\n",
       "    </tr>\n",
       "    <tr>\n",
       "      <th>3</th>\n",
       "      <td>포크 베이크</td>\n",
       "      <td>고기와 치즈가 50% 증량된 제품으로 28cm 크기이며 쫄깃하고 맛있는 맛</td>\n",
       "      <td>5,900</td>\n",
       "      <td>N/A</td>\n",
       "    </tr>\n",
       "  </tbody>\n",
       "</table>\n",
       "</div>"
      ],
      "text/plain": [
       "                 상품_이름                                              상품_설명  \\\n",
       "0  커클랜드 말보로 쇼미용 화이트 와인  달콤한 편이 아니라 거의 드라이에 가까워요 과실향과 산미가 풍부하고 어떤 음식에도 ...   \n",
       "1           커클랜드 키친 타월  한 장의 크기가 가로 28cm 새로 18cm 커다랗게 때문에 무려 한 장만으로도 프...   \n",
       "2           코스트코 치즈케이크                                                N/A   \n",
       "3              생과일 타르트  망고 자몽 키위 세 종류의 과일이 큼지막하게 올려져 있는데요 입안 가득한 식감 무조...   \n",
       "4           커클랜드 프로틴 바                맛도 좋지만 편의성이 좋아서 운동하시는 분들에게는 이만한게 없죠   \n",
       "0   이탈리아 무디 파사타 토마토 퓨리     이탈리아의 햇살에 빨갛 익은 토마토를 지중해의 111년만으로 만든 벨벳 재질의 퓨레   \n",
       "1   메일 바이오 프로틴 요거트 플레인  lgg 유산균 요건 크리스찬 한센 유산균으로 커클랜드 유산균 제조 업체 세계 1위 ...   \n",
       "2              고디바 브라운          한 박스에 16개 18개가 들어 있으며 다크와 밀크 두 가지 맛이 있습니다   \n",
       "3               포크 베이크          고기와 치즈가 50% 증량된 제품으로 28cm 크기이며 쫄깃하고 맛있는 맛   \n",
       "\n",
       "    상품_가격 상품_평가  \n",
       "0     N/A   N/A  \n",
       "1     N/A   N/A  \n",
       "2     N/A   N/A  \n",
       "3     N/A   N/A  \n",
       "4     N/A   N/A  \n",
       "0   1,990   N/A  \n",
       "1   1,490   N/A  \n",
       "2  18,990   N/A  \n",
       "3   5,900   N/A  "
      ]
     },
     "execution_count": 35,
     "metadata": {},
     "output_type": "execute_result"
    }
   ],
   "source": [
    "df = extract_entities_from_youtube_videos(url_list[:2])\n",
    "df"
   ]
  },
  {
   "cell_type": "markdown",
   "metadata": {},
   "source": [
    "# 유튜브 동영상 댓글 분석\n",
    "삼성 SDS 채널 구독 이벤트   \n",
    "https://www.youtube.com/watch?v=j_EciRV3V1k&t=15s"
   ]
  },
  {
   "cell_type": "markdown",
   "metadata": {},
   "source": [
    "## 댓글 데이터 크롤링으로 수집"
   ]
  },
  {
   "cell_type": "code",
   "execution_count": 1,
   "metadata": {},
   "outputs": [],
   "source": [
    "# 삼성 SDS 채널 구독 이벤트 \n",
    "\n",
    "url = \"https://www.youtube.com/watch?v=j_EciRV3V1k&t=15s\""
   ]
  },
  {
   "cell_type": "code",
   "execution_count": 3,
   "metadata": {},
   "outputs": [],
   "source": [
    "# Seleium 드라이버 생성\n",
    "from selenium import webdriver\n",
    "from selenium.webdriver.chrome.service import Service\n",
    "from webdriver_manager.chrome import ChromeDriverManager\n",
    "\n",
    "from selenium.webdriver.common.keys import Keys\n",
    "from selenium.webdriver.common.by import By\n",
    "\n",
    "from bs4 import BeautifulSoup\n",
    "import time\n",
    "import random\n",
    "\n",
    "# # Chrome 옵션 설정\n",
    "# options = webdriver.ChromeOptions()\n",
    "# # options.add_argument('--headless')  \n",
    "\n",
    "# # 드라이버 서비스 생성\n",
    "# service = Service(ChromeDriverManager().install())\n",
    "\n",
    "# # 웹 드라이버 초기화\n",
    "# driver = webdriver.Chrome(service=service, options=options)\n",
    "\n",
    "\n",
    "### mac에 맞게 변경 ###\n",
    "# Chrome 옵션 설정\n",
    "\n",
    "options = webdriver.ChromeOptions()\n",
    "options.add_argument('--no-sandbox')\n",
    "options.add_argument('--disable-dev-shm-usage')\n",
    "\n",
    "# Selenium Manager를 사용하여 자동으로 드라이버 관리\n",
    "service = Service()\n",
    "\n",
    "# 웹 드라이버 초기화\n",
    "driver = webdriver.Chrome(service=service, options=options)\n",
    "\n",
    "#####################\n",
    "\n",
    "\n",
    "\n",
    "# 윈도우 크기 설정\n",
    "driver.set_window_size(800, 600)\n",
    "\n",
    "# URL 접속하여 실행\n",
    "driver.implicitly_wait(5)\n",
    "driver.get(url)\n",
    "\n",
    "# 팝업의 '아니요' 버튼을 클릭하여 닫기\n",
    "try:\n",
    "    dismiss_button = driver.find_element(By.CSS_SELECTOR, \"#dismiss-button button\")\n",
    "    dismiss_button.click()\n",
    "except:\n",
    "    pass "
   ]
  },
  {
   "cell_type": "code",
   "execution_count": 4,
   "metadata": {},
   "outputs": [
    {
     "name": "stdout",
     "output_type": "stream",
     "text": [
      "5822\n"
     ]
    }
   ],
   "source": [
    "# 현재 페이지 높이\n",
    "current_page_height = driver.execute_script(\"return document.documentElement.scrollHeight\") \n",
    "print(current_page_height)\n",
    "\n",
    "\n",
    "# 스크롤 다운\n",
    "while current_page_height < 100000: \n",
    "    \n",
    "    driver.execute_script(f\"window.scrollTo({current_page_height}, {current_page_height + 10000});\") \n",
    "    time.sleep(random.randint(1, 4))\n",
    "    body = driver.find_element(By.CSS_SELECTOR, 'body')\n",
    "    body.send_keys(Keys.PAGE_DOWN)\n",
    "    time.sleep(random.randint(1, 4))\n",
    "    \n",
    "    scrolled_page_height = driver.execute_script(\"return document.documentElement.scrollHeight\")  \n",
    "    if scrolled_page_height == current_page_height: \n",
    "        break\n",
    "    current_page_height = driver.execute_script(\"return document.documentElement.scrollHeight\")     \n"
   ]
  },
  {
   "cell_type": "code",
   "execution_count": 5,
   "metadata": {},
   "outputs": [
    {
     "name": "stdout",
     "output_type": "stream",
     "text": [
      "445\n",
      "<ytd-comment-thread-renderer class=\"style-scope ytd-item-section-renderer\"><!--css-build:shady--><!--css-build:shady--><dom-if class=\"style-scope ytd-comment-thread-renderer\"><template is=\"dom-if\"></template></dom-if>\n",
      "<ytd-comment-view-model class=\"style-scope ytd-comment-thread-renderer\" id=\"comment\" style=\"--ytd-comment-paid-background-color: initial;\"><!--css-build:shady--><!--css-build:shady--><div class=\"style-scope ytd-comment-view-model\" id=\"paid-comment-background\"></div>\n",
      "<div class=\"style-scope ytd-comment-view-model\" id=\"linked-comment-badge\"></div>\n",
      "<div class=\"style-scope ytd-comment-view-model\" id=\"body\">\n",
      "<div class=\"style-scope ytd-comment-view-model\" id=\"author-thumbnail\">\n",
      "<a aria-label=\"@fornest-3\" class=\"yt-simple-endpoint style-scope ytd-comment-view-model\" href=\"/@fornest-3\" role=\"button\">\n",
      "<yt-img-shadow class=\"style-scope ytd-comment-view-model no-transition\" fit=\"\" height=\"40\" loaded=\"\" style=\"background-color: transparent;\" width=\"40\"><!--css-build:shady--><!--css-build:shady--><img alt=\"\" class=\"style-scope yt-img-shadow\" draggable=\"false\" height=\"40\" id=\"img\" src=\"https://yt3.ggpht.com/ytc/AIdro_nMyFWegBix6vA8O4prZfae0GMG3SWV1ahok3xij8PH0A=s88-c-k-c0x00ffffff-no-rj\" width=\"40\"/></yt-img-shadow>\n",
      "</a>\n",
      "</div>\n",
      "<div class=\"style-scope ytd-comment-view-model\" id=\"main\">\n",
      "<div class=\"style-scope ytd-comment-view-model\" id=\"header\">\n",
      "<div class=\"style-scope ytd-comment-view-model\" id=\"pinned-comment-badge\"></div>\n",
      "<div class=\"style-scope ytd-comment-view-model\" id=\"header-author\">\n",
      "<h3 class=\"style-scope ytd-comment-view-model\">\n",
      "<a class=\"yt-simple-endpoint style-scope ytd-comment-view-model\" href=\"/@fornest-3\" id=\"author-text\">\n",
      "<span class=\"style-scope ytd-comment-view-model style-scope ytd-comment-view-model\">\n",
      "              @fornest-3\n",
      "            </span>\n",
      "</a>\n",
      "</h3>\n",
      "<span class=\"style-scope ytd-comment-view-model\" id=\"author-comment-badge\"></span>\n",
      "<span class=\"style-scope ytd-comment-view-model\" id=\"sponsor-comment-badge\"></span>\n",
      "<span class=\"style-scope ytd-comment-view-model\" dir=\"auto\" id=\"published-time-text\">\n",
      "<a class=\"yt-simple-endpoint style-scope ytd-comment-view-model\" href=\"/watch?v=j_EciRV3V1k&amp;lc=UgwvBnoUNEBU_akfCtl4AaABAg\">\n",
      "            7개월 전\n",
      "          </a>\n",
      "</span>\n",
      "</div>\n",
      "</div>\n",
      "<ytd-expander class=\"style-scope ytd-comment-view-model\" collapsed=\"\" id=\"expander\" max-number-of-lines=\"4\" should-use-number-of-lines=\"\" style=\"--ytd-expander-max-lines: 4;\"><!--css-build:shady--><!--css-build:shady--><div class=\"style-scope ytd-expander\" id=\"content\">\n",
      "<yt-pdg-comment-chip-renderer class=\"style-scope ytd-comment-view-model\" hidden=\"\" id=\"paid-comment-chip\" slot=\"content\"><!--css-build:shady--><!--css-build:shady--><div class=\"style-scope yt-pdg-comment-chip-renderer\" id=\"comment-chip-container\"><yt-icon class=\"style-scope yt-pdg-comment-chip-renderer\"><!--css-build:shady--><!--css-build:shady--></yt-icon><span class=\"style-scope yt-pdg-comment-chip-renderer\" id=\"comment-chip-price\"> </span></div></yt-pdg-comment-chip-renderer><yt-attributed-string class=\"style-scope ytd-comment-view-model\" id=\"content-text\" slot=\"content\" user-input=\"\"><span class=\"yt-core-attributed-string yt-core-attributed-string--white-space-pre-wrap\" dir=\"auto\" role=\"text\">삼성SDS의 지금까지 집약한 AI 기술과 고객 업종에 대한 깊은 이해를 바탕으로 기업 업무의 Hyperautomation을 현실로 실현하는 다양한 생성형 AI 서비스에 전 세계인의 사랑과 무궁한 번영이 함께 하시길 두손 모아 기원합니다^^</span></yt-attributed-string>\n",
      "</div>\n",
      "<tp-yt-paper-button animated=\"\" aria-disabled=\"false\" aria-expanded=\"true\" class=\"style-scope ytd-expander\" elevation=\"0\" hidden=\"\" id=\"less\" noink=\"\" role=\"button\" style-target=\"host\" tabindex=\"0\"><!--css-build:shady-->\n",
      "<span class=\"less-button style-scope ytd-comment-view-model\" slot=\"less-button\">간략히</span>\n",
      "</tp-yt-paper-button>\n",
      "<tp-yt-paper-button animated=\"\" aria-disabled=\"false\" aria-expanded=\"false\" class=\"style-scope ytd-expander\" elevation=\"0\" hidden=\"\" id=\"more\" noink=\"\" role=\"button\" style-target=\"host\" tabindex=\"0\"><!--css-build:shady-->\n",
      "<span class=\"more-button style-scope ytd-comment-view-model\" slot=\"more-button\">자세히 보기</span>\n",
      "</tp-yt-paper-button>\n",
      "</ytd-expander>\n",
      "<ytd-tri-state-button-view-model class=\"translate-button style-scope ytd-comment-view-model\" hidden=\"\" state=\"untoggled\"><!--css-build:shady--><!--css-build:shady--><tp-yt-paper-button animated=\"\" aria-disabled=\"false\" class=\"style-scope ytd-tri-state-button-view-model\" elevation=\"0\" noink=\"\" role=\"button\" style-target=\"host\" tabindex=\"0\"><!--css-build:shady-->\n",
      "</tp-yt-paper-button></ytd-tri-state-button-view-model>\n",
      "<ytd-comment-engagement-bar class=\"style-scope ytd-comment-view-model\" id=\"action-buttons\"><!--css-build:shady--><!--css-build:shady--><div class=\"style-scope ytd-comment-engagement-bar\" id=\"toolbar\">\n",
      "<ytd-toggle-button-renderer button-renderer=\"true\" button-tooltip-position=\"bottom\" class=\"style-scope ytd-comment-engagement-bar\" icon-size=\"16\" id=\"like-button\"><!--css-build:shady--><yt-button-shape><a aria-current=\"false\" aria-label=\"나와 사용자 1명이 이 댓글을 좋아함\" class=\"yt-spec-button-shape-next yt-spec-button-shape-next--text yt-spec-button-shape-next--mono yt-spec-button-shape-next--size-s yt-spec-button-shape-next--icon-button yt-spec-button-shape-next--override-small-size-icon\" force-new-state=\"true\" href=\"https://accounts.google.com/ServiceLogin?service=youtube&amp;uilel=3&amp;passive=true&amp;continue=https%3A%2F%2Fwww.youtube.com%2Fsignin%3Faction_handle_signin%3Dtrue%26app%3Ddesktop%26hl%3Dko%26next%3D%252Fwatch%253Fv%253Dj_EciRV3V1k&amp;hl=ko\" rel=\"nofollow\" style=\"\" target=\"\" title=\"\"><div aria-hidden=\"true\" class=\"yt-spec-button-shape-next__icon\"><yt-icon style=\"width: 24px; height: 24px;\"><!--css-build:shady--><!--css-build:shady--><span class=\"yt-icon-shape yt-spec-icon-shape\"><div style=\"width: 100%; height: 100%; display: block; fill: currentcolor;\"><svg aria-hidden=\"true\" enable-background=\"new 0 0 24 24\" focusable=\"false\" height=\"24\" style=\"pointer-events: none; display: inherit; width: 100%; height: 100%;\" viewbox=\"0 0 24 24\" width=\"24\" xmlns=\"http://www.w3.org/2000/svg\"><path d=\"M18.77,11h-4.23l1.52-4.94C16.38,5.03,15.54,4,14.38,4c-0.58,0-1.14,0.24-1.52,0.65L7,11H3v10h4h1h9.43 c1.06,0,1.98-0.67,2.19-1.61l1.34-6C21.23,12.15,20.18,11,18.77,11z M7,20H4v-8h3V20z M19.98,13.17l-1.34,6 C18.54,19.65,18.03,20,17.43,20H8v-8.61l5.6-6.06C13.79,5.12,14.08,5,14.38,5c0.26,0,0.5,0.11,0.63,0.3 c0.07,0.1,0.15,0.26,0.09,0.47l-1.52,4.94L13.18,12h1.35h4.23c0.41,0,0.8,0.17,1.03,0.46C19.92,12.61,20.05,12.86,19.98,13.17z\"></path></svg></div></span></yt-icon></div><yt-touch-feedback-shape style=\"border-radius: inherit;\"><div aria-hidden=\"true\" class=\"yt-spec-touch-feedback-shape yt-spec-touch-feedback-shape--touch-response\"><div class=\"yt-spec-touch-feedback-shape__stroke\" style=\"\"></div><div class=\"yt-spec-touch-feedback-shape__fill\" style=\"\"></div></div></yt-touch-feedback-shape></a></yt-button-shape>\n",
      "<tp-yt-paper-tooltip fit-to-visible-bounds=\"\" offset=\"8\" role=\"tooltip\" tabindex=\"-1\"><!--css-build:shady--><div class=\"hidden style-scope tp-yt-paper-tooltip\" id=\"tooltip\" style-target=\"tooltip\">\n",
      "  좋아요\n",
      "</div>\n",
      "</tp-yt-paper-tooltip>\n",
      "</ytd-toggle-button-renderer>\n",
      "<span class=\"style-scope ytd-comment-engagement-bar\" id=\"vote-count-middle\">\n",
      "    1\n",
      "  </span>\n",
      "<ytd-toggle-button-renderer button-renderer=\"true\" button-tooltip-position=\"bottom\" class=\"style-scope ytd-comment-engagement-bar\" icon-size=\"16\" id=\"dislike-button\"><!--css-build:shady--><yt-button-shape><a aria-current=\"false\" aria-label=\"댓글 싫어요 표시\" class=\"yt-spec-button-shape-next yt-spec-button-shape-next--text yt-spec-button-shape-next--mono yt-spec-button-shape-next--size-s yt-spec-button-shape-next--icon-button yt-spec-button-shape-next--override-small-size-icon\" force-new-state=\"true\" href=\"https://accounts.google.com/ServiceLogin?service=youtube&amp;uilel=3&amp;passive=true&amp;continue=https%3A%2F%2Fwww.youtube.com%2Fsignin%3Faction_handle_signin%3Dtrue%26app%3Ddesktop%26hl%3Dko%26next%3D%252Fwatch%253Fv%253Dj_EciRV3V1k&amp;hl=ko\" rel=\"nofollow\" style=\"\" target=\"\" title=\"\"><div aria-hidden=\"true\" class=\"yt-spec-button-shape-next__icon\"><yt-icon style=\"width: 24px; height: 24px;\"><!--css-build:shady--><!--css-build:shady--><span class=\"yt-icon-shape yt-spec-icon-shape\"><div style=\"width: 100%; height: 100%; display: block; fill: currentcolor;\"><svg aria-hidden=\"true\" focusable=\"false\" height=\"24\" style=\"pointer-events: none; display: inherit; width: 100%; height: 100%;\" viewbox=\"0 0 24 24\" width=\"24\" xmlns=\"http://www.w3.org/2000/svg\"><path d=\"M17,4h-1H6.57C5.5,4,4.59,4.67,4.38,5.61l-1.34,6C2.77,12.85,3.82,14,5.23,14h4.23l-1.52,4.94C7.62,19.97,8.46,21,9.62,21 c0.58,0,1.14-0.24,1.52-0.65L17,14h4V4H17z M10.4,19.67C10.21,19.88,9.92,20,9.62,20c-0.26,0-0.5-0.11-0.63-0.3 c-0.07-0.1-0.15-0.26-0.09-0.47l1.52-4.94l0.4-1.29H9.46H5.23c-0.41,0-0.8-0.17-1.03-0.46c-0.12-0.15-0.25-0.4-0.18-0.72l1.34-6 C5.46,5.35,5.97,5,6.57,5H16v8.61L10.4,19.67z M20,13h-3V5h3V13z\"></path></svg></div></span></yt-icon></div><yt-touch-feedback-shape style=\"border-radius: inherit;\"><div aria-hidden=\"true\" class=\"yt-spec-touch-feedback-shape yt-spec-touch-feedback-shape--touch-response\"><div class=\"yt-spec-touch-feedback-shape__stroke\" style=\"\"></div><div class=\"yt-spec-touch-feedback-shape__fill\" style=\"\"></div></div></yt-touch-feedback-shape></a></yt-button-shape>\n",
      "<tp-yt-paper-tooltip fit-to-visible-bounds=\"\" offset=\"8\" role=\"tooltip\" tabindex=\"-1\"><!--css-build:shady--><div class=\"hidden style-scope tp-yt-paper-tooltip\" id=\"tooltip\" style-target=\"tooltip\">\n",
      "  싫어요\n",
      "</div>\n",
      "</tp-yt-paper-tooltip>\n",
      "</ytd-toggle-button-renderer>\n",
      "<div class=\"style-scope ytd-comment-engagement-bar\" id=\"creator-heart\"><ytd-creator-heart-renderer class=\"style-scope ytd-comment-engagement-bar\" heart-button-style=\"unknown\"><!--css-build:shady--><!--css-build:shady--><yt-icon-button class=\"style-scope ytd-creator-heart-renderer\" disabled=\"\" id=\"creator-heart-button\" role=\"button\"><!--css-build:shady--><!--css-build:shady--><button aria-label=\"하트\" class=\"style-scope yt-icon-button\" disabled=\"\" id=\"button\">\n",
      "<yt-img-shadow class=\"style-scope ytd-creator-heart-renderer no-transition\" id=\"hearted-thumbnail\" loaded=\"\" style=\"background-color: transparent;\"><!--css-build:shady--><!--css-build:shady--><img alt=\"\" class=\"style-scope yt-img-shadow\" draggable=\"false\" id=\"img\" src=\"https://yt3.ggpht.com/xIRGYkTZimsSqd4pbew699dUQc46oO0qyNw629QlEAKVgip8XzKTLqtlajMTC2pfcnf1vbDZ4KQ=s88-c-k-c0x00ffffff-no-rj\"/></yt-img-shadow>\n",
      "<yt-icon class=\"style-scope ytd-creator-heart-renderer\" id=\"hearted-border\"><!--css-build:shady--><!--css-build:shady--><span class=\"yt-icon-shape yt-spec-icon-shape\"><div style=\"width: 100%; height: 100%; display: block; fill: currentcolor;\"><svg aria-hidden=\"true\" focusable=\"false\" height=\"24\" style=\"pointer-events: none; display: inherit; width: 100%; height: 100%;\" viewbox=\"0 0 24 24\" width=\"24\" xmlns=\"http://www.w3.org/2000/svg\"><path d=\"M16.5 3C19.02 3 21 5.19 21 7.99c0 3.7-3.28 6.94-8.25 11.86l-.75.74-.74-.73-.04-.04C6.27 14.92 3 11.69 3 7.99 3 5.19 4.98 3 7.5 3c1.4 0 2.79.71 3.71 1.89L12 5.9l.79-1.01C13.71 3.71 15.1 3 16.5 3Zm0-1c-1.74 0-3.41.88-4.5 2.28C10.91 2.88 9.24 2 7.5 2 4.42 2 2 4.64 2 7.99c0 4.12 3.4 7.48 8.55 12.58L12 22l1.45-1.44C18.6 15.47 22 12.11 22 7.99 22 4.64 19.58 2 16.5 2Z\"></path></svg></div></span></yt-icon>\n",
      "<yt-icon class=\"style-scope ytd-creator-heart-renderer\" id=\"hearted\"><!--css-build:shady--><!--css-build:shady--><span class=\"yt-icon-shape yt-spec-icon-shape\"><div style=\"width: 100%; height: 100%; display: block; fill: currentcolor;\"><svg aria-hidden=\"true\" focusable=\"false\" height=\"24\" style=\"pointer-events: none; display: inherit; width: 100%; height: 100%;\" viewbox=\"0 0 24 24\" width=\"24\" xmlns=\"http://www.w3.org/2000/svg\"><path d=\"M16.5 2c-1.74 0-3.41.88-4.5 2.28C10.91 2.88 9.24 2 7.5 2 4.42 2 2 4.64 2 7.99c0 4.12 3.4 7.48 8.55 12.58L12 22l1.45-1.44C18.6 15.47 22 12.11 22 7.99 22 4.64 19.58 2 16.5 2Z\"></path></svg></div></span></yt-icon>\n",
      "<ps-dom-if class=\"style-scope ytd-creator-heart-renderer\" style=\"display: none;\"><template is=\"dom-if\"></template></ps-dom-if>\n",
      "<ps-dom-if class=\"style-scope ytd-creator-heart-renderer\" style=\"display: none;\"><template is=\"dom-if\"></template></ps-dom-if>\n",
      "</button><yt-interaction class=\"circular style-scope yt-icon-button\" id=\"interaction\"><!--css-build:shady--><!--css-build:shady--><div class=\"stroke style-scope yt-interaction\"></div><div class=\"fill style-scope yt-interaction\"></div></yt-interaction></yt-icon-button>\n",
      "<tp-yt-paper-tooltip class=\"style-scope ytd-creator-heart-renderer\" role=\"tooltip\" tabindex=\"-1\"><!--css-build:shady--><div class=\"hidden style-scope tp-yt-paper-tooltip\" id=\"tooltip\" style-target=\"tooltip\">\n",
      "  삼성SDS님의 ❤\n",
      "</div>\n",
      "</tp-yt-paper-tooltip>\n",
      "</ytd-creator-heart-renderer></div>\n",
      "<ytd-button-renderer button-next=\"\" button-renderer=\"\" class=\"style-scope ytd-comment-engagement-bar\" force-icon-button=\"true\" id=\"reply-button-end\"><!--css-build:shady--><yt-button-shape><a aria-label=\"답글\" class=\"yt-spec-button-shape-next yt-spec-button-shape-next--text yt-spec-button-shape-next--mono yt-spec-button-shape-next--size-s\" force-new-state=\"true\" href=\"https://accounts.google.com/ServiceLogin?service=youtube&amp;uilel=3&amp;passive=true&amp;continue=https%3A%2F%2Fwww.youtube.com%2Fsignin%3Faction_handle_signin%3Dtrue%26app%3Ddesktop%26hl%3Dko%26next%3D%252Fwatch%253Fv%253Dj_EciRV3V1k&amp;hl=ko\" rel=\"nofollow\" style=\"\" target=\"\" title=\"\"><div class=\"yt-spec-button-shape-next__button-text-content\"><span class=\"yt-core-attributed-string yt-core-attributed-string--white-space-no-wrap\" role=\"text\">답글</span></div><yt-touch-feedback-shape style=\"border-radius: inherit;\"><div aria-hidden=\"true\" class=\"yt-spec-touch-feedback-shape yt-spec-touch-feedback-shape--touch-response\"><div class=\"yt-spec-touch-feedback-shape__stroke\" style=\"\"></div><div class=\"yt-spec-touch-feedback-shape__fill\" style=\"\"></div></div></yt-touch-feedback-shape></a></yt-button-shape><tp-yt-paper-tooltip disable-upgrade=\"\" offset=\"8\"></tp-yt-paper-tooltip></ytd-button-renderer>\n",
      "</div>\n",
      "<div class=\"style-scope ytd-comment-engagement-bar\" id=\"reply-dialog\"></div>\n",
      "</ytd-comment-engagement-bar>\n",
      "</div>\n",
      "<div class=\"style-scope ytd-comment-view-model\" id=\"action-menu\">\n",
      "<ytd-menu-renderer class=\"style-scope ytd-comment-view-model\" menu-active=\"\" safe-area=\"\"><!--css-build:shady--><!--css_build_scope:ytd-menu-renderer--><!--css_build_styles:video.youtube.src.web.polymer.shared.ui.styles.yt_base_styles.yt.base.styles.css.js--><div class=\"top-level-buttons style-scope ytd-menu-renderer\" id=\"top-level-buttons-computed\"></div><div class=\"style-scope ytd-menu-renderer\" id=\"flexible-item-buttons\"></div><yt-icon-button class=\"dropdown-trigger style-scope ytd-menu-renderer\" hidden=\"\" id=\"button\" role=\"button\" style-target=\"button\"><!--css-build:shady--><!--css-build:shady--><button class=\"style-scope yt-icon-button\" id=\"button\"><yt-icon class=\"style-scope ytd-menu-renderer\"><!--css-build:shady--><!--css-build:shady--><span class=\"yt-icon-shape yt-spec-icon-shape\"><div style=\"width: 100%; height: 100%; display: block; fill: currentcolor;\"><svg aria-hidden=\"true\" enable-background=\"new 0 0 24 24\" focusable=\"false\" height=\"24\" style=\"pointer-events: none; display: inherit; width: 100%; height: 100%;\" viewbox=\"0 0 24 24\" width=\"24\" xmlns=\"http://www.w3.org/2000/svg\"><path d=\"M12 16.5c.83 0 1.5.67 1.5 1.5s-.67 1.5-1.5 1.5-1.5-.67-1.5-1.5.67-1.5 1.5-1.5zM10.5 12c0 .83.67 1.5 1.5 1.5s1.5-.67 1.5-1.5-.67-1.5-1.5-1.5-1.5.67-1.5 1.5zm0-6c0 .83.67 1.5 1.5 1.5s1.5-.67 1.5-1.5-.67-1.5-1.5-1.5-1.5.67-1.5 1.5z\"></path></svg></div></span></yt-icon></button><yt-interaction class=\"circular style-scope yt-icon-button\" id=\"interaction\"><!--css-build:shady--><!--css-build:shady--><div class=\"stroke style-scope yt-interaction\"></div><div class=\"fill style-scope yt-interaction\"></div></yt-interaction></yt-icon-button><yt-button-shape class=\"style-scope ytd-menu-renderer\" disable-upgrade=\"\" hidden=\"\" id=\"button-shape\" version=\"modern\"></yt-button-shape></ytd-menu-renderer>\n",
      "</div>\n",
      "</div>\n",
      "<div class=\"style-scope ytd-comment-view-model\" hidden=\"\" id=\"edit-dialog\"></div>\n",
      "</ytd-comment-view-model>\n",
      "<dom-if class=\"style-scope ytd-comment-thread-renderer\"><template is=\"dom-if\"></template></dom-if>\n",
      "<div class=\"style-scope ytd-comment-thread-renderer\" hidden=\"\" id=\"replies\"></div>\n",
      "</ytd-comment-thread-renderer>\n"
     ]
    }
   ],
   "source": [
    "# HTML 소스 파싱 \n",
    "html = driver.page_source\n",
    "soup = BeautifulSoup(html, 'html.parser')\n",
    "soup.find(name=\"div\", attrs={\"id\":\"contents\"})\n",
    "\n",
    "# 댓글 요소를 찾기\n",
    "### inspect > find \"content\" > copy selector > #contents > ytd-comments\n",
    "reviews = soup.find_all(name='ytd-comment-thread-renderer', attrs={'class':'style-scope ytd-item-section-renderer'})\n",
    "\n",
    "print(len(reviews))\n",
    "print(reviews[2])"
   ]
  },
  {
   "cell_type": "code",
   "execution_count": 6,
   "metadata": {},
   "outputs": [
    {
     "data": {
      "text/plain": [
       "'@fornest-3'"
      ]
     },
     "execution_count": 6,
     "metadata": {},
     "output_type": "execute_result"
    }
   ],
   "source": [
    "### 사용자 이름\n",
    "#author-text > span\n",
    "reviews[2].select(\"#author-text > span\")[0].text.strip()"
   ]
  },
  {
   "cell_type": "code",
   "execution_count": 7,
   "metadata": {},
   "outputs": [
    {
     "data": {
      "text/plain": [
       "'삼성SDS의 지금까지 집약한 AI 기술과 고객 업종에 대한 깊은 이해를 바탕으로 기업 업무의 Hyperautomation을 현실로 실현하는 다양한 생성형 AI 서비스에 전 세계인의 사랑과 무궁한 번영이 함께 하시길 두손 모아 기원합니다^^'"
      ]
     },
     "execution_count": 7,
     "metadata": {},
     "output_type": "execute_result"
    }
   ],
   "source": [
    "### 댓글 텍스트\n",
    "#content-text\n",
    "reviews[2].select(\"#content-text\")[0].text"
   ]
  },
  {
   "cell_type": "code",
   "execution_count": 8,
   "metadata": {},
   "outputs": [
    {
     "data": {
      "text/plain": [
       "'7개월 전'"
      ]
     },
     "execution_count": 8,
     "metadata": {},
     "output_type": "execute_result"
    }
   ],
   "source": [
    "### 날짜\n",
    "#published-time-text\n",
    "reviews[2].select(\"#published-time-text\")[0].text.strip()"
   ]
  },
  {
   "cell_type": "code",
   "execution_count": 9,
   "metadata": {},
   "outputs": [
    {
     "name": "stdout",
     "output_type": "stream",
     "text": [
      "{'author': '@fornest-3', 'comment': '삼성SDS의 지금까지 집약한 AI 기술과 고객 업종에 대한 깊은 이해를 바탕으로 기업 업무의 Hyperautomation을 현실로 실현하는 다양한 생성형 AI 서비스에 전 세계인의 사랑과 무궁한 번영이 함께 하시길 두손 모아 기원합니다^^', 'date': '7개월 전'}\n"
     ]
    }
   ],
   "source": [
    "### 리뷰 정보(이름, 댓글, 날짜)를 추출하는 함수 정의\n",
    "def get_review_info(review):\n",
    "    \"\"\"\n",
    "    댓글 요소에서 사용자 이름, 댓글, 날짜를 추출하는 함수\n",
    "    Args:\n",
    "        review: 댓글 요소\n",
    "    Returns:\n",
    "        dict: 사용자 이름, 댓글, 날짜 정보를 담은 딕셔너리\n",
    "    \"\"\"\n",
    "    author = review.select(\"#author-text > span\")[0].text.strip()\n",
    "    comment = review.select(\"#content-text\")[0].text\n",
    "    date = review.select(\"#published-time-text\")[0].text.strip()\n",
    "    return {\"author\": author, \"comment\": comment, \"date\": date}\n",
    "\n",
    "\n",
    "# 리뷰 정보 추출\n",
    "review_info = get_review_info(reviews[2])\n",
    "print(review_info)"
   ]
  },
  {
   "cell_type": "code",
   "execution_count": 10,
   "metadata": {},
   "outputs": [
    {
     "name": "stdout",
     "output_type": "stream",
     "text": [
      "2024-01-30 15:15:10\n"
     ]
    }
   ],
   "source": [
    "### 크롬 기본 language 한글 확인\n",
    "\n",
    "from datetime import datetime\n",
    "from dateutil.relativedelta import relativedelta\n",
    "\n",
    "def convert_time_strings(time_str, current_time=None):\n",
    "    \"\"\"\n",
    "    시간 문자열을 datetime 객체로 변환하는 함수\n",
    "    Args:\n",
    "        time_str: 시간 문자열\n",
    "        current_time: 기준 시간\n",
    "    Returns:\n",
    "        datetime: 변환된 datetime 객체\n",
    "    \"\"\"\n",
    "    if current_time is None:\n",
    "        current_time = datetime.now()\n",
    "\n",
    "    time_str = time_str.replace(\" \", \"\").strip()\n",
    "\n",
    "    if \"분전\" in time_str:\n",
    "        minutes = time_str.replace(\"분전\", \"\")\n",
    "        minutes = re.sub(\"[^0-9]\", \"\", minutes)\n",
    "        minutes = int(minutes)\n",
    "        return (current_time - relativedelta(minutes=minutes)).strftime(\"%Y-%m-%d %H:%M:%S\")\n",
    "        \n",
    "    elif \"시간전\" in time_str:\n",
    "        hours = time_str.replace(\"시간전\", \"\")\n",
    "        hours = re.sub(\"[^0-9]\", \"\", hours)\n",
    "        hours = int(hours)\n",
    "        return (current_time - relativedelta(hours=hours)).strftime(\"%Y-%m-%d %H:%M:%S\")\n",
    "    \n",
    "    elif \"일전\" in time_str:\n",
    "        days = time_str.replace(\"일전\", \"\")\n",
    "        days = re.sub(\"[^0-9]\", \"\", days)\n",
    "        days = int(days)\n",
    "        return (current_time - relativedelta(days=days)).strftime(\"%Y-%m-%d %H:%M:%S\")\n",
    "    elif \"주전\" in time_str:\n",
    "        weeks = time_str.replace(\"주전\", \"\")\n",
    "        weeks = re.sub(\"[^0-9]\", \"\", weeks)\n",
    "        weeks = int(weeks)\n",
    "        return (current_time - relativedelta(weeks=weeks)).strftime(\"%Y-%m-%d %H:%M:%S\")\n",
    "    elif \"개월전\" in time_str:\n",
    "        months = time_str.replace(\"개월전\", \"\")\n",
    "        months = re.sub(\"[^0-9]\", \"\", months)\n",
    "        months = int(months)\n",
    "        return (current_time - relativedelta(months=months)).strftime(\"%Y-%m-%d %H:%M:%S\")\n",
    "    elif \"년전\" in time_str:\n",
    "        years = time_str.replace(\"년전\", \"\")\n",
    "        years = re.sub(\"[^0-9]\", \"\", years)\n",
    "        years = int(years)\n",
    "        return (current_time - relativedelta(years=years)).strftime(\"%Y-%m-%d %H:%M:%S\")\n",
    "    else:\n",
    "        try:\n",
    "            time_str = (time_str).strftime(\"%Y-%m-%d %H:%M:%S\")\n",
    "        except:\n",
    "            time_str = np.nan\n",
    "        return time_str\n",
    "    \n",
    "# 시간 문자열 변환\n",
    "time_str = \"7개월 전\"\n",
    "converted_time = convert_time_strings(time_str)\n",
    "print(converted_time)"
   ]
  },
  {
   "cell_type": "code",
   "execution_count": 11,
   "metadata": {},
   "outputs": [
    {
     "name": "stdout",
     "output_type": "stream",
     "text": [
      "{'author': '@fornest-3', 'comment': '삼성SDS의 지금까지 집약한 AI 기술과 고객 업종에 대한 깊은 이해를 바탕으로 기업 업무의 Hyperautomation을 현실로 실현하는 다양한 생성형 AI 서비스에 전 세계인의 사랑과 무궁한 번영이 함께 하시길 두손 모아 기원합니다^^', 'date': '2024-01-30 15:15:13'}\n"
     ]
    }
   ],
   "source": [
    "\n",
    "### 리뷰 정보(이름, 댓글, 좋아요, 날짜)를 추출하는 함수 정의\n",
    "def get_review_info(review):\n",
    "    \"\"\"\n",
    "    댓글 요소에서 사용자 이름, 댓글, 날짜를 추출하는 함수\n",
    "    Args:\n",
    "        review: 댓글 요소\n",
    "    Returns:\n",
    "        dict: 사용자 이름, 댓글, 날짜 정보를 담은 딕셔너리\n",
    "    \"\"\"\n",
    "    author = review.select(\"#author-text > span\")[0].text.strip()\n",
    "    comment = review.select(\"#content-text\")[0].text\n",
    "    date = review.select(\"#published-time-text\")[0].text.strip()\n",
    "    try:\n",
    "        date = convert_time_strings(date)\n",
    "    except:\n",
    "        pass\n",
    "    return {\"author\": author, \"comment\": comment, \"date\": date}\n",
    "\n",
    "\n",
    "# 리뷰 정보 추출\n",
    "review_info = get_review_info(reviews[2])\n",
    "print(review_info)"
   ]
  },
  {
   "cell_type": "code",
   "execution_count": null,
   "metadata": {},
   "outputs": [],
   "source": []
  },
  {
   "cell_type": "code",
   "execution_count": 16,
   "metadata": {},
   "outputs": [
    {
     "name": "stdout",
     "output_type": "stream",
     "text": [
      "445\n",
      "{'author': '@SAMSUNGSDS', 'comment': \" 채널 구독 EVENT \\r\\n\\r\\nAI의 능력을 모두의 능력으로 만드는 기업 하이퍼오토메이션 엑셀레이터 \\r\\n\\r\\n삼성SDS ' AI시대 오피스&라이프'  (https://youtu.be/j_EciRV3V1k) \\r\\n\\r\\n영상 시청과 함께 유튜브 채널 구독하고 소문내주세요 \\n추첨을 통해  갤럭시탭 S9 FE, 갤럭시 워치 6 등 다양한 선물을 드립니다. \\r\\n\\r\\n\\r\\n이벤트 기간\\r\\n\\r\\n참여 기간 : 2024년  01월 29일 (월) ~ 2024년 02월 29일 (금)\\r\\n당첨자 발표 : 2024년 03월 15일 (금) 개별 연락\\nSTEP 1.  AI시대 오피스&라이프 브랜드 필름 시청하기 (https://youtu.be/j_EciRV3V1k)\\r\\nSTEP 2. 삼성SDS  유튜브 채널 구독하고  소문내기\\r\\nSTEP 3. 구독 화면을 캡쳐해 아래  링크로 제출하면 완료!\\r\\n\\r\\n\\r\\n 이벤트 참여 링크 : https://naver.me/5K54zUuQ\\r\\n채널 구독하고 캡처한 이미지 제출 완료 시 참여로 인정됩니다.\\n추첨 선물 \\r\\n 갤럭시탭 S9 FE / Wi-Fi, 128GB (1명)\\r\\n 갤럭시 워치 6 / 44mm, Bluetooth (2명)\\r\\n 도미노피자+콜라 기프티콘(10명) \\r\\n 스타벅스 카페 아메리카노 T 기프티콘(100명)\", 'date': '2024-01-30 15:35:36'}\n"
     ]
    }
   ],
   "source": [
    "### 한 페이지의 모든 리뷰를 반복문으로 추출하는 함수 정의\n",
    "\n",
    "def get_youtube_reviews(url):\n",
    "    \"\"\"\n",
    "    한 페이지의 모든 리뷰를 추출하는 함수\n",
    "    Args:\n",
    "        url: YouTube 동영상 URL\n",
    "    Returns:\n",
    "        list: 리뷰 정보 딕셔너리를 담은 리스트\n",
    "    \"\"\"\n",
    "    # # driver 설정\n",
    "    # options = webdriver.ChromeOptions()\n",
    "    # options.add_argument('--headless')\n",
    "    # service = Service(ChromeDriverManager().install())\n",
    "    # driver = webdriver.Chrome(service=service, options=options)\n",
    "    # driver.set_window_size(800, 600)\n",
    "    # driver.get(url)\n",
    "    # driver.implicitly_wait(5)\n",
    "    # time.sleep(5)\n",
    "\n",
    "    ### mac에 맞게 변경 ###\n",
    "\n",
    "    # 네, Mac 사용자를 위한 설정은 조금 다릅니다. \n",
    "    # Mac에서 Selenium을 사용할 때는 ChromeDriver를 별도로 설치할 필요가 없습니다. \n",
    "    # 대신 Selenium Manager를 사용하여 자동으로 드라이버를 관리할 수 있습니다. \n",
    "\n",
    "    # driver 설정\n",
    "    options = webdriver.ChromeOptions()\n",
    "    options.add_argument('--headless')\n",
    "    options.add_argument('--no-sandbox')\n",
    "    options.add_argument('--disable-dev-shm-usage')\n",
    "    # options.add_argument('--lang=ko-KR')  # 언어를 한국어로 설정 -> 왠지 잘 안됨\n",
    "\n",
    "\n",
    "    # 언어 설정을 위한 prefs 딕셔너리\n",
    "    prefs = {\n",
    "        \"translate_whitelists\": {\"ko\":\"en\"},\n",
    "        \"intl.accept_languages\": \"ko,ko_KR\"\n",
    "    }\n",
    "    options.add_experimental_option(\"prefs\", prefs)\n",
    "\n",
    "    service = Service()\n",
    "    driver = webdriver.Chrome(service=service, options=options)\n",
    "    driver.set_window_size(800, 600)\n",
    "    driver.get(url)\n",
    "    driver.implicitly_wait(5)\n",
    "    time.sleep(5)\n",
    "\n",
    "    #####################\n",
    "\n",
    "\n",
    "\n",
    "    # 팝업 닫기\n",
    "    try:\n",
    "        dismiss_button = driver.find_element(By.CSS_SELECTOR, \"#dismiss-button button\")\n",
    "        dismiss_button.click()\n",
    "    except:\n",
    "        pass\n",
    "\n",
    "    driver.implicitly_wait(5)\n",
    "    time.sleep(5)\n",
    "   \n",
    "    current_page_height = driver.execute_script(\"return document.documentElement.scrollHeight\") \n",
    "    while current_page_height < 100000: \n",
    "        driver.execute_script(f\"window.scrollTo({current_page_height}, {current_page_height + 10000});\") \n",
    "        time.sleep(random.randint(1, 4))\n",
    "        body = driver.find_element(By.CSS_SELECTOR, 'body')\n",
    "        body.send_keys(Keys.PAGE_DOWN)\n",
    "        time.sleep(random.randint(1, 4))\n",
    "        scrolled_page_height = driver.execute_script(\"return document.documentElement.scrollHeight\")  \n",
    "        if scrolled_page_height == current_page_height: \n",
    "            break\n",
    "        current_page_height = driver.execute_script(\"return document.documentElement.scrollHeight\")  \n",
    "\n",
    "    # HTML 추출하고 driver 닫기\n",
    "    driver.implicitly_wait(5)\n",
    "    html = driver.page_source\n",
    "    driver.close()\n",
    "    \n",
    "    # HTML 파싱\n",
    "    soup = BeautifulSoup(html, 'html.parser')\n",
    "    reviews = soup.find_all(name='ytd-comment-thread-renderer', attrs={'class':'style-scope ytd-item-section-renderer'})\n",
    "    review_list = []\n",
    "    for review in reviews:\n",
    "        review_info = get_review_info(review)\n",
    "        review_list.append(review_info)\n",
    "    return review_list\n",
    "\n",
    "\n",
    "# 함수 실행\n",
    "reviews = get_youtube_reviews(url)\n",
    "print(len(reviews))\n",
    "print(reviews[0])"
   ]
  },
  {
   "cell_type": "code",
   "execution_count": 17,
   "metadata": {},
   "outputs": [
    {
     "data": {
      "text/html": [
       "<div>\n",
       "<style scoped>\n",
       "    .dataframe tbody tr th:only-of-type {\n",
       "        vertical-align: middle;\n",
       "    }\n",
       "\n",
       "    .dataframe tbody tr th {\n",
       "        vertical-align: top;\n",
       "    }\n",
       "\n",
       "    .dataframe thead th {\n",
       "        text-align: right;\n",
       "    }\n",
       "</style>\n",
       "<table border=\"1\" class=\"dataframe\">\n",
       "  <thead>\n",
       "    <tr style=\"text-align: right;\">\n",
       "      <th></th>\n",
       "      <th>author</th>\n",
       "      <th>comment</th>\n",
       "      <th>date</th>\n",
       "    </tr>\n",
       "  </thead>\n",
       "  <tbody>\n",
       "    <tr>\n",
       "      <th>0</th>\n",
       "      <td>@SAMSUNGSDS</td>\n",
       "      <td>채널 구독 EVENT \\r\\n\\r\\nAI의 능력을 모두의 능력으로 만드는 기업 하...</td>\n",
       "      <td>2024-01-30 15:35:36</td>\n",
       "    </tr>\n",
       "    <tr>\n",
       "      <th>1</th>\n",
       "      <td>@user-pw3gk2vn5e</td>\n",
       "      <td>삼성SDS의 생성형 AI 서비스가 오피스와 우리의 라이프에 어떤 새바람을 일으킬지\\...</td>\n",
       "      <td>2024-02-29 15:35:36</td>\n",
       "    </tr>\n",
       "    <tr>\n",
       "      <th>2</th>\n",
       "      <td>@fornest-3</td>\n",
       "      <td>삼성SDS의 지금까지 집약한 AI 기술과 고객 업종에 대한 깊은 이해를 바탕으로 기...</td>\n",
       "      <td>2024-01-30 15:35:36</td>\n",
       "    </tr>\n",
       "    <tr>\n",
       "      <th>3</th>\n",
       "      <td>@user-li3hn3lw6q</td>\n",
       "      <td>AI의 능력을 모두의 능력으로 만드는 기업 하이퍼오토메이션 엑셀레이터 \\r\\n삼성S...</td>\n",
       "      <td>2024-02-29 15:35:36</td>\n",
       "    </tr>\n",
       "    <tr>\n",
       "      <th>4</th>\n",
       "      <td>@user-bz9fd3rw1k</td>\n",
       "      <td>삼성SDS만의 생성형 AI 서비스가 너무나 기대되고 AI 시대를 선도할 앞으로의 \\...</td>\n",
       "      <td>2024-02-29 15:35:36</td>\n",
       "    </tr>\n",
       "  </tbody>\n",
       "</table>\n",
       "</div>"
      ],
      "text/plain": [
       "             author                                            comment  \\\n",
       "0       @SAMSUNGSDS   채널 구독 EVENT \\r\\n\\r\\nAI의 능력을 모두의 능력으로 만드는 기업 하...   \n",
       "1  @user-pw3gk2vn5e  삼성SDS의 생성형 AI 서비스가 오피스와 우리의 라이프에 어떤 새바람을 일으킬지\\...   \n",
       "2        @fornest-3  삼성SDS의 지금까지 집약한 AI 기술과 고객 업종에 대한 깊은 이해를 바탕으로 기...   \n",
       "3  @user-li3hn3lw6q  AI의 능력을 모두의 능력으로 만드는 기업 하이퍼오토메이션 엑셀레이터 \\r\\n삼성S...   \n",
       "4  @user-bz9fd3rw1k  삼성SDS만의 생성형 AI 서비스가 너무나 기대되고 AI 시대를 선도할 앞으로의 \\...   \n",
       "\n",
       "                  date  \n",
       "0  2024-01-30 15:35:36  \n",
       "1  2024-02-29 15:35:36  \n",
       "2  2024-01-30 15:35:36  \n",
       "3  2024-02-29 15:35:36  \n",
       "4  2024-02-29 15:35:36  "
      ]
     },
     "execution_count": 17,
     "metadata": {},
     "output_type": "execute_result"
    }
   ],
   "source": [
    "# 판다스 데이터프레임으로 변환\n",
    "df = pd.DataFrame(reviews)\n",
    "df.head()"
   ]
  },
  {
   "cell_type": "code",
   "execution_count": 18,
   "metadata": {},
   "outputs": [],
   "source": [
    "# 수집한 데이터를 저장\n",
    "df.to_csv(\"youtube_reviews.csv\", index=False)"
   ]
  },
  {
   "cell_type": "code",
   "execution_count": 19,
   "metadata": {},
   "outputs": [],
   "source": [
    "# 저장해둔 데이터를 불러오는 코드\n",
    "df = pd.read_csv(\"youtube_reviews.csv\")"
   ]
  },
  {
   "cell_type": "code",
   "execution_count": 20,
   "metadata": {},
   "outputs": [
    {
     "data": {
      "text/plain": [
       "count                              445\n",
       "mean     2024-02-23 04:06:20.494382336\n",
       "min                2024-01-30 15:35:36\n",
       "25%                2024-01-30 15:35:36\n",
       "50%                2024-02-29 15:35:36\n",
       "75%                2024-02-29 15:35:36\n",
       "max                2024-08-09 15:35:36\n",
       "Name: date, dtype: object"
      ]
     },
     "execution_count": 20,
     "metadata": {},
     "output_type": "execute_result"
    }
   ],
   "source": [
    "pd.to_datetime(df['date']).describe()"
   ]
  },
  {
   "cell_type": "markdown",
   "metadata": {},
   "source": [
    "## 시간에 따른 리뷰 수의 변화를 그래프로 시각화"
   ]
  },
  {
   "cell_type": "code",
   "execution_count": 21,
   "metadata": {},
   "outputs": [
    {
     "data": {
      "image/png": "[encoded data removed]",
      "text/plain": [
       "<Figure size 1000x400 with 1 Axes>"
      ]
     },
     "metadata": {},
     "output_type": "display_data"
    }
   ],
   "source": [
    "# 날짜 데이터를 datetime 객체로 변환\n",
    "df['date'] = pd.to_datetime(df['date'])\n",
    "\n",
    "# 날짜별로 데이터를 그룹화하고 리뷰 수를 계산\n",
    "review_counts = df.groupby(df['date'].dt.date).size()\n",
    "\n",
    "# 그래프로 시각화\n",
    "plt.figure(figsize=(10, 4))\n",
    "review_counts.plot(kind='line', marker='o', linestyle='-')\n",
    "plt.title('Daily Review Counts Over Time')\n",
    "plt.xlabel('Date')\n",
    "plt.ylabel('Number of Reviews')\n",
    "plt.grid(True)\n",
    "plt.show()\n"
   ]
  },
  {
   "cell_type": "code",
   "execution_count": 37,
   "metadata": {},
   "outputs": [
    {
     "data": {
      "image/png": "[encoded data removed]",
      "text/plain": [
       "<Figure size 1200x600 with 1 Axes>"
      ]
     },
     "metadata": {},
     "output_type": "display_data"
    }
   ],
   "source": [
    "### Seaborn 연습 1\n",
    "\n",
    "import seaborn as sns\n",
    "import matplotlib.pyplot as plt\n",
    "\n",
    "# 날짜 데이터를 datetime 객체로 변환\n",
    "df['date'] = pd.to_datetime(df['date'])\n",
    "\n",
    "# 날짜별로 데이터를 그룹화하고 리뷰 수를 계산\n",
    "review_counts = df.groupby(df['date'].dt.date).size().reset_index(name='count')\n",
    "\n",
    "# 그래프로 시각화\n",
    "plt.figure(figsize=(12, 6))\n",
    "sns.lineplot(data=review_counts, x='date', y='count', marker='o')\n",
    "plt.title('Daily Review Counts Over Time', fontsize=16)\n",
    "plt.xlabel('Date', fontsize=12)\n",
    "plt.ylabel('Number of Reviews', fontsize=12)\n",
    "plt.grid(True, linestyle='--', alpha=0.7)\n",
    "plt.xticks(rotation=45)\n",
    "plt.tight_layout()\n",
    "plt.show()"
   ]
  },
  {
   "cell_type": "code",
   "execution_count": 46,
   "metadata": {},
   "outputs": [
    {
     "data": {
      "text/html": [
       "<div>\n",
       "<style scoped>\n",
       "    .dataframe tbody tr th:only-of-type {\n",
       "        vertical-align: middle;\n",
       "    }\n",
       "\n",
       "    .dataframe tbody tr th {\n",
       "        vertical-align: top;\n",
       "    }\n",
       "\n",
       "    .dataframe thead th {\n",
       "        text-align: right;\n",
       "    }\n",
       "</style>\n",
       "<table border=\"1\" class=\"dataframe\">\n",
       "  <thead>\n",
       "    <tr style=\"text-align: right;\">\n",
       "      <th></th>\n",
       "      <th>date</th>\n",
       "      <th>count</th>\n",
       "    </tr>\n",
       "  </thead>\n",
       "  <tbody>\n",
       "    <tr>\n",
       "      <th>0</th>\n",
       "      <td>2024-01-30</td>\n",
       "      <td>137</td>\n",
       "    </tr>\n",
       "    <tr>\n",
       "      <th>1</th>\n",
       "      <td>2024-02-29</td>\n",
       "      <td>296</td>\n",
       "    </tr>\n",
       "    <tr>\n",
       "      <th>2</th>\n",
       "      <td>2024-03-30</td>\n",
       "      <td>2</td>\n",
       "    </tr>\n",
       "    <tr>\n",
       "      <th>3</th>\n",
       "      <td>2024-04-30</td>\n",
       "      <td>1</td>\n",
       "    </tr>\n",
       "    <tr>\n",
       "      <th>4</th>\n",
       "      <td>2024-05-30</td>\n",
       "      <td>2</td>\n",
       "    </tr>\n",
       "    <tr>\n",
       "      <th>5</th>\n",
       "      <td>2024-06-30</td>\n",
       "      <td>5</td>\n",
       "    </tr>\n",
       "    <tr>\n",
       "      <th>6</th>\n",
       "      <td>2024-07-30</td>\n",
       "      <td>1</td>\n",
       "    </tr>\n",
       "    <tr>\n",
       "      <th>7</th>\n",
       "      <td>2024-08-09</td>\n",
       "      <td>1</td>\n",
       "    </tr>\n",
       "  </tbody>\n",
       "</table>\n",
       "</div>"
      ],
      "text/plain": [
       "         date  count\n",
       "0  2024-01-30    137\n",
       "1  2024-02-29    296\n",
       "2  2024-03-30      2\n",
       "3  2024-04-30      1\n",
       "4  2024-05-30      2\n",
       "5  2024-06-30      5\n",
       "6  2024-07-30      1\n",
       "7  2024-08-09      1"
      ]
     },
     "execution_count": 46,
     "metadata": {},
     "output_type": "execute_result"
    }
   ],
   "source": [
    "df.groupby(df['date'].dt.date).size().reset_index(name='count')"
   ]
  },
  {
   "cell_type": "code",
   "execution_count": 44,
   "metadata": {},
   "outputs": [
    {
     "data": {
      "text/plain": [
       "date\n",
       "2024-01-30    137\n",
       "2024-02-29    296\n",
       "2024-03-30      2\n",
       "2024-04-30      1\n",
       "2024-05-30      2\n",
       "2024-06-30      5\n",
       "2024-07-30      1\n",
       "2024-08-09      1\n",
       "dtype: int64"
      ]
     },
     "execution_count": 44,
     "metadata": {},
     "output_type": "execute_result"
    }
   ],
   "source": [
    "df.groupby(df['date'].dt.date).size()"
   ]
  },
  {
   "cell_type": "code",
   "execution_count": null,
   "metadata": {},
   "outputs": [],
   "source": []
  },
  {
   "cell_type": "code",
   "execution_count": 24,
   "metadata": {},
   "outputs": [
    {
     "data": {
      "image/png": "[encoded data removed]",
      "text/plain": [
       "<Figure size 1400x700 with 1 Axes>"
      ]
     },
     "metadata": {},
     "output_type": "display_data"
    }
   ],
   "source": [
    "### Seaborn 연습 2\n",
    "\n",
    "import seaborn as sns\n",
    "import matplotlib.pyplot as plt\n",
    "import matplotlib.dates as mdates\n",
    "\n",
    "# 날짜 데이터를 datetime 객체로 변환\n",
    "df['date'] = pd.to_datetime(df['date'])\n",
    "\n",
    "# 날짜별로 데이터를 그룹화하고 리뷰 수를 계산\n",
    "review_counts = df.groupby(df['date'].dt.date).size().reset_index(name='count')\n",
    "\n",
    "# Seaborn 스타일 설정\n",
    "sns.set_style(\"darkgrid\")\n",
    "sns.set_palette(\"Set2\")\n",
    "\n",
    "# 그래프로 시각화\n",
    "plt.figure(figsize=(14, 7))\n",
    "ax = sns.lineplot(data=review_counts, x='date', y='count', marker='o', \n",
    "                  linewidth=2, markersize=8)\n",
    "\n",
    "# 제목 및 레이블 설정\n",
    "plt.title('Daily Review Counts Over Time', fontsize=20, fontweight='bold')\n",
    "plt.xlabel('Date', fontsize=14)\n",
    "plt.ylabel('Number of Reviews', fontsize=14)\n",
    "\n",
    "# x축 날짜 포맷 설정\n",
    "ax.xaxis.set_major_locator(mdates.WeekdayLocator(byweekday=mdates.MO))\n",
    "ax.xaxis.set_major_formatter(mdates.DateFormatter('%Y-%m-%d'))\n",
    "\n",
    "# y축 범위 설정\n",
    "plt.ylim(0, review_counts['count'].max() * 1.1)\n",
    "\n",
    "# 그리드 설정\n",
    "plt.grid(True, linestyle='--', alpha=0.7)\n",
    "\n",
    "# 주석 추가\n",
    "max_count_date = review_counts.loc[review_counts['count'].idxmax(), 'date']\n",
    "max_count = review_counts['count'].max()\n",
    "plt.annotate(f'Max: {max_count}', xy=(max_count_date, max_count), \n",
    "             xytext=(10, 10), textcoords='offset points', \n",
    "             arrowprops=dict(arrowstyle='->'))\n",
    "\n",
    "# x축 레이블 회전\n",
    "plt.xticks(rotation=45, ha='right')\n",
    "\n",
    "# 범례 추가\n",
    "plt.legend(['Review Count'], loc='upper left')\n",
    "\n",
    "# 레이아웃 조정\n",
    "plt.tight_layout()\n",
    "\n",
    "# 그래프 표시\n",
    "plt.show()"
   ]
  },
  {
   "cell_type": "code",
   "execution_count": null,
   "metadata": {},
   "outputs": [],
   "source": []
  },
  {
   "cell_type": "code",
   "execution_count": null,
   "metadata": {},
   "outputs": [],
   "source": []
  },
  {
   "cell_type": "markdown",
   "metadata": {},
   "source": [
    "## Huggingface Pipleline 으로 감성 분석"
   ]
  },
  {
   "cell_type": "code",
   "execution_count": 47,
   "metadata": {},
   "outputs": [
    {
     "data": {
      "text/plain": [
       "[{'label': 'LABEL_1', 'score': 0.9777422547340393},\n",
       " {'label': 'LABEL_2', 'score': 0.5432389378547668},\n",
       " {'label': 'LABEL_0', 'score': 0.5509180426597595},\n",
       " {'label': 'LABEL_2', 'score': 0.9763167500495911},\n",
       " {'label': 'LABEL_1', 'score': 0.9642011523246765}]"
      ]
     },
     "execution_count": 47,
     "metadata": {},
     "output_type": "execute_result"
    }
   ],
   "source": [
    "from transformers import pipeline\n",
    "sentiment_pipeline = pipeline(model=\"dudcjs2779/sentiment-analysis-with-klue-bert-base\")\n",
    "data = [\"너무 좋아요\", \"조금 아쉬웠어요\", \"좋은지 나쁜지 모르겠어요\", \"최악이에요\", \"최고에요\"]\n",
    "sentiment_pipeline(data)"
   ]
  },
  {
   "cell_type": "code",
   "execution_count": 48,
   "metadata": {},
   "outputs": [
    {
     "data": {
      "text/plain": [
       "count     444.000000\n",
       "mean       63.144144\n",
       "std        93.198746\n",
       "min         3.000000\n",
       "25%        23.000000\n",
       "50%        39.000000\n",
       "75%        65.000000\n",
       "max      1430.000000\n",
       "Name: comment, dtype: float64"
      ]
     },
     "execution_count": 48,
     "metadata": {},
     "output_type": "execute_result"
    }
   ],
   "source": [
    "df['comment'].str.len().describe()"
   ]
  },
  {
   "cell_type": "code",
   "execution_count": 49,
   "metadata": {},
   "outputs": [
    {
     "data": {
      "text/html": [
       "<div>\n",
       "<style scoped>\n",
       "    .dataframe tbody tr th:only-of-type {\n",
       "        vertical-align: middle;\n",
       "    }\n",
       "\n",
       "    .dataframe tbody tr th {\n",
       "        vertical-align: top;\n",
       "    }\n",
       "\n",
       "    .dataframe thead th {\n",
       "        text-align: right;\n",
       "    }\n",
       "</style>\n",
       "<table border=\"1\" class=\"dataframe\">\n",
       "  <thead>\n",
       "    <tr style=\"text-align: right;\">\n",
       "      <th></th>\n",
       "      <th>author</th>\n",
       "      <th>comment</th>\n",
       "      <th>date</th>\n",
       "    </tr>\n",
       "  </thead>\n",
       "  <tbody>\n",
       "    <tr>\n",
       "      <th>119</th>\n",
       "      <td>@user-kn1iq3up9w</td>\n",
       "      <td>광고가 참좋네요</td>\n",
       "      <td>2024-01-30 15:35:36</td>\n",
       "    </tr>\n",
       "    <tr>\n",
       "      <th>327</th>\n",
       "      <td>@user-yw3qc3kr1w</td>\n",
       "      <td>좋아요..삼성최고</td>\n",
       "      <td>2024-02-29 15:35:36</td>\n",
       "    </tr>\n",
       "    <tr>\n",
       "      <th>343</th>\n",
       "      <td>@user-xf3wn7ml7u</td>\n",
       "      <td>영상잘보았습니다</td>\n",
       "      <td>2024-02-29 15:35:36</td>\n",
       "    </tr>\n",
       "    <tr>\n",
       "      <th>364</th>\n",
       "      <td>@user-kr5ne2do7m</td>\n",
       "      <td>기능이 기대되요!</td>\n",
       "      <td>2024-02-29 15:35:36</td>\n",
       "    </tr>\n",
       "    <tr>\n",
       "      <th>370</th>\n",
       "      <td>@sinang1204</td>\n",
       "      <td>좋아요</td>\n",
       "      <td>2024-02-29 15:35:36</td>\n",
       "    </tr>\n",
       "    <tr>\n",
       "      <th>379</th>\n",
       "      <td>@user-eh1cj6bq3e</td>\n",
       "      <td>진짜 대단하네요</td>\n",
       "      <td>2024-02-29 15:35:36</td>\n",
       "    </tr>\n",
       "    <tr>\n",
       "      <th>391</th>\n",
       "      <td>@leech3313</td>\n",
       "      <td>참여하고가용 ^^</td>\n",
       "      <td>2024-01-30 15:35:36</td>\n",
       "    </tr>\n",
       "    <tr>\n",
       "      <th>409</th>\n",
       "      <td>@user-gt3tk5ou6h</td>\n",
       "      <td>세상너무좋네여</td>\n",
       "      <td>2024-02-29 15:35:36</td>\n",
       "    </tr>\n",
       "    <tr>\n",
       "      <th>410</th>\n",
       "      <td>@user-tc9lf8co6t</td>\n",
       "      <td>미래 AI시대</td>\n",
       "      <td>2024-01-30 15:35:36</td>\n",
       "    </tr>\n",
       "    <tr>\n",
       "      <th>414</th>\n",
       "      <td>@user-wk8hi4hf2y</td>\n",
       "      <td>좋네요</td>\n",
       "      <td>2024-01-30 15:35:36</td>\n",
       "    </tr>\n",
       "    <tr>\n",
       "      <th>415</th>\n",
       "      <td>@hey_jey_</td>\n",
       "      <td>응원합니다 ;)</td>\n",
       "      <td>2024-02-29 15:35:36</td>\n",
       "    </tr>\n",
       "    <tr>\n",
       "      <th>417</th>\n",
       "      <td>@user-cm4vo3dn4x</td>\n",
       "      <td>Good!!</td>\n",
       "      <td>2024-02-29 15:35:36</td>\n",
       "    </tr>\n",
       "    <tr>\n",
       "      <th>422</th>\n",
       "      <td>@user-vt4fv6pq8c</td>\n",
       "      <td>AI가 기대돼요.</td>\n",
       "      <td>2024-01-30 15:35:36</td>\n",
       "    </tr>\n",
       "    <tr>\n",
       "      <th>425</th>\n",
       "      <td>@storyhan</td>\n",
       "      <td>Ai좋은거야~</td>\n",
       "      <td>2024-02-29 15:35:36</td>\n",
       "    </tr>\n",
       "    <tr>\n",
       "      <th>427</th>\n",
       "      <td>@rillala</td>\n",
       "      <td>화이팅</td>\n",
       "      <td>2024-02-29 15:35:36</td>\n",
       "    </tr>\n",
       "    <tr>\n",
       "      <th>438</th>\n",
       "      <td>@user-et2vy2rx2d</td>\n",
       "      <td>ai시대의 선구자</td>\n",
       "      <td>2024-05-30 15:35:36</td>\n",
       "    </tr>\n",
       "    <tr>\n",
       "      <th>440</th>\n",
       "      <td>@user-qr6oi9my1x</td>\n",
       "      <td>다맞는말ㅋㅋㅋㅋㅋ</td>\n",
       "      <td>2024-02-29 15:35:36</td>\n",
       "    </tr>\n",
       "    <tr>\n",
       "      <th>441</th>\n",
       "      <td>@donghoonlee9555</td>\n",
       "      <td>AI오라 !!</td>\n",
       "      <td>2024-02-29 15:35:36</td>\n",
       "    </tr>\n",
       "    <tr>\n",
       "      <th>444</th>\n",
       "      <td>@i8071625</td>\n",
       "      <td>싱기하다..</td>\n",
       "      <td>2024-01-30 15:35:36</td>\n",
       "    </tr>\n",
       "  </tbody>\n",
       "</table>\n",
       "</div>"
      ],
      "text/plain": [
       "               author    comment                date\n",
       "119  @user-kn1iq3up9w   광고가 참좋네요 2024-01-30 15:35:36\n",
       "327  @user-yw3qc3kr1w  좋아요..삼성최고 2024-02-29 15:35:36\n",
       "343  @user-xf3wn7ml7u  영상잘보았습니다  2024-02-29 15:35:36\n",
       "364  @user-kr5ne2do7m  기능이 기대되요! 2024-02-29 15:35:36\n",
       "370       @sinang1204       좋아요  2024-02-29 15:35:36\n",
       "379  @user-eh1cj6bq3e   진짜 대단하네요 2024-02-29 15:35:36\n",
       "391        @leech3313  참여하고가용 ^^ 2024-01-30 15:35:36\n",
       "409  @user-gt3tk5ou6h    세상너무좋네여 2024-02-29 15:35:36\n",
       "410  @user-tc9lf8co6t    미래 AI시대 2024-01-30 15:35:36\n",
       "414  @user-wk8hi4hf2y        좋네요 2024-01-30 15:35:36\n",
       "415         @hey_jey_   응원합니다 ;) 2024-02-29 15:35:36\n",
       "417  @user-cm4vo3dn4x     Good!! 2024-02-29 15:35:36\n",
       "422  @user-vt4fv6pq8c  AI가 기대돼요. 2024-01-30 15:35:36\n",
       "425         @storyhan    Ai좋은거야~ 2024-02-29 15:35:36\n",
       "427          @rillala        화이팅 2024-02-29 15:35:36\n",
       "438  @user-et2vy2rx2d  ai시대의 선구자 2024-05-30 15:35:36\n",
       "440  @user-qr6oi9my1x  다맞는말ㅋㅋㅋㅋㅋ 2024-02-29 15:35:36\n",
       "441  @donghoonlee9555    AI오라 !! 2024-02-29 15:35:36\n",
       "444         @i8071625     싱기하다.. 2024-01-30 15:35:36"
      ]
     },
     "execution_count": 49,
     "metadata": {},
     "output_type": "execute_result"
    }
   ],
   "source": [
    "df[df['comment'].str.len() < 10]"
   ]
  },
  {
   "cell_type": "code",
   "execution_count": 50,
   "metadata": {},
   "outputs": [
    {
     "data": {
      "text/plain": [
       "'LABEL_1'"
      ]
     },
     "execution_count": 50,
     "metadata": {},
     "output_type": "execute_result"
    }
   ],
   "source": [
    "# 리뷰에 대한 감정 분석 결과를 긍정, 부정으로 예측 \n",
    "def analyze_sentiment_classification(review):\n",
    "    \"\"\"\n",
    "    리뷰에 대한 감정 분석 결과를 중립(LABEL_0), 긍정(LABEL_1), 부정(LABEL_2)로 분류\n",
    "    Args:\n",
    "        review: 리뷰 텍스트\n",
    "    Returns:\n",
    "        float: 감정 분석 결과\n",
    "    \"\"\"\n",
    "    sentiment_pipeline = pipeline(model=\"dudcjs2779/sentiment-analysis-with-klue-bert-base\")\n",
    "    sentiment = sentiment_pipeline([str(review)[:100]])[0]\n",
    "    \n",
    "    return sentiment['label']\n",
    "\n",
    "# 함수 실행\n",
    "sentiment_labels = analyze_sentiment_classification(data[0])\n",
    "sentiment_labels"
   ]
  },
  {
   "cell_type": "code",
   "execution_count": 51,
   "metadata": {},
   "outputs": [
    {
     "data": {
      "text/plain": [
       "'너무 좋아요'"
      ]
     },
     "execution_count": 51,
     "metadata": {},
     "output_type": "execute_result"
    }
   ],
   "source": [
    "data[0]"
   ]
  },
  {
   "cell_type": "code",
   "execution_count": 52,
   "metadata": {},
   "outputs": [
    {
     "data": {
      "text/plain": [
       "0     채널 구독 EVENT \\r\\n\\r\\nAI의 능력을 모두의 능력으로 만드는 기업 하...\n",
       "1    삼성SDS의 생성형 AI 서비스가 오피스와 우리의 라이프에 어떤 새바람을 일으킬지\\...\n",
       "2    삼성SDS의 지금까지 집약한 AI 기술과 고객 업종에 대한 깊은 이해를 바탕으로 기...\n",
       "3    AI의 능력을 모두의 능력으로 만드는 기업 하이퍼오토메이션 엑셀레이터 \\r\\n삼성S...\n",
       "4    삼성SDS만의 생성형 AI 서비스가 너무나 기대되고 AI 시대를 선도할 앞으로의 \\...\n",
       "Name: comment, dtype: object"
      ]
     },
     "execution_count": 52,
     "metadata": {},
     "output_type": "execute_result"
    }
   ],
   "source": [
    "df['comment'].head()"
   ]
  },
  {
   "cell_type": "code",
   "execution_count": 53,
   "metadata": {},
   "outputs": [
    {
     "data": {
      "text/plain": [
       "0     채널 구독 EVENT AI의 능력을 모두의 능력으로 만드는 기업 하이퍼오토메이션 ...\n",
       "1    삼성SDS의 생성형 AI 서비스가 오피스와 우리의 라이프에 어떤 새바람을 일으킬지너...\n",
       "2    삼성SDS의 지금까지 집약한 AI 기술과 고객 업종에 대한 깊은 이해를 바탕으로 기...\n",
       "3    AI의 능력을 모두의 능력으로 만드는 기업 하이퍼오토메이션 엑셀레이터 삼성SDS  ...\n",
       "4    삼성SDS만의 생성형 AI 서비스가 너무나 기대되고 AI 시대를 선도할 앞으로의 삼...\n",
       "Name: comment, dtype: object"
      ]
     },
     "execution_count": 53,
     "metadata": {},
     "output_type": "execute_result"
    }
   ],
   "source": [
    "# HTML 태그 제거\n",
    "df['comment'] = df['comment'].str.replace('[^A-Za-z0-9가-힣ㄱ-ㅎ\\ ]', '', regex=True)\n",
    "df['comment'].head()"
   ]
  },
  {
   "cell_type": "code",
   "execution_count": 57,
   "metadata": {},
   "outputs": [
    {
     "data": {
      "text/html": [
       "<div>\n",
       "<style scoped>\n",
       "    .dataframe tbody tr th:only-of-type {\n",
       "        vertical-align: middle;\n",
       "    }\n",
       "\n",
       "    .dataframe tbody tr th {\n",
       "        vertical-align: top;\n",
       "    }\n",
       "\n",
       "    .dataframe thead th {\n",
       "        text-align: right;\n",
       "    }\n",
       "</style>\n",
       "<table border=\"1\" class=\"dataframe\">\n",
       "  <thead>\n",
       "    <tr style=\"text-align: right;\">\n",
       "      <th></th>\n",
       "      <th>author</th>\n",
       "      <th>comment</th>\n",
       "      <th>date</th>\n",
       "      <th>sentiment_class</th>\n",
       "    </tr>\n",
       "  </thead>\n",
       "  <tbody>\n",
       "    <tr>\n",
       "      <th>0</th>\n",
       "      <td>@SAMSUNGSDS</td>\n",
       "      <td>채널 구독 EVENT \\r\\n\\r\\nAI의 능력을 모두의 능력으로 만드는 기업 하...</td>\n",
       "      <td>2024-01-30 15:35:36</td>\n",
       "      <td>LABEL_1</td>\n",
       "    </tr>\n",
       "    <tr>\n",
       "      <th>1</th>\n",
       "      <td>@user-pw3gk2vn5e</td>\n",
       "      <td>삼성SDS의 생성형 AI 서비스가 오피스와 우리의 라이프에 어떤 새바람을 일으킬지\\...</td>\n",
       "      <td>2024-02-29 15:35:36</td>\n",
       "      <td>LABEL_1</td>\n",
       "    </tr>\n",
       "    <tr>\n",
       "      <th>2</th>\n",
       "      <td>@fornest-3</td>\n",
       "      <td>삼성SDS의 지금까지 집약한 AI 기술과 고객 업종에 대한 깊은 이해를 바탕으로 기...</td>\n",
       "      <td>2024-01-30 15:35:36</td>\n",
       "      <td>LABEL_1</td>\n",
       "    </tr>\n",
       "    <tr>\n",
       "      <th>3</th>\n",
       "      <td>@user-li3hn3lw6q</td>\n",
       "      <td>AI의 능력을 모두의 능력으로 만드는 기업 하이퍼오토메이션 엑셀레이터 \\r\\n삼성S...</td>\n",
       "      <td>2024-02-29 15:35:36</td>\n",
       "      <td>LABEL_1</td>\n",
       "    </tr>\n",
       "    <tr>\n",
       "      <th>4</th>\n",
       "      <td>@user-bz9fd3rw1k</td>\n",
       "      <td>삼성SDS만의 생성형 AI 서비스가 너무나 기대되고 AI 시대를 선도할 앞으로의 \\...</td>\n",
       "      <td>2024-02-29 15:35:36</td>\n",
       "      <td>LABEL_0</td>\n",
       "    </tr>\n",
       "  </tbody>\n",
       "</table>\n",
       "</div>"
      ],
      "text/plain": [
       "             author                                            comment  \\\n",
       "0       @SAMSUNGSDS   채널 구독 EVENT \\r\\n\\r\\nAI의 능력을 모두의 능력으로 만드는 기업 하...   \n",
       "1  @user-pw3gk2vn5e  삼성SDS의 생성형 AI 서비스가 오피스와 우리의 라이프에 어떤 새바람을 일으킬지\\...   \n",
       "2        @fornest-3  삼성SDS의 지금까지 집약한 AI 기술과 고객 업종에 대한 깊은 이해를 바탕으로 기...   \n",
       "3  @user-li3hn3lw6q  AI의 능력을 모두의 능력으로 만드는 기업 하이퍼오토메이션 엑셀레이터 \\r\\n삼성S...   \n",
       "4  @user-bz9fd3rw1k  삼성SDS만의 생성형 AI 서비스가 너무나 기대되고 AI 시대를 선도할 앞으로의 \\...   \n",
       "\n",
       "                  date sentiment_class  \n",
       "0  2024-01-30 15:35:36         LABEL_1  \n",
       "1  2024-02-29 15:35:36         LABEL_1  \n",
       "2  2024-01-30 15:35:36         LABEL_1  \n",
       "3  2024-02-29 15:35:36         LABEL_1  \n",
       "4  2024-02-29 15:35:36         LABEL_0  "
      ]
     },
     "execution_count": 57,
     "metadata": {},
     "output_type": "execute_result"
    }
   ],
   "source": [
    "# 리뷰에 대한 감정 분석 결과를 데이터프레임에 추가\n",
    "df['sentiment_class'] = df['comment'].apply(analyze_sentiment_classification)\n",
    "# 감성 분석 결과가 포함된 데이터프레임을 CSV 파일로 저장\n",
    "df.to_csv(\"youtube_reviews_classification.csv\", index=False)\n",
    "df.head()"
   ]
  },
  {
   "cell_type": "code",
   "execution_count": 58,
   "metadata": {},
   "outputs": [
    {
     "data": {
      "text/html": [
       "<div>\n",
       "<style scoped>\n",
       "    .dataframe tbody tr th:only-of-type {\n",
       "        vertical-align: middle;\n",
       "    }\n",
       "\n",
       "    .dataframe tbody tr th {\n",
       "        vertical-align: top;\n",
       "    }\n",
       "\n",
       "    .dataframe thead th {\n",
       "        text-align: right;\n",
       "    }\n",
       "</style>\n",
       "<table border=\"1\" class=\"dataframe\">\n",
       "  <thead>\n",
       "    <tr style=\"text-align: right;\">\n",
       "      <th></th>\n",
       "      <th>author</th>\n",
       "      <th>comment</th>\n",
       "      <th>date</th>\n",
       "      <th>sentiment_class</th>\n",
       "    </tr>\n",
       "  </thead>\n",
       "  <tbody>\n",
       "    <tr>\n",
       "      <th>0</th>\n",
       "      <td>@SAMSUNGSDS</td>\n",
       "      <td>채널 구독 EVENT \\r\\n\\r\\nAI의 능력을 모두의 능력으로 만드는 기업 하...</td>\n",
       "      <td>2024-01-30 15:35:36</td>\n",
       "      <td>LABEL_1</td>\n",
       "    </tr>\n",
       "    <tr>\n",
       "      <th>1</th>\n",
       "      <td>@user-pw3gk2vn5e</td>\n",
       "      <td>삼성SDS의 생성형 AI 서비스가 오피스와 우리의 라이프에 어떤 새바람을 일으킬지\\...</td>\n",
       "      <td>2024-02-29 15:35:36</td>\n",
       "      <td>LABEL_1</td>\n",
       "    </tr>\n",
       "    <tr>\n",
       "      <th>2</th>\n",
       "      <td>@fornest-3</td>\n",
       "      <td>삼성SDS의 지금까지 집약한 AI 기술과 고객 업종에 대한 깊은 이해를 바탕으로 기...</td>\n",
       "      <td>2024-01-30 15:35:36</td>\n",
       "      <td>LABEL_1</td>\n",
       "    </tr>\n",
       "    <tr>\n",
       "      <th>3</th>\n",
       "      <td>@user-li3hn3lw6q</td>\n",
       "      <td>AI의 능력을 모두의 능력으로 만드는 기업 하이퍼오토메이션 엑셀레이터 \\r\\n삼성S...</td>\n",
       "      <td>2024-02-29 15:35:36</td>\n",
       "      <td>LABEL_1</td>\n",
       "    </tr>\n",
       "    <tr>\n",
       "      <th>4</th>\n",
       "      <td>@user-bz9fd3rw1k</td>\n",
       "      <td>삼성SDS만의 생성형 AI 서비스가 너무나 기대되고 AI 시대를 선도할 앞으로의 \\...</td>\n",
       "      <td>2024-02-29 15:35:36</td>\n",
       "      <td>LABEL_0</td>\n",
       "    </tr>\n",
       "  </tbody>\n",
       "</table>\n",
       "</div>"
      ],
      "text/plain": [
       "             author                                            comment  \\\n",
       "0       @SAMSUNGSDS   채널 구독 EVENT \\r\\n\\r\\nAI의 능력을 모두의 능력으로 만드는 기업 하...   \n",
       "1  @user-pw3gk2vn5e  삼성SDS의 생성형 AI 서비스가 오피스와 우리의 라이프에 어떤 새바람을 일으킬지\\...   \n",
       "2        @fornest-3  삼성SDS의 지금까지 집약한 AI 기술과 고객 업종에 대한 깊은 이해를 바탕으로 기...   \n",
       "3  @user-li3hn3lw6q  AI의 능력을 모두의 능력으로 만드는 기업 하이퍼오토메이션 엑셀레이터 \\r\\n삼성S...   \n",
       "4  @user-bz9fd3rw1k  삼성SDS만의 생성형 AI 서비스가 너무나 기대되고 AI 시대를 선도할 앞으로의 \\...   \n",
       "\n",
       "                  date sentiment_class  \n",
       "0  2024-01-30 15:35:36         LABEL_1  \n",
       "1  2024-02-29 15:35:36         LABEL_1  \n",
       "2  2024-01-30 15:35:36         LABEL_1  \n",
       "3  2024-02-29 15:35:36         LABEL_1  \n",
       "4  2024-02-29 15:35:36         LABEL_0  "
      ]
     },
     "execution_count": 58,
     "metadata": {},
     "output_type": "execute_result"
    }
   ],
   "source": [
    "# df.to_csv(\"youtube_reviews_classification.csv\", index=False)\n",
    "df = pd.read_csv(\"youtube_reviews_classification.csv\")\n",
    "df.head()"
   ]
  },
  {
   "cell_type": "code",
   "execution_count": 59,
   "metadata": {},
   "outputs": [
    {
     "data": {
      "image/png": "[encoded data removed]",
      "text/plain": [
       "<Figure size 1000x300 with 1 Axes>"
      ]
     },
     "metadata": {},
     "output_type": "display_data"
    }
   ],
   "source": [
    "# 감성 분석 결과를 막대 그래프로 비교\n",
    "plt.figure(figsize=(10, 3))\n",
    "sns.countplot(x='sentiment_class', data=df)\n",
    "plt.show()"
   ]
  },
  {
   "cell_type": "code",
   "execution_count": 60,
   "metadata": {},
   "outputs": [
    {
     "data": {
      "text/html": [
       "<div>\n",
       "<style scoped>\n",
       "    .dataframe tbody tr th:only-of-type {\n",
       "        vertical-align: middle;\n",
       "    }\n",
       "\n",
       "    .dataframe tbody tr th {\n",
       "        vertical-align: top;\n",
       "    }\n",
       "\n",
       "    .dataframe thead th {\n",
       "        text-align: right;\n",
       "    }\n",
       "</style>\n",
       "<table border=\"1\" class=\"dataframe\">\n",
       "  <thead>\n",
       "    <tr style=\"text-align: right;\">\n",
       "      <th></th>\n",
       "      <th>author</th>\n",
       "      <th>comment</th>\n",
       "      <th>date</th>\n",
       "      <th>sentiment_class</th>\n",
       "    </tr>\n",
       "  </thead>\n",
       "  <tbody>\n",
       "    <tr>\n",
       "      <th>130</th>\n",
       "      <td>@soda2023</td>\n",
       "      <td>삼성SDS의 생성형 AI와 함께 이제 오피스라이프도\\r\\n뻔해지고, 별걸 다 물어보...</td>\n",
       "      <td>2024-02-29 15:35:36</td>\n",
       "      <td>LABEL_2</td>\n",
       "    </tr>\n",
       "    <tr>\n",
       "      <th>135</th>\n",
       "      <td>@user-oo1kq9hk5m</td>\n",
       "      <td>AI시대가 오고 있네요~~\\n세상이 너무 빨리 변화되어\\n정신이 없습니다.</td>\n",
       "      <td>2024-01-30 15:35:36</td>\n",
       "      <td>LABEL_2</td>\n",
       "    </tr>\n",
       "    <tr>\n",
       "      <th>297</th>\n",
       "      <td>@rounlee4873</td>\n",
       "      <td>정교한 필터링으로 정말 너무나 많은 부정확하고 도움 안 되는 인터넷 세상에서 필요한...</td>\n",
       "      <td>2024-02-29 15:35:36</td>\n",
       "      <td>LABEL_2</td>\n",
       "    </tr>\n",
       "    <tr>\n",
       "      <th>436</th>\n",
       "      <td>@user-rl9ns5qb4o</td>\n",
       "      <td>광고에 나온 해줘! 해줘! 하는 분들 별로 하는 일 없어보이는데 곧 짤리겠죠? ㅋㅋ</td>\n",
       "      <td>2024-02-29 15:35:36</td>\n",
       "      <td>LABEL_2</td>\n",
       "    </tr>\n",
       "    <tr>\n",
       "      <th>444</th>\n",
       "      <td>@i8071625</td>\n",
       "      <td>싱기하다..</td>\n",
       "      <td>2024-01-30 15:35:36</td>\n",
       "      <td>LABEL_2</td>\n",
       "    </tr>\n",
       "  </tbody>\n",
       "</table>\n",
       "</div>"
      ],
      "text/plain": [
       "               author                                            comment  \\\n",
       "130         @soda2023  삼성SDS의 생성형 AI와 함께 이제 오피스라이프도\\r\\n뻔해지고, 별걸 다 물어보...   \n",
       "135  @user-oo1kq9hk5m          AI시대가 오고 있네요~~\\n세상이 너무 빨리 변화되어\\n정신이 없습니다.   \n",
       "297      @rounlee4873  정교한 필터링으로 정말 너무나 많은 부정확하고 도움 안 되는 인터넷 세상에서 필요한...   \n",
       "436  @user-rl9ns5qb4o     광고에 나온 해줘! 해줘! 하는 분들 별로 하는 일 없어보이는데 곧 짤리겠죠? ㅋㅋ   \n",
       "444         @i8071625                                             싱기하다..   \n",
       "\n",
       "                    date sentiment_class  \n",
       "130  2024-02-29 15:35:36         LABEL_2  \n",
       "135  2024-01-30 15:35:36         LABEL_2  \n",
       "297  2024-02-29 15:35:36         LABEL_2  \n",
       "436  2024-02-29 15:35:36         LABEL_2  \n",
       "444  2024-01-30 15:35:36         LABEL_2  "
      ]
     },
     "execution_count": 60,
     "metadata": {},
     "output_type": "execute_result"
    }
   ],
   "source": [
    "# 부정 감성을 갖고 있는 데이터를 확인 \n",
    "df[df['sentiment_class']==\"LABEL_2\"]"
   ]
  },
  {
   "cell_type": "code",
   "execution_count": 61,
   "metadata": {},
   "outputs": [
    {
     "data": {
      "image/png": "[encoded data removed]",
      "text/plain": [
       "<Figure size 1000x500 with 1 Axes>"
      ]
     },
     "metadata": {},
     "output_type": "display_data"
    }
   ],
   "source": [
    "### 시간의 변화에 따른 감성 분석 변화\n",
    "\n",
    "# 'date' 열을 datetime 형태로 변환\n",
    "df['date'] = pd.to_datetime(df['date'])\n",
    "\n",
    "# 월별로 감성 클래스의 빈도 계산\n",
    "df['month'] = df['date'].dt.month  \n",
    "grouped_data = df.groupby(['month', 'sentiment_class']).size().reset_index(name='counts')\n",
    "\n",
    "# Pivot Table 생성\n",
    "pivot_data = grouped_data.pivot(index='month', columns='sentiment_class', values='counts').fillna(0)\n",
    "\n",
    "# 시각화\n",
    "pivot_data.plot(kind='bar', stacked=True, figsize=(10, 5))\n",
    "plt.title('월별 감성 분석 결과')\n",
    "plt.xlabel('날짜')\n",
    "plt.ylabel('리뷰 수')\n",
    "plt.show()"
   ]
  },
  {
   "cell_type": "markdown",
   "metadata": {},
   "source": [
    "## 랭체인을 활용한 LLM 감성분석 (분류)"
   ]
  },
  {
   "cell_type": "code",
   "execution_count": 62,
   "metadata": {},
   "outputs": [
    {
     "name": "stdout",
     "output_type": "stream",
     "text": [
      "review: 매우 유익했습니다!\n",
      "긍정\n"
     ]
    }
   ],
   "source": [
    "## Few-shot: 예시를 들어줌\n",
    "\n",
    "from langchain_core.prompts.few_shot import FewShotPromptTemplate\n",
    "from langchain_core.prompts.prompt import PromptTemplate\n",
    "\n",
    "# 리뷰 예시와 해당 리뷰의 감성(긍정, 부정, 중립)을 정의\n",
    "examples = [\n",
    "    {\n",
    "        \"review\": \"매우 유익했습니다!\",\n",
    "        \"sentiment\": \"긍정\",\n",
    "    },\n",
    "    {\n",
    "        \"review\": \"매우 실망스러웠어요.\",\n",
    "        \"sentiment\": \"부정\",\n",
    "    },\n",
    "    {\n",
    "        \"review\": \"만족스러웠습니다.\",\n",
    "        \"sentiment\": \"긍정\",\n",
    "    },\n",
    "    {\n",
    "        \"review\": \"사용이 간편해서 좋았습니다.\",\n",
    "        \"sentiment\": \"긍정\",\n",
    "    },\n",
    "    {\n",
    "        \"review\": \"내용이 조금 지루했지만, 정보는 유용했습니다.\",\n",
    "        \"sentiment\": \"중립\",\n",
    "    },\n",
    "    {\n",
    "        \"review\": \"예상보다 참석자가 많아서 질문을 충분히 하지 못했습니다.\",\n",
    "        \"sentiment\": \"부정\",\n",
    "    },\n",
    "]\n",
    "\n",
    "\n",
    "# Few-shot 학습을 위한 템플릿 정의\n",
    "example_prompt = PromptTemplate(\n",
    "    input_variables=[\"review\", \"sentiment\"], template=\"review: {review}\\n{sentiment}\"\n",
    ")\n",
    "\n",
    "print(example_prompt.format(**examples[0]))"
   ]
  },
  {
   "cell_type": "code",
   "execution_count": 63,
   "metadata": {},
   "outputs": [
    {
     "name": "stdout",
     "output_type": "stream",
     "text": [
      "review: 매우 유익했습니다!\n",
      "긍정\n",
      "\n",
      "review: 매우 실망스러웠어요.\n",
      "부정\n",
      "\n",
      "review: 만족스러웠습니다.\n",
      "긍정\n",
      "\n",
      "review: 사용이 간편해서 좋았습니다.\n",
      "긍정\n",
      "\n",
      "review: 내용이 조금 지루했지만, 정보는 유용했습니다.\n",
      "중립\n",
      "\n",
      "review: 예상보다 참석자가 많아서 질문을 충분히 하지 못했습니다.\n",
      "부정\n",
      "\n",
      "review: 이벤트 내용은 좋은데 기간이 너무 짧았어요.\n"
     ]
    }
   ],
   "source": [
    "prompt = FewShotPromptTemplate(\n",
    "    examples=examples,\n",
    "    example_prompt=example_prompt,\n",
    "    suffix=\"review: {input}\",\n",
    "    input_variables=[\"input\"],\n",
    ")\n",
    "\n",
    "# 새 리뷰에 대한 감성 분석 예제 생성\n",
    "new_review = \"이벤트 내용은 좋은데 기간이 너무 짧았어요.\"\n",
    "print(prompt.format(input=new_review))"
   ]
  },
  {
   "cell_type": "code",
   "execution_count": 66,
   "metadata": {},
   "outputs": [
    {
     "data": {
      "text/plain": [
       "AIMessage(content='부정', response_metadata={'token_usage': {'completion_tokens': 2, 'prompt_tokens': 175, 'total_tokens': 177}, 'model_name': 'gpt-3.5-turbo-0125', 'system_fingerprint': None, 'finish_reason': 'stop', 'logprobs': None}, id='run-a55c7b1e-8413-4df3-a489-4d3ba7ebdaf6-0')"
      ]
     },
     "execution_count": 66,
     "metadata": {},
     "output_type": "execute_result"
    }
   ],
   "source": [
    "# LLM\n",
    "from langchain_openai import ChatOpenAI\n",
    "llm = ChatOpenAI(temperature=0, model=\"gpt-3.5-turbo-0125\",\n",
    "                 api_key=OPENAI_API_KEY)\n",
    "\n",
    "chain = prompt | llm\n",
    "\n",
    "response = chain.invoke(new_review)\n",
    "\n",
    "response"
   ]
  },
  {
   "cell_type": "code",
   "execution_count": 67,
   "metadata": {},
   "outputs": [
    {
     "data": {
      "text/plain": [
       "'부정'"
      ]
     },
     "execution_count": 67,
     "metadata": {},
     "output_type": "execute_result"
    }
   ],
   "source": [
    "sentiment = response.content\n",
    "sentiment"
   ]
  },
  {
   "cell_type": "code",
   "execution_count": 68,
   "metadata": {},
   "outputs": [
    {
     "data": {
      "text/html": [
       "<div>\n",
       "<style scoped>\n",
       "    .dataframe tbody tr th:only-of-type {\n",
       "        vertical-align: middle;\n",
       "    }\n",
       "\n",
       "    .dataframe tbody tr th {\n",
       "        vertical-align: top;\n",
       "    }\n",
       "\n",
       "    .dataframe thead th {\n",
       "        text-align: right;\n",
       "    }\n",
       "</style>\n",
       "<table border=\"1\" class=\"dataframe\">\n",
       "  <thead>\n",
       "    <tr style=\"text-align: right;\">\n",
       "      <th></th>\n",
       "      <th>author</th>\n",
       "      <th>comment</th>\n",
       "      <th>date</th>\n",
       "      <th>sentiment_class</th>\n",
       "      <th>month</th>\n",
       "    </tr>\n",
       "  </thead>\n",
       "  <tbody>\n",
       "    <tr>\n",
       "      <th>0</th>\n",
       "      <td>@SAMSUNGSDS</td>\n",
       "      <td>채널 구독 EVENT \\r\\n\\r\\nAI의 능력을 모두의 능력으로 만드는 기업 하...</td>\n",
       "      <td>2024-01-30 15:35:36</td>\n",
       "      <td>LABEL_1</td>\n",
       "      <td>1</td>\n",
       "    </tr>\n",
       "    <tr>\n",
       "      <th>1</th>\n",
       "      <td>@user-pw3gk2vn5e</td>\n",
       "      <td>삼성SDS의 생성형 AI 서비스가 오피스와 우리의 라이프에 어떤 새바람을 일으킬지\\...</td>\n",
       "      <td>2024-02-29 15:35:36</td>\n",
       "      <td>LABEL_1</td>\n",
       "      <td>2</td>\n",
       "    </tr>\n",
       "    <tr>\n",
       "      <th>2</th>\n",
       "      <td>@fornest-3</td>\n",
       "      <td>삼성SDS의 지금까지 집약한 AI 기술과 고객 업종에 대한 깊은 이해를 바탕으로 기...</td>\n",
       "      <td>2024-01-30 15:35:36</td>\n",
       "      <td>LABEL_1</td>\n",
       "      <td>1</td>\n",
       "    </tr>\n",
       "    <tr>\n",
       "      <th>3</th>\n",
       "      <td>@user-li3hn3lw6q</td>\n",
       "      <td>AI의 능력을 모두의 능력으로 만드는 기업 하이퍼오토메이션 엑셀레이터 \\r\\n삼성S...</td>\n",
       "      <td>2024-02-29 15:35:36</td>\n",
       "      <td>LABEL_1</td>\n",
       "      <td>2</td>\n",
       "    </tr>\n",
       "    <tr>\n",
       "      <th>4</th>\n",
       "      <td>@user-bz9fd3rw1k</td>\n",
       "      <td>삼성SDS만의 생성형 AI 서비스가 너무나 기대되고 AI 시대를 선도할 앞으로의 \\...</td>\n",
       "      <td>2024-02-29 15:35:36</td>\n",
       "      <td>LABEL_0</td>\n",
       "      <td>2</td>\n",
       "    </tr>\n",
       "  </tbody>\n",
       "</table>\n",
       "</div>"
      ],
      "text/plain": [
       "             author                                            comment  \\\n",
       "0       @SAMSUNGSDS   채널 구독 EVENT \\r\\n\\r\\nAI의 능력을 모두의 능력으로 만드는 기업 하...   \n",
       "1  @user-pw3gk2vn5e  삼성SDS의 생성형 AI 서비스가 오피스와 우리의 라이프에 어떤 새바람을 일으킬지\\...   \n",
       "2        @fornest-3  삼성SDS의 지금까지 집약한 AI 기술과 고객 업종에 대한 깊은 이해를 바탕으로 기...   \n",
       "3  @user-li3hn3lw6q  AI의 능력을 모두의 능력으로 만드는 기업 하이퍼오토메이션 엑셀레이터 \\r\\n삼성S...   \n",
       "4  @user-bz9fd3rw1k  삼성SDS만의 생성형 AI 서비스가 너무나 기대되고 AI 시대를 선도할 앞으로의 \\...   \n",
       "\n",
       "                 date sentiment_class  month  \n",
       "0 2024-01-30 15:35:36         LABEL_1      1  \n",
       "1 2024-02-29 15:35:36         LABEL_1      2  \n",
       "2 2024-01-30 15:35:36         LABEL_1      1  \n",
       "3 2024-02-29 15:35:36         LABEL_1      2  \n",
       "4 2024-02-29 15:35:36         LABEL_0      2  "
      ]
     },
     "execution_count": 68,
     "metadata": {},
     "output_type": "execute_result"
    }
   ],
   "source": [
    "# 5개의 샘플 데이터\n",
    "test_df = df.head()\n",
    "test_df"
   ]
  },
  {
   "cell_type": "code",
   "execution_count": 69,
   "metadata": {},
   "outputs": [
    {
     "data": {
      "text/html": [
       "<div>\n",
       "<style scoped>\n",
       "    .dataframe tbody tr th:only-of-type {\n",
       "        vertical-align: middle;\n",
       "    }\n",
       "\n",
       "    .dataframe tbody tr th {\n",
       "        vertical-align: top;\n",
       "    }\n",
       "\n",
       "    .dataframe thead th {\n",
       "        text-align: right;\n",
       "    }\n",
       "</style>\n",
       "<table border=\"1\" class=\"dataframe\">\n",
       "  <thead>\n",
       "    <tr style=\"text-align: right;\">\n",
       "      <th></th>\n",
       "      <th>author</th>\n",
       "      <th>comment</th>\n",
       "      <th>date</th>\n",
       "      <th>sentiment_class</th>\n",
       "      <th>month</th>\n",
       "      <th>sentiment_llm</th>\n",
       "    </tr>\n",
       "  </thead>\n",
       "  <tbody>\n",
       "    <tr>\n",
       "      <th>0</th>\n",
       "      <td>@SAMSUNGSDS</td>\n",
       "      <td>채널 구독 EVENT \\r\\n\\r\\nAI의 능력을 모두의 능력으로 만드는 기업 하...</td>\n",
       "      <td>2024-01-30 15:35:36</td>\n",
       "      <td>LABEL_1</td>\n",
       "      <td>1</td>\n",
       "      <td>홍보 내용이 포함된 리뷰이므로 중립적인 의견을 제공하기 어렵습니다.</td>\n",
       "    </tr>\n",
       "    <tr>\n",
       "      <th>1</th>\n",
       "      <td>@user-pw3gk2vn5e</td>\n",
       "      <td>삼성SDS의 생성형 AI 서비스가 오피스와 우리의 라이프에 어떤 새바람을 일으킬지\\...</td>\n",
       "      <td>2024-02-29 15:35:36</td>\n",
       "      <td>LABEL_1</td>\n",
       "      <td>2</td>\n",
       "      <td>긍정</td>\n",
       "    </tr>\n",
       "    <tr>\n",
       "      <th>2</th>\n",
       "      <td>@fornest-3</td>\n",
       "      <td>삼성SDS의 지금까지 집약한 AI 기술과 고객 업종에 대한 깊은 이해를 바탕으로 기...</td>\n",
       "      <td>2024-01-30 15:35:36</td>\n",
       "      <td>LABEL_1</td>\n",
       "      <td>1</td>\n",
       "      <td>긍정</td>\n",
       "    </tr>\n",
       "    <tr>\n",
       "      <th>3</th>\n",
       "      <td>@user-li3hn3lw6q</td>\n",
       "      <td>AI의 능력을 모두의 능력으로 만드는 기업 하이퍼오토메이션 엑셀레이터 \\r\\n삼성S...</td>\n",
       "      <td>2024-02-29 15:35:36</td>\n",
       "      <td>LABEL_1</td>\n",
       "      <td>2</td>\n",
       "      <td>긍정</td>\n",
       "    </tr>\n",
       "    <tr>\n",
       "      <th>4</th>\n",
       "      <td>@user-bz9fd3rw1k</td>\n",
       "      <td>삼성SDS만의 생성형 AI 서비스가 너무나 기대되고 AI 시대를 선도할 앞으로의 \\...</td>\n",
       "      <td>2024-02-29 15:35:36</td>\n",
       "      <td>LABEL_0</td>\n",
       "      <td>2</td>\n",
       "      <td>긍정</td>\n",
       "    </tr>\n",
       "  </tbody>\n",
       "</table>\n",
       "</div>"
      ],
      "text/plain": [
       "             author                                            comment  \\\n",
       "0       @SAMSUNGSDS   채널 구독 EVENT \\r\\n\\r\\nAI의 능력을 모두의 능력으로 만드는 기업 하...   \n",
       "1  @user-pw3gk2vn5e  삼성SDS의 생성형 AI 서비스가 오피스와 우리의 라이프에 어떤 새바람을 일으킬지\\...   \n",
       "2        @fornest-3  삼성SDS의 지금까지 집약한 AI 기술과 고객 업종에 대한 깊은 이해를 바탕으로 기...   \n",
       "3  @user-li3hn3lw6q  AI의 능력을 모두의 능력으로 만드는 기업 하이퍼오토메이션 엑셀레이터 \\r\\n삼성S...   \n",
       "4  @user-bz9fd3rw1k  삼성SDS만의 생성형 AI 서비스가 너무나 기대되고 AI 시대를 선도할 앞으로의 \\...   \n",
       "\n",
       "                 date sentiment_class  month  \\\n",
       "0 2024-01-30 15:35:36         LABEL_1      1   \n",
       "1 2024-02-29 15:35:36         LABEL_1      2   \n",
       "2 2024-01-30 15:35:36         LABEL_1      1   \n",
       "3 2024-02-29 15:35:36         LABEL_1      2   \n",
       "4 2024-02-29 15:35:36         LABEL_0      2   \n",
       "\n",
       "                           sentiment_llm  \n",
       "0  홍보 내용이 포함된 리뷰이므로 중립적인 의견을 제공하기 어렵습니다.  \n",
       "1                                     긍정  \n",
       "2                                     긍정  \n",
       "3                                     긍정  \n",
       "4                                     긍정  "
      ]
     },
     "execution_count": 69,
     "metadata": {},
     "output_type": "execute_result"
    }
   ],
   "source": [
    "# 모든 리뷰에 대해서 감성 분석을 적용해서 새로운 열에 추가하는 함수\n",
    "def analyze_sentiment_llm(review):\n",
    "    response = chain.invoke(review)\n",
    "    return response.content\n",
    "\n",
    "test_df['sentiment_llm'] = test_df['comment'].apply(analyze_sentiment_llm)\n",
    "test_df"
   ]
  },
  {
   "cell_type": "markdown",
   "metadata": {},
   "source": [
    "## 랭체인을 활용한 LLM 감성분석 (평점 예측)"
   ]
  },
  {
   "cell_type": "code",
   "execution_count": 70,
   "metadata": {},
   "outputs": [
    {
     "data": {
      "text/plain": [
       "'Positive (Score: 1.0)'"
      ]
     },
     "execution_count": 70,
     "metadata": {},
     "output_type": "execute_result"
    }
   ],
   "source": [
    "from langchain_core.prompts.prompt import PromptTemplate\n",
    "from langchain_openai import ChatOpenAI\n",
    "from langchain_core.output_parsers import StrOutputParser\n",
    "\n",
    "\n",
    "llm = ChatOpenAI(temperature=0, model=\"gpt-3.5-turbo-0125\",\n",
    "                 api_key=OPENAI_API_KEY)\n",
    "\n",
    "\n",
    "template = \"\"\"\n",
    "Classify the given sentiment of the given text into positive or negative classes and provide a relevant score.\n",
    "The sentiment score should be between 0.0 and 1.0, where 0.0 indicates a negative sentiment and 1.0 indicates a positive sentiment.\n",
    "\n",
    "Input: {input}\n",
    "\n",
    "Output: sentiment_label (Score: sentiment_score)\n",
    "\"\"\"\n",
    "\n",
    "prompt = PromptTemplate.from_template(template)\n",
    "output_parser = StrOutputParser()\n",
    "\n",
    "# LCEL chaining\n",
    "chain = prompt | llm | output_parser\n",
    "\n",
    "# chain 호출\n",
    "response = chain.invoke({\"input\": \"최고예요\"})\n",
    "\n",
    "# 결과 확인\n",
    "response"
   ]
  },
  {
   "cell_type": "code",
   "execution_count": 71,
   "metadata": {},
   "outputs": [
    {
     "data": {
      "text/plain": [
       "'1.0'"
      ]
     },
     "execution_count": 71,
     "metadata": {},
     "output_type": "execute_result"
    }
   ],
   "source": [
    "re.search(r\"\\d+\\.\\d+\", response).group()"
   ]
  },
  {
   "cell_type": "code",
   "execution_count": 72,
   "metadata": {},
   "outputs": [
    {
     "data": {
      "text/plain": [
       "'1.0'"
      ]
     },
     "execution_count": 72,
     "metadata": {},
     "output_type": "execute_result"
    }
   ],
   "source": [
    "# 감정 분석 결과를 반환하는 함수 정의\n",
    "def analyze_sentiment_score_llm(review):\n",
    "    \"\"\"\n",
    "    리뷰에 대한 감정 분석 결과를 0~1 사이의 값으로 변환하는 함수\n",
    "    Args:\n",
    "        review: 리뷰 텍스트\n",
    "    Returns:\n",
    "        float: 감정 분석 결과\n",
    "    \"\"\"\n",
    "    template = \"\"\"\n",
    "    Classify the given sentiment of the given text into positive or negative classes and provide a relevant score.\n",
    "    The sentiment score should be between 0.0 and 1.0, where 0.0 indicates a negative sentiment and 1.0 indicates a positive sentiment.\n",
    "\n",
    "    Input: {input}\n",
    "\n",
    "    Output: sentiment_label (Score: sentiment_score)\n",
    "    \"\"\"\n",
    "\n",
    "    prompt = PromptTemplate.from_template(template)\n",
    "    output_parser = StrOutputParser()\n",
    "\n",
    "    llm = ChatOpenAI(temperature=0, model=\"gpt-3.5-turbo-0125\",\n",
    "                     api_key=OPENAI_API_KEY)\n",
    "\n",
    "    chain = prompt | llm | output_parser\n",
    "\n",
    "    response = chain.invoke({\"input\": review})\n",
    "    \n",
    "    sentiment_score = re.search(r\"\\d+\\.\\d+\", response).group()\n",
    "    \n",
    "    return sentiment_score\n",
    "\n",
    "\n",
    "# 함수 실행\n",
    "sentiment_score = analyze_sentiment_score_llm(\"최고예요\")\n",
    "sentiment_score"
   ]
  },
  {
   "cell_type": "code",
   "execution_count": 73,
   "metadata": {},
   "outputs": [
    {
     "data": {
      "text/plain": [
       "'0.2'"
      ]
     },
     "execution_count": 73,
     "metadata": {},
     "output_type": "execute_result"
    }
   ],
   "source": [
    "# 함수 실행\n",
    "sentiment_score = analyze_sentiment_score_llm(\"별로예요\")\n",
    "sentiment_score"
   ]
  },
  {
   "cell_type": "code",
   "execution_count": 74,
   "metadata": {},
   "outputs": [
    {
     "data": {
      "text/plain": [
       "'0.3'"
      ]
     },
     "execution_count": 74,
     "metadata": {},
     "output_type": "execute_result"
    }
   ],
   "source": [
    "# 함수 실행\n",
    "sentiment_score = analyze_sentiment_score_llm(\"보통 수준이에요\")\n",
    "sentiment_score"
   ]
  },
  {
   "cell_type": "code",
   "execution_count": 75,
   "metadata": {},
   "outputs": [
    {
     "data": {
      "text/html": [
       "<div>\n",
       "<style scoped>\n",
       "    .dataframe tbody tr th:only-of-type {\n",
       "        vertical-align: middle;\n",
       "    }\n",
       "\n",
       "    .dataframe tbody tr th {\n",
       "        vertical-align: top;\n",
       "    }\n",
       "\n",
       "    .dataframe thead th {\n",
       "        text-align: right;\n",
       "    }\n",
       "</style>\n",
       "<table border=\"1\" class=\"dataframe\">\n",
       "  <thead>\n",
       "    <tr style=\"text-align: right;\">\n",
       "      <th></th>\n",
       "      <th>author</th>\n",
       "      <th>comment</th>\n",
       "      <th>date</th>\n",
       "      <th>sentiment_class</th>\n",
       "      <th>month</th>\n",
       "      <th>sentiment_llm</th>\n",
       "      <th>sentiment_llm_socre</th>\n",
       "    </tr>\n",
       "  </thead>\n",
       "  <tbody>\n",
       "    <tr>\n",
       "      <th>0</th>\n",
       "      <td>@SAMSUNGSDS</td>\n",
       "      <td>채널 구독 EVENT \\r\\n\\r\\nAI의 능력을 모두의 능력으로 만드는 기업 하...</td>\n",
       "      <td>2024-01-30 15:35:36</td>\n",
       "      <td>LABEL_1</td>\n",
       "      <td>1</td>\n",
       "      <td>홍보 내용이 포함된 리뷰이므로 중립적인 의견을 제공하기 어렵습니다.</td>\n",
       "      <td>0.9</td>\n",
       "    </tr>\n",
       "    <tr>\n",
       "      <th>1</th>\n",
       "      <td>@user-pw3gk2vn5e</td>\n",
       "      <td>삼성SDS의 생성형 AI 서비스가 오피스와 우리의 라이프에 어떤 새바람을 일으킬지\\...</td>\n",
       "      <td>2024-02-29 15:35:36</td>\n",
       "      <td>LABEL_1</td>\n",
       "      <td>2</td>\n",
       "      <td>긍정</td>\n",
       "      <td>0.95</td>\n",
       "    </tr>\n",
       "    <tr>\n",
       "      <th>2</th>\n",
       "      <td>@fornest-3</td>\n",
       "      <td>삼성SDS의 지금까지 집약한 AI 기술과 고객 업종에 대한 깊은 이해를 바탕으로 기...</td>\n",
       "      <td>2024-01-30 15:35:36</td>\n",
       "      <td>LABEL_1</td>\n",
       "      <td>1</td>\n",
       "      <td>긍정</td>\n",
       "      <td>1.0</td>\n",
       "    </tr>\n",
       "    <tr>\n",
       "      <th>3</th>\n",
       "      <td>@user-li3hn3lw6q</td>\n",
       "      <td>AI의 능력을 모두의 능력으로 만드는 기업 하이퍼오토메이션 엑셀레이터 \\r\\n삼성S...</td>\n",
       "      <td>2024-02-29 15:35:36</td>\n",
       "      <td>LABEL_1</td>\n",
       "      <td>2</td>\n",
       "      <td>긍정</td>\n",
       "      <td>0.9</td>\n",
       "    </tr>\n",
       "    <tr>\n",
       "      <th>4</th>\n",
       "      <td>@user-bz9fd3rw1k</td>\n",
       "      <td>삼성SDS만의 생성형 AI 서비스가 너무나 기대되고 AI 시대를 선도할 앞으로의 \\...</td>\n",
       "      <td>2024-02-29 15:35:36</td>\n",
       "      <td>LABEL_0</td>\n",
       "      <td>2</td>\n",
       "      <td>긍정</td>\n",
       "      <td>0.9</td>\n",
       "    </tr>\n",
       "  </tbody>\n",
       "</table>\n",
       "</div>"
      ],
      "text/plain": [
       "             author                                            comment  \\\n",
       "0       @SAMSUNGSDS   채널 구독 EVENT \\r\\n\\r\\nAI의 능력을 모두의 능력으로 만드는 기업 하...   \n",
       "1  @user-pw3gk2vn5e  삼성SDS의 생성형 AI 서비스가 오피스와 우리의 라이프에 어떤 새바람을 일으킬지\\...   \n",
       "2        @fornest-3  삼성SDS의 지금까지 집약한 AI 기술과 고객 업종에 대한 깊은 이해를 바탕으로 기...   \n",
       "3  @user-li3hn3lw6q  AI의 능력을 모두의 능력으로 만드는 기업 하이퍼오토메이션 엑셀레이터 \\r\\n삼성S...   \n",
       "4  @user-bz9fd3rw1k  삼성SDS만의 생성형 AI 서비스가 너무나 기대되고 AI 시대를 선도할 앞으로의 \\...   \n",
       "\n",
       "                 date sentiment_class  month  \\\n",
       "0 2024-01-30 15:35:36         LABEL_1      1   \n",
       "1 2024-02-29 15:35:36         LABEL_1      2   \n",
       "2 2024-01-30 15:35:36         LABEL_1      1   \n",
       "3 2024-02-29 15:35:36         LABEL_1      2   \n",
       "4 2024-02-29 15:35:36         LABEL_0      2   \n",
       "\n",
       "                           sentiment_llm sentiment_llm_socre  \n",
       "0  홍보 내용이 포함된 리뷰이므로 중립적인 의견을 제공하기 어렵습니다.                 0.9  \n",
       "1                                     긍정                0.95  \n",
       "2                                     긍정                 1.0  \n",
       "3                                     긍정                 0.9  \n",
       "4                                     긍정                 0.9  "
      ]
     },
     "execution_count": 75,
     "metadata": {},
     "output_type": "execute_result"
    }
   ],
   "source": [
    "test_df['sentiment_llm_socre'] = test_df['comment'].apply(analyze_sentiment_score_llm)\n",
    "test_df"
   ]
  },
  {
   "cell_type": "code",
   "execution_count": null,
   "metadata": {},
   "outputs": [],
   "source": []
  }
 ],
 "metadata": {
  "kernelspec": {
   "display_name": "toy-pjt-b",
   "language": "python",
   "name": "python3"
  },
  "language_info": {
   "codemirror_mode": {
    "name": "ipython",
    "version": 3
   },
   "file_extension": ".py",
   "mimetype": "text/x-python",
   "name": "python",
   "nbconvert_exporter": "python",
   "pygments_lexer": "ipython3",
   "version": "3.11.9"
  }
 },
 "nbformat": 4,
 "nbformat_minor": 4
}
