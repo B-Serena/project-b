{
 "cells": [
  {
   "cell_type": "markdown",
   "metadata": {},
   "source": [
    "# 라이브러리 불러오기"
   ]
  },
  {
   "cell_type": "code",
   "execution_count": 2,
   "metadata": {},
   "outputs": [],
   "source": [
    "import pandas as pd\n",
    "import numpy as np\n",
    "\n",
    "import matplotlib.pyplot as plt\n",
    "import seaborn as sns\n",
    "import re\n",
    "\n",
    "# 한글 폰트 설정\n",
    "import matplotlib.font_manager as fm\n",
    "\n",
    "font_path = '/System/Library/Fonts/Supplemental/AppleGothic.ttf'\n",
    "\n",
    "font_name = fm.FontProperties(fname=font_path).get_name()\n",
    "plt.rc('font', family=font_name)\n",
    "\n",
    "# 경고 문구 미표\n",
    "import warnings\n",
    "warnings.filterwarnings('ignore')"
   ]
  },
  {
   "cell_type": "markdown",
   "metadata": {},
   "source": [
    "# YouTubeSearchTool \n",
    "- 유튜브 검색해서 URL 목록을 제공하는 도구\n",
    "- 검색어: 키워드,개수"
   ]
  },
  {
   "cell_type": "code",
   "execution_count": 3,
   "metadata": {},
   "outputs": [],
   "source": [
    "from langchain_community.tools import YouTubeSearchTool\n",
    "\n",
    "tool = YouTubeSearchTool()"
   ]
  },
  {
   "cell_type": "code",
   "execution_count": 4,
   "metadata": {},
   "outputs": [],
   "source": [
    "results = tool.run(\"코스트코 상품 리뷰,10\")"
   ]
  },
  {
   "cell_type": "code",
   "execution_count": 5,
   "metadata": {},
   "outputs": [
    {
     "name": "stdout",
     "output_type": "stream",
     "text": [
      "['https://www.youtube.com/shorts/6VNnEYbftbE', 'https://www.youtube.com/shorts/Km8GfCNz6mE', 'https://www.youtube.com/watch?v=PNXft5OD3bA&pp=ygUa7L2U7Iqk7Yq47L2UIOyDge2SiCDrpqzrt7A%3D', 'https://www.youtube.com/shorts/TO9K58OrbpY', 'https://www.youtube.com/watch?v=Z-Lph_o0_MU&pp=ygUa7L2U7Iqk7Yq47L2UIOyDge2SiCDrpqzrt7A%3D', 'https://www.youtube.com/shorts/pfuIwPkjGqk', 'https://www.youtube.com/shorts/Au5HxaXmkuo', 'https://www.youtube.com/watch?v=0LxUgZgDR9k&pp=ygUa7L2U7Iqk7Yq47L2UIOyDge2SiCDrpqzrt7A%3D', 'https://www.youtube.com/watch?v=78dBvzXwk1o&pp=ygUa7L2U7Iqk7Yq47L2UIOyDge2SiCDrpqzrt7A%3D', 'https://www.youtube.com/shorts/zJyyluD_AGc']\n"
     ]
    }
   ],
   "source": [
    "# 문자열을 파이썬 리스트로 변환\n",
    "import json\n",
    "url_list = json.loads(results.replace(\"'\", '\"'))\n",
    "\n",
    "# 결과 출력\n",
    "print(url_list)"
   ]
  },
  {
   "cell_type": "code",
   "execution_count": 6,
   "metadata": {},
   "outputs": [
    {
     "data": {
      "text/plain": [
       "10"
      ]
     },
     "execution_count": 6,
     "metadata": {},
     "output_type": "execute_result"
    }
   ],
   "source": [
    "len(url_list)"
   ]
  },
  {
   "cell_type": "code",
   "execution_count": 7,
   "metadata": {},
   "outputs": [
    {
     "data": {
      "text/plain": [
       "'https://www.youtube.com/shorts/6VNnEYbftbE'"
      ]
     },
     "execution_count": 7,
     "metadata": {},
     "output_type": "execute_result"
    }
   ],
   "source": [
    "url_list[0]"
   ]
  },
  {
   "cell_type": "code",
   "execution_count": 8,
   "metadata": {},
   "outputs": [
    {
     "data": {
      "text/plain": [
       "11"
      ]
     },
     "execution_count": 8,
     "metadata": {},
     "output_type": "execute_result"
    }
   ],
   "source": [
    "# 함수로 정의\n",
    "def search_youtube(keyword, max_results=20):\n",
    "    \"\"\"\n",
    "    유튜브에서 키워드 검색 결과를 가져오는 함수\n",
    "    Args:\n",
    "        keyword: 검색할 키워드\n",
    "        max_results: 가져올 최대 결과 수\n",
    "    Returns:\n",
    "        url_list: 검색 결과의 URL 리스트\n",
    "    \"\"\"\n",
    "    tool = YouTubeSearchTool()\n",
    "    results = tool.run(f\"{keyword},{max_results}\")\n",
    "    url_list = json.loads(results.replace(\"'\", '\"'))\n",
    "    return url_list\n",
    "\n",
    "\n",
    "# 함수 실행\n",
    "url_list = search_youtube(\"코스트코 상품 리뷰\")\n",
    "len(url_list)"
   ]
  },
  {
   "cell_type": "code",
   "execution_count": 9,
   "metadata": {},
   "outputs": [
    {
     "data": {
      "text/plain": [
       "10"
      ]
     },
     "execution_count": 9,
     "metadata": {},
     "output_type": "execute_result"
    }
   ],
   "source": [
    "url_list2 = search_youtube(\"코스트코 상품 리뷰\")\n",
    "len(url_list2)"
   ]
  },
  {
   "cell_type": "code",
   "execution_count": 10,
   "metadata": {},
   "outputs": [
    {
     "data": {
      "text/plain": [
       "5"
      ]
     },
     "execution_count": 10,
     "metadata": {},
     "output_type": "execute_result"
    }
   ],
   "source": [
    "len(set(url_list) - set(url_list2))"
   ]
  },
  {
   "cell_type": "markdown",
   "metadata": {},
   "source": [
    "# YoutubeLoader\n",
    "- url을 입력하면 유튜브 자막을 추출하여 문서 객체로 변환\n",
    "- add_video_info: 비디오 정보를 추가"
   ]
  },
  {
   "cell_type": "code",
   "execution_count": 11,
   "metadata": {},
   "outputs": [
    {
     "name": "stdout",
     "output_type": "stream",
     "text": [
      "1\n",
      "page_content='안녕하세요 아드 3tv 체제입니다 매일 쏟아지는 코스트코 제품들 할인 상품 제입고 상품 그리고 신제품들 그 와중에 마음에 쏙 들고 가격도 좋으면서 맛있고 편리하고 유용한 상품 오늘도 아드 삼과 함께 어떤 제품이 나왔나 이런 것도 있었네 눈으로 보고 귀로 들으시면서 아드 3의 내돈내산 코스트코 신제품 리뷰 시작합니다 이탈리아 무디 이번엔 파사타 토마토 퓨리입니다 이탈리아의 햇살에 빨갛 익은 토마토를 지중해의 111년만으로 만든 벨벳 재질의 퓨레 원산지도 이탈리아고전 796m 총 여섯 병이 들어 있습니다 가격은 1,990으로 플러스 표시가 되어 있으니까 재입고가 될 수도 안 될 수도 있다는 의미로 사고 싶으면 보일 때 사라라는 의미입니다 열어보니까 진짜 벨벳처럼 부드러운 질감으로 너무 아름다운 토마토의 색이 담겨져 있죠 오직 토마토로 만들어낸 이탈리안 토마토 퓨레의 정수 껍질과 씨을 제거한 토마토를 으깨서 90도 이상 가열해야 그리고 정재한 다음에 진공 상태에서 수분을 날려줍니다 이후에 65도로 저은 살균한 다음에 다시 92도 가열해서 병에 담아낸 제품이에요 성분은 토마토 99.5 그리고 소금이 들어 있어요 그 외엔 아무것도 없습니다 그 토마토도 그냥 먹으면 새콤하면서 짭짤한 맛이 느껴지듯이 새콤하면서 부드러운 진짜 토마토 그 자체예요 단맛이 없어서 살짝 짠맛도 올라오는데 진 진짜 순수한 맛입니다 이거 그냥 물에 타서 드시면 토마토 주스 됩니다 퓨레 1 물 1에서 1.5로 희석해서 찬물에 타서 드시거나 얼음 넣어 드셔도 됩니다 굉장히 부드러워서 그냥 먹어도 좋고 파스타 리조또 피자 베이스 등등 원하시는 곳에 사용하시면 되는데 에그 인을 해서 먹으면 진짜 맛있겠어요 첨가물이 들어 있지 않아서 더 좋은 무띠 토마토 퓨레 소비 기하은 26년 8월 31일이고 개봉하시면 냉장 보관해 주세요 운동 부족 맨날 앉아 있는 현대인에게 필요한 음료입니다 메일 바이오 프로틴 요거트 플레인 260mm 10개 들이로 1,490원 있데 3,500원 할인 중이에요 성분을 보면 lgg 유산균 요건 크리스찬 한센 유산균으로 커클랜드 유산균 제조 업체 세계 1위 유산균이고 덴마크산 유청 단백질 웨이 프로테인이 하죠 이건 빠르게 근육에 흡수되는 단백질이 그리고 유단백 불말 mpi고 해서 우리 몸에 아미노산 공급을 도와주는 단백질 또 락토프리 제품이 라서 유당 블레 증에 있어도 드실 수 있습니다 한 병 90칼로리 단백질 14.3g 채울 수 있어요 약간 묽은 타입이에요 우리가 생각하는 요거트다는 약간 묽은 요구르트 같은 느낌으로 보이는데 마셔보면 잉 약간 암바사 요구르트 같은 맛이에요 프로틴 들어가면 역한 냄새가 날 때도 있고 걸쭉해서 먹기 힘들 때도 있는데이 제품은 부드럽게 마실 수 있어도 좋습니다 뭔가 그 술 마신 다음 날 숙취로 괴로울 때 으으 으 이럴 때 요구르트 벌컥벌컥 마시고 싶은 날 그럴 때 또 땡기는 맛인데요 소비 기아는 24년 8월 28일로 구매일 기준 17일 정도 됩니다 냉장 보관해 주시고 유산균도 챙기고 단백질도 챙길 수 있는 아주 아주 좋은 제품이 나온 것 같습니다 고디바 초콜릿 너무 맛있죠 그래서 홀린듯이 담아온 제품 고디바 브라운입니다 한 박스 18990 원에 구매했어요 원래 브라우니는 베이킹 팬에 굽는 납작한 초콜릿 케이저 진한 초콜릿과 버터의 부드러운 조화가 특징인데 열어보면 이렇게 보라색과 갈색의 봉투의 개별 포장이 되어 있어요 다크와 밀크 두 가지 맛 보라색이 다크 갈색이 밀크보 각각 16개 18개가 들어 있습니다 계당 14g 칼로리는 66c 이렇게 네모난 정사각 모양의 브라우니가 들어 있고 반으로 잘라 보니까 안쪽에 필링 보이시죠 겉에 케이 부분이고 다크는 약간 촉촉한 초코집 맛이에요 거기에 초콜릿 알갱이가 빠진 맛으로 부드러우면서 약간 목막히는 그런 맛입니다 쿠키와 케이크 그 사이의 영역에 있는 거 같아요 그리고 많이 달지 않아요 밀크는 좀 더 연한 갈색으로 막과 식감은 비슷한데 좀 더 라이트해서 다크와 밀크의 차이가 코코아 분말이 있냐 없냐의 차이라서 다크가 좀 더 코코아의 맛이 확납니다 이건 취향의 차이가 있을 수 있겠네요 초콜릿 자체의 맛과 향해 참 좋고 목막히는 맛있습니다 우유를 부르는 맛 고디바는 이름에서 나오는 고급지 짐 나 고디바 브라우니 먹어본 여자야라는 느낌의 쿠키 있습니다 푸드코트에 딱 눈에 띄던 전보 포크 베이크 있니다 고기와 치즈가 50% 증량이 되었다고 하는데 기존에 4,700원 5,900원으로 가격이 25% 정도 올랐어요 저는 사이즈가 커진 줄 알았거든요 근데 사이즈는 비슷해요 28cm 정도인데 사이즈는 예전 거랑 비슷하죠 자 바늘 갈라 보면 꽉 차 있습니다 순대 이가요 빵이 얇아진게 아닌가라는 착각이 들 정도로 고기와 치즈 로 꽉 차 있습니다 먹어 보니까 진짜 이안 가득 고기로 풍성한 느낌이 나는게 진짜 쫄깃하고 맛있습니다 치즈와 고기의 존재감이 확실하게 느껴져요 아 왜 가격 올려라고 마 상할 뻔했는데 고기이 정도 넣어 주면 돼지 국밥보다 나은 거 아닌가라고 생각이 들 정도예요 기존 포크 베이크 다 더 마음에 듭니다 오늘부터 1일이다 포크 베이크와 오늘 아삼이 준비한 코스트코 신제품 리뷰는 여기까지예요 이제 방학도 끝나고 계약 준비해 연이 없으실 텐데 다들 파이팅하시고 건강한 주말 되시길 바랄게요 그럼 아래 3 구독과 좋아요 꾹꾹 눌러 주시면서 우리는 또 다음 주에 만나요 [음악] 안녕 I' metadata={'source': 'EXoJljoSxjY', 'title': '[🐷아돼삼TV]이래서 코스트코 갑니다! 확신의 신제품&추천템! 쇼핑 전 필수시청  🐷코코리뷰 NO.1채널', 'description': 'Unknown', 'view_count': 56408, 'thumbnail_url': 'https://i.ytimg.com/vi/EXoJljoSxjY/hq720.jpg', 'publish_date': '2024-08-16 00:00:00', 'length': 365, 'author': '아돼삼TV-아기돼지삼형제'}\n",
      "{'source': 'EXoJljoSxjY', 'title': '[🐷아돼삼TV]이래서 코스트코 갑니다! 확신의 신제품&추천템! 쇼핑 전 필수시청  🐷코코리뷰 NO.1채널', 'description': 'Unknown', 'view_count': 56408, 'thumbnail_url': 'https://i.ytimg.com/vi/EXoJljoSxjY/hq720.jpg', 'publish_date': '2024-08-16 00:00:00', 'length': 365, 'author': '아돼삼TV-아기돼지삼형제'}\n"
     ]
    }
   ],
   "source": [
    "from langchain_community.document_loaders import YoutubeLoader\n",
    "\n",
    "# 자막을 포함한 동영상 정보를 가져오기\n",
    "loader = YoutubeLoader.from_youtube_url(\n",
    "    url_list[0], \n",
    "    add_video_info=True,\n",
    "    language=[\"ko\", \"en\"],\n",
    "    translation=\"ko\",\n",
    ")\n",
    "\n",
    "docs = loader.load()\n",
    "print(len(docs))\n",
    "print(docs[0])\n",
    "print(docs[0].metadata)"
   ]
  },
  {
   "cell_type": "code",
   "execution_count": 12,
   "metadata": {},
   "outputs": [
    {
     "name": "stdout",
     "output_type": "stream",
     "text": [
      "1\n",
      "page_content='안녕하세요 아드 3tv 체제입니다 매일 쏟아지는 코스트코 제품들 할인 상품 제입고 상품 그리고 신제품들 그 와중에 마음에 쏙 들고 가격도 좋으면서 맛있고 편리하고 유용한 상품 오늘도 아드 삼과 함께 어떤 제품이 나왔나 이런 것도 있었네 눈으로 보고 귀로 들으시면서 아드 3의 내돈내산 코스트코 신제품 리뷰 시작합니다 이탈리아 무디 이번엔 파사타 토마토 퓨리입니다 이탈리아의 햇살에 빨갛 익은 토마토를 지중해의 111년만으로 만든 벨벳 재질의 퓨레 원산지도 이탈리아고전 796m 총 여섯 병이 들어 있습니다 가격은 1,990으로 플러스 표시가 되어 있으니까 재입고가 될 수도 안 될 수도 있다는 의미로 사고 싶으면 보일 때 사라라는 의미입니다 열어보니까 진짜 벨벳처럼 부드러운 질감으로 너무 아름다운 토마토의 색이 담겨져 있죠 오직 토마토로 만들어낸 이탈리안 토마토 퓨레의 정수 껍질과 씨을 제거한 토마토를 으깨서 90도 이상 가열해야 그리고 정재한 다음에 진공 상태에서 수분을 날려줍니다 이후에 65도로 저은 살균한 다음에 다시 92도 가열해서 병에 담아낸 제품이에요 성분은 토마토 99.5 그리고 소금이 들어 있어요 그 외엔 아무것도 없습니다 그 토마토도 그냥 먹으면 새콤하면서 짭짤한 맛이 느껴지듯이 새콤하면서 부드러운 진짜 토마토 그 자체예요 단맛이 없어서 살짝 짠맛도 올라오는데 진 진짜 순수한 맛입니다 이거 그냥 물에 타서 드시면 토마토 주스 됩니다 퓨레 1 물 1에서 1.5로 희석해서 찬물에 타서 드시거나 얼음 넣어 드셔도 됩니다 굉장히 부드러워서 그냥 먹어도 좋고 파스타 리조또 피자 베이스 등등 원하시는 곳에 사용하시면 되는데 에그 인을 해서 먹으면 진짜 맛있겠어요 첨가물이 들어 있지 않아서 더 좋은 무띠 토마토 퓨레 소비 기하은 26년 8월 31일이고 개봉하시면 냉장 보관해 주세요 운동 부족 맨날 앉아 있는 현대인에게 필요한 음료입니다 메일 바이오 프로틴 요거트 플레인 260mm 10개 들이로 1,490원 있데 3,500원 할인 중이에요 성분을 보면 lgg 유산균 요건 크리스찬 한센 유산균으로 커클랜드 유산균 제조 업체 세계 1위 유산균이고 덴마크산 유청 단백질 웨이 프로테인이 하죠 이건 빠르게 근육에 흡수되는 단백질이 그리고 유단백 불말 mpi고 해서 우리 몸에 아미노산 공급을 도와주는 단백질 또 락토프리 제품이 라서 유당 블레 증에 있어도 드실 수 있습니다 한 병 90칼로리 단백질 14.3g 채울 수 있어요 약간 묽은 타입이에요 우리가 생각하는 요거트다는 약간 묽은 요구르트 같은 느낌으로 보이는데 마셔보면 잉 약간 암바사 요구르트 같은 맛이에요 프로틴 들어가면 역한 냄새가 날 때도 있고 걸쭉해서 먹기 힘들 때도 있는데이 제품은 부드럽게 마실 수 있어도 좋습니다 뭔가 그 술 마신 다음 날 숙취로 괴로울 때 으으 으 이럴 때 요구르트 벌컥벌컥 마시고 싶은 날 그럴 때 또 땡기는 맛인데요 소비 기아는 24년 8월 28일로 구매일 기준 17일 정도 됩니다 냉장 보관해 주시고 유산균도 챙기고 단백질도 챙길 수 있는 아주 아주 좋은 제품이 나온 것 같습니다 고디바 초콜릿 너무 맛있죠 그래서 홀린듯이 담아온 제품 고디바 브라운입니다 한 박스 18990 원에 구매했어요 원래 브라우니는 베이킹 팬에 굽는 납작한 초콜릿 케이저 진한 초콜릿과 버터의 부드러운 조화가 특징인데 열어보면 이렇게 보라색과 갈색의 봉투의 개별 포장이 되어 있어요 다크와 밀크 두 가지 맛 보라색이 다크 갈색이 밀크보 각각 16개 18개가 들어 있습니다 계당 14g 칼로리는 66c 이렇게 네모난 정사각 모양의 브라우니가 들어 있고 반으로 잘라 보니까 안쪽에 필링 보이시죠 겉에 케이 부분이고 다크는 약간 촉촉한 초코집 맛이에요 거기에 초콜릿 알갱이가 빠진 맛으로 부드러우면서 약간 목막히는 그런 맛입니다 쿠키와 케이크 그 사이의 영역에 있는 거 같아요 그리고 많이 달지 않아요 밀크는 좀 더 연한 갈색으로 막과 식감은 비슷한데 좀 더 라이트해서 다크와 밀크의 차이가 코코아 분말이 있냐 없냐의 차이라서 다크가 좀 더 코코아의 맛이 확납니다 이건 취향의 차이가 있을 수 있겠네요 초콜릿 자체의 맛과 향해 참 좋고 목막히는 맛있습니다 우유를 부르는 맛 고디바는 이름에서 나오는 고급지 짐 나 고디바 브라우니 먹어본 여자야라는 느낌의 쿠키 있습니다 푸드코트에 딱 눈에 띄던 전보 포크 베이크 있니다 고기와 치즈가 50% 증량이 되었다고 하는데 기존에 4,700원 5,900원으로 가격이 25% 정도 올랐어요 저는 사이즈가 커진 줄 알았거든요 근데 사이즈는 비슷해요 28cm 정도인데 사이즈는 예전 거랑 비슷하죠 자 바늘 갈라 보면 꽉 차 있습니다 순대 이가요 빵이 얇아진게 아닌가라는 착각이 들 정도로 고기와 치즈 로 꽉 차 있습니다 먹어 보니까 진짜 이안 가득 고기로 풍성한 느낌이 나는게 진짜 쫄깃하고 맛있습니다 치즈와 고기의 존재감이 확실하게 느껴져요 아 왜 가격 올려라고 마 상할 뻔했는데 고기이 정도 넣어 주면 돼지 국밥보다 나은 거 아닌가라고 생각이 들 정도예요 기존 포크 베이크 다 더 마음에 듭니다 오늘부터 1일이다 포크 베이크와 오늘 아삼이 준비한 코스트코 신제품 리뷰는 여기까지예요 이제 방학도 끝나고 계약 준비해 연이 없으실 텐데 다들 파이팅하시고 건강한 주말 되시길 바랄게요 그럼 아래 3 구독과 좋아요 꾹꾹 눌러 주시면서 우리는 또 다음 주에 만나요 [음악] 안녕 I' metadata={'source': 'EXoJljoSxjY', 'title': '[🐷아돼삼TV]이래서 코스트코 갑니다! 확신의 신제품&추천템! 쇼핑 전 필수시청  🐷코코리뷰 NO.1채널', 'description': 'Unknown', 'view_count': 56403, 'thumbnail_url': 'https://i.ytimg.com/vi/EXoJljoSxjY/hq720.jpg', 'publish_date': '2024-08-16 00:00:00', 'length': 365, 'author': '아돼삼TV-아기돼지삼형제'}\n"
     ]
    }
   ],
   "source": [
    "# 함수를 정의\n",
    "def get_youtube_video_transcript(url):\n",
    "    \"\"\"\n",
    "    YouTube 동영상의 자막을 가져오는 함수\n",
    "    Args:\n",
    "        url (str): YouTube 동영상 URL\n",
    "    Returns:\n",
    "        Document: 동영상 자막 정보 객체\n",
    "    \"\"\"\n",
    "    loader = YoutubeLoader.from_youtube_url(\n",
    "        url,\n",
    "        add_video_info=True,\n",
    "        language=[\"ko\", \"en\"],\n",
    "        translation=\"ko\",\n",
    "    )\n",
    "\n",
    "    docs = loader.load()\n",
    "    return docs\n",
    "\n",
    "# 함수 실행\n",
    "docs = get_youtube_video_transcript(url_list[0])\n",
    "print(len(docs))\n",
    "print(docs[0])"
   ]
  },
  {
   "cell_type": "markdown",
   "metadata": {},
   "source": [
    "# create_extraction_chain 활용하여 요약, 추출"
   ]
  },
  {
   "cell_type": "code",
   "execution_count": 13,
   "metadata": {},
   "outputs": [],
   "source": [
    "import os\n",
    "from dotenv import load_dotenv\n",
    "\n",
    "load_dotenv()\n",
    "\n",
    "OPENAI_API_KEY = os.environ[\"OPENAI_API_KEY\"]"
   ]
  },
  {
   "cell_type": "code",
   "execution_count": 14,
   "metadata": {},
   "outputs": [
    {
     "data": {
      "text/plain": [
       "Document(page_content='안녕하세요 아드 3tv 체제입니다 매일 쏟아지는 코스트코 제품들 할인 상품 제입고 상품 그리고 신제품들 그 와중에 마음에 쏙 들고 가격도 좋으면서 맛있고 편리하고 유용한 상품 오늘도 아드 삼과 함께 어떤 제품이 나왔나 이런 것도 있었네 눈으로 보고 귀로 들으시면서 아드 3의 내돈내산 코스트코 신제품 리뷰 시작합니다 이탈리아 무디 이번엔 파사타 토마토 퓨리입니다 이탈리아의 햇살에 빨갛 익은 토마토를 지중해의 111년만으로 만든 벨벳 재질의 퓨레 원산지도 이탈리아고전 796m 총 여섯 병이 들어 있습니다 가격은 1,990으로 플러스 표시가 되어 있으니까 재입고가 될 수도 안 될 수도 있다는 의미로 사고 싶으면 보일 때 사라라는 의미입니다 열어보니까 진짜 벨벳처럼 부드러운 질감으로 너무 아름다운 토마토의 색이 담겨져 있죠 오직 토마토로 만들어낸 이탈리안 토마토 퓨레의 정수 껍질과 씨을 제거한 토마토를 으깨서 90도 이상 가열해야 그리고 정재한 다음에 진공 상태에서 수분을 날려줍니다 이후에 65도로 저은 살균한 다음에 다시 92도 가열해서 병에 담아낸 제품이에요 성분은 토마토 99.5 그리고 소금이 들어 있어요 그 외엔 아무것도 없습니다 그 토마토도 그냥 먹으면 새콤하면서 짭짤한 맛이 느껴지듯이 새콤하면서 부드러운 진짜 토마토 그 자체예요 단맛이 없어서 살짝 짠맛도 올라오는데 진 진짜 순수한 맛입니다 이거 그냥 물에 타서 드시면 토마토 주스 됩니다 퓨레 1 물 1에서 1.5로 희석해서 찬물에 타서 드시거나 얼음 넣어 드셔도 됩니다 굉장히 부드러워서 그냥 먹어도 좋고 파스타 리조또 피자 베이스 등등 원하시는 곳에 사용하시면 되는데 에그 인을 해서 먹으면 진짜 맛있겠어요 첨가물이 들어 있지 않아서 더 좋은 무띠 토마토 퓨레 소비 기하은 26년 8월 31일이고 개봉하시면 냉장 보관해 주세요 운동 부족 맨날 앉아 있는 현대인에게 필요한 음료입니다 메일 바이오 프로틴 요거트 플레인 260mm 10개 들이로 1,490원 있데 3,500원 할인 중이에요 성분을 보면 lgg 유산균 요건 크리스찬 한센 유산균으로 커클랜드 유산균 제조 업체 세계 1위 유산균이고 덴마크산 유청 단백질 웨이 프로테인이 하죠 이건 빠르게 근육에 흡수되는 단백질이 그리고 유단백 불말 mpi고 해서 우리 몸에 아미노산 공급을 도와주는 단백질 또 락토프리 제품이 라서 유당 블레 증에 있어도 드실 수 있습니다 한 병 90칼로리 단백질 14.3g 채울 수 있어요 약간 묽은 타입이에요 우리가 생각하는 요거트다는 약간 묽은 요구르트 같은 느낌으로 보이는데 마셔보면 잉 약간 암바사 요구르트 같은 맛이에요 프로틴 들어가면 역한 냄새가 날 때도 있고 걸쭉해서 먹기 힘들 때도 있는데이 제품은 부드럽게 마실 수 있어도 좋습니다 뭔가 그 술 마신 다음 날 숙취로 괴로울 때 으으 으 이럴 때 요구르트 벌컥벌컥 마시고 싶은 날 그럴 때 또 땡기는 맛인데요 소비 기아는 24년 8월 28일로 구매일 기준 17일 정도 됩니다 냉장 보관해 주시고 유산균도 챙기고 단백질도 챙길 수 있는 아주 아주 좋은 제품이 나온 것 같습니다 고디바 초콜릿 너무 맛있죠 그래서 홀린듯이 담아온 제품 고디바 브라운입니다 한 박스 18990 원에 구매했어요 원래 브라우니는 베이킹 팬에 굽는 납작한 초콜릿 케이저 진한 초콜릿과 버터의 부드러운 조화가 특징인데 열어보면 이렇게 보라색과 갈색의 봉투의 개별 포장이 되어 있어요 다크와 밀크 두 가지 맛 보라색이 다크 갈색이 밀크보 각각 16개 18개가 들어 있습니다 계당 14g 칼로리는 66c 이렇게 네모난 정사각 모양의 브라우니가 들어 있고 반으로 잘라 보니까 안쪽에 필링 보이시죠 겉에 케이 부분이고 다크는 약간 촉촉한 초코집 맛이에요 거기에 초콜릿 알갱이가 빠진 맛으로 부드러우면서 약간 목막히는 그런 맛입니다 쿠키와 케이크 그 사이의 영역에 있는 거 같아요 그리고 많이 달지 않아요 밀크는 좀 더 연한 갈색으로 막과 식감은 비슷한데 좀 더 라이트해서 다크와 밀크의 차이가 코코아 분말이 있냐 없냐의 차이라서 다크가 좀 더 코코아의 맛이 확납니다 이건 취향의 차이가 있을 수 있겠네요 초콜릿 자체의 맛과 향해 참 좋고 목막히는 맛있습니다 우유를 부르는 맛 고디바는 이름에서 나오는 고급지 짐 나 고디바 브라우니 먹어본 여자야라는 느낌의 쿠키 있습니다 푸드코트에 딱 눈에 띄던 전보 포크 베이크 있니다 고기와 치즈가 50% 증량이 되었다고 하는데 기존에 4,700원 5,900원으로 가격이 25% 정도 올랐어요 저는 사이즈가 커진 줄 알았거든요 근데 사이즈는 비슷해요 28cm 정도인데 사이즈는 예전 거랑 비슷하죠 자 바늘 갈라 보면 꽉 차 있습니다 순대 이가요 빵이 얇아진게 아닌가라는 착각이 들 정도로 고기와 치즈 로 꽉 차 있습니다 먹어 보니까 진짜 이안 가득 고기로 풍성한 느낌이 나는게 진짜 쫄깃하고 맛있습니다 치즈와 고기의 존재감이 확실하게 느껴져요 아 왜 가격 올려라고 마 상할 뻔했는데 고기이 정도 넣어 주면 돼지 국밥보다 나은 거 아닌가라고 생각이 들 정도예요 기존 포크 베이크 다 더 마음에 듭니다 오늘부터 1일이다 포크 베이크와 오늘 아삼이 준비한 코스트코 신제품 리뷰는 여기까지예요 이제 방학도 끝나고 계약 준비해 연이 없으실 텐데 다들 파이팅하시고 건강한 주말 되시길 바랄게요 그럼 아래 3 구독과 좋아요 꾹꾹 눌러 주시면서 우리는 또 다음 주에 만나요 [음악] 안녕 I', metadata={'source': 'EXoJljoSxjY', 'title': '[🐷아돼삼TV]이래서 코스트코 갑니다! 확신의 신제품&추천템! 쇼핑 전 필수시청  🐷코코리뷰 NO.1채널', 'description': 'Unknown', 'view_count': 56403, 'thumbnail_url': 'https://i.ytimg.com/vi/EXoJljoSxjY/hq720.jpg', 'publish_date': '2024-08-16 00:00:00', 'length': 365, 'author': '아돼삼TV-아기돼지삼형제'})"
      ]
     },
     "execution_count": 14,
     "metadata": {},
     "output_type": "execute_result"
    }
   ],
   "source": [
    "docs[0]"
   ]
  },
  {
   "cell_type": "code",
   "execution_count": 16,
   "metadata": {},
   "outputs": [
    {
     "data": {
      "text/plain": [
       "{'input': Document(page_content='안녕하세요 아드 3tv 체제입니다 매일 쏟아지는 코스트코 제품들 할인 상품 제입고 상품 그리고 신제품들 그 와중에 마음에 쏙 들고 가격도 좋으면서 맛있고 편리하고 유용한 상품 오늘도 아드 삼과 함께 어떤 제품이 나왔나 이런 것도 있었네 눈으로 보고 귀로 들으시면서 아드 3의 내돈내산 코스트코 신제품 리뷰 시작합니다 이탈리아 무디 이번엔 파사타 토마토 퓨리입니다 이탈리아의 햇살에 빨갛 익은 토마토를 지중해의 111년만으로 만든 벨벳 재질의 퓨레 원산지도 이탈리아고전 796m 총 여섯 병이 들어 있습니다 가격은 1,990으로 플러스 표시가 되어 있으니까 재입고가 될 수도 안 될 수도 있다는 의미로 사고 싶으면 보일 때 사라라는 의미입니다 열어보니까 진짜 벨벳처럼 부드러운 질감으로 너무 아름다운 토마토의 색이 담겨져 있죠 오직 토마토로 만들어낸 이탈리안 토마토 퓨레의 정수 껍질과 씨을 제거한 토마토를 으깨서 90도 이상 가열해야 그리고 정재한 다음에 진공 상태에서 수분을 날려줍니다 이후에 65도로 저은 살균한 다음에 다시 92도 가열해서 병에 담아낸 제품이에요 성분은 토마토 99.5 그리고 소금이 들어 있어요 그 외엔 아무것도 없습니다 그 토마토도 그냥 먹으면 새콤하면서 짭짤한 맛이 느껴지듯이 새콤하면서 부드러운 진짜 토마토 그 자체예요 단맛이 없어서 살짝 짠맛도 올라오는데 진 진짜 순수한 맛입니다 이거 그냥 물에 타서 드시면 토마토 주스 됩니다 퓨레 1 물 1에서 1.5로 희석해서 찬물에 타서 드시거나 얼음 넣어 드셔도 됩니다 굉장히 부드러워서 그냥 먹어도 좋고 파스타 리조또 피자 베이스 등등 원하시는 곳에 사용하시면 되는데 에그 인을 해서 먹으면 진짜 맛있겠어요 첨가물이 들어 있지 않아서 더 좋은 무띠 토마토 퓨레 소비 기하은 26년 8월 31일이고 개봉하시면 냉장 보관해 주세요 운동 부족 맨날 앉아 있는 현대인에게 필요한 음료입니다 메일 바이오 프로틴 요거트 플레인 260mm 10개 들이로 1,490원 있데 3,500원 할인 중이에요 성분을 보면 lgg 유산균 요건 크리스찬 한센 유산균으로 커클랜드 유산균 제조 업체 세계 1위 유산균이고 덴마크산 유청 단백질 웨이 프로테인이 하죠 이건 빠르게 근육에 흡수되는 단백질이 그리고 유단백 불말 mpi고 해서 우리 몸에 아미노산 공급을 도와주는 단백질 또 락토프리 제품이 라서 유당 블레 증에 있어도 드실 수 있습니다 한 병 90칼로리 단백질 14.3g 채울 수 있어요 약간 묽은 타입이에요 우리가 생각하는 요거트다는 약간 묽은 요구르트 같은 느낌으로 보이는데 마셔보면 잉 약간 암바사 요구르트 같은 맛이에요 프로틴 들어가면 역한 냄새가 날 때도 있고 걸쭉해서 먹기 힘들 때도 있는데이 제품은 부드럽게 마실 수 있어도 좋습니다 뭔가 그 술 마신 다음 날 숙취로 괴로울 때 으으 으 이럴 때 요구르트 벌컥벌컥 마시고 싶은 날 그럴 때 또 땡기는 맛인데요 소비 기아는 24년 8월 28일로 구매일 기준 17일 정도 됩니다 냉장 보관해 주시고 유산균도 챙기고 단백질도 챙길 수 있는 아주 아주 좋은 제품이 나온 것 같습니다 고디바 초콜릿 너무 맛있죠 그래서 홀린듯이 담아온 제품 고디바 브라운입니다 한 박스 18990 원에 구매했어요 원래 브라우니는 베이킹 팬에 굽는 납작한 초콜릿 케이저 진한 초콜릿과 버터의 부드러운 조화가 특징인데 열어보면 이렇게 보라색과 갈색의 봉투의 개별 포장이 되어 있어요 다크와 밀크 두 가지 맛 보라색이 다크 갈색이 밀크보 각각 16개 18개가 들어 있습니다 계당 14g 칼로리는 66c 이렇게 네모난 정사각 모양의 브라우니가 들어 있고 반으로 잘라 보니까 안쪽에 필링 보이시죠 겉에 케이 부분이고 다크는 약간 촉촉한 초코집 맛이에요 거기에 초콜릿 알갱이가 빠진 맛으로 부드러우면서 약간 목막히는 그런 맛입니다 쿠키와 케이크 그 사이의 영역에 있는 거 같아요 그리고 많이 달지 않아요 밀크는 좀 더 연한 갈색으로 막과 식감은 비슷한데 좀 더 라이트해서 다크와 밀크의 차이가 코코아 분말이 있냐 없냐의 차이라서 다크가 좀 더 코코아의 맛이 확납니다 이건 취향의 차이가 있을 수 있겠네요 초콜릿 자체의 맛과 향해 참 좋고 목막히는 맛있습니다 우유를 부르는 맛 고디바는 이름에서 나오는 고급지 짐 나 고디바 브라우니 먹어본 여자야라는 느낌의 쿠키 있습니다 푸드코트에 딱 눈에 띄던 전보 포크 베이크 있니다 고기와 치즈가 50% 증량이 되었다고 하는데 기존에 4,700원 5,900원으로 가격이 25% 정도 올랐어요 저는 사이즈가 커진 줄 알았거든요 근데 사이즈는 비슷해요 28cm 정도인데 사이즈는 예전 거랑 비슷하죠 자 바늘 갈라 보면 꽉 차 있습니다 순대 이가요 빵이 얇아진게 아닌가라는 착각이 들 정도로 고기와 치즈 로 꽉 차 있습니다 먹어 보니까 진짜 이안 가득 고기로 풍성한 느낌이 나는게 진짜 쫄깃하고 맛있습니다 치즈와 고기의 존재감이 확실하게 느껴져요 아 왜 가격 올려라고 마 상할 뻔했는데 고기이 정도 넣어 주면 돼지 국밥보다 나은 거 아닌가라고 생각이 들 정도예요 기존 포크 베이크 다 더 마음에 듭니다 오늘부터 1일이다 포크 베이크와 오늘 아삼이 준비한 코스트코 신제품 리뷰는 여기까지예요 이제 방학도 끝나고 계약 준비해 연이 없으실 텐데 다들 파이팅하시고 건강한 주말 되시길 바랄게요 그럼 아래 3 구독과 좋아요 꾹꾹 눌러 주시면서 우리는 또 다음 주에 만나요 [음악] 안녕 I', metadata={'source': 'EXoJljoSxjY', 'title': '[🐷아돼삼TV]이래서 코스트코 갑니다! 확신의 신제품&추천템! 쇼핑 전 필수시청  🐷코코리뷰 NO.1채널', 'description': 'Unknown', 'view_count': 56403, 'thumbnail_url': 'https://i.ytimg.com/vi/EXoJljoSxjY/hq720.jpg', 'publish_date': '2024-08-16 00:00:00', 'length': 365, 'author': '아돼삼TV-아기돼지삼형제'}),\n",
       " 'text': [{'상품_이름': '이탈리아 무디 파사타 토마토 퓨리',\n",
       "   '상품_설명': '이탈리아의 햇살에 빨갛 익은 토마토를 지중해의 111년만으로 만든 벨벳 재질의 퓨레',\n",
       "   '상품_가격': '1,990',\n",
       "   '상품_평가': '새콤하면서 짭짤한 맛이 느껴지는 토마토 퓨레'},\n",
       "  {'상품_이름': '메일 바이오 프로틴 요거트 플레인',\n",
       "   '상품_설명': 'lgg 유산균과 단백질이 풍부한 요거트',\n",
       "   '상품_가격': '1,490',\n",
       "   '상품_평가': '부드럽게 마실 수 있는 맛있는 요거트'},\n",
       "  {'상품_이름': '고디바 브라운',\n",
       "   '상품_설명': '다크와 밀크 두 가지 맛의 초콜릿 브라우니',\n",
       "   '상품_가격': '18,990',\n",
       "   '상품_평가': '고급스러운 맛과 부드러운 조화가 돋보이는 초콜릿 브라우니'},\n",
       "  {'상품_이름': '포크 베이크',\n",
       "   '상품_설명': '고기와 치즈로 가득한 포크 베이크',\n",
       "   '상품_가격': '5,900',\n",
       "   '상품_평가': '진짜 이안 가득 고기로 풍성한 맛이 나는 포크 베이크'}]}"
      ]
     },
     "execution_count": 16,
     "metadata": {},
     "output_type": "execute_result"
    }
   ],
   "source": [
    "from langchain.chains import create_extraction_chain\n",
    "from langchain_openai import ChatOpenAI\n",
    "from langchain_core.prompts import ChatPromptTemplate\n",
    "\n",
    "# 스키마 정의\n",
    "schema = {\n",
    "    \"properties\": {\n",
    "        \"상품_이름\": {\"type\": \"string\"},\n",
    "        \"상품_설명\": {\"type\": \"string\"},\n",
    "        \"상품_가격\": {\"type\": \"string\"},\n",
    "        \"상품_평가\": {\"type\": \"string\"},\n",
    "    },\n",
    "    \"required\": [\"상품_이름\", \"상품_설명\", \"상품_가격\", \"상품_평가\"],\n",
    "}\n",
    "\n",
    "\n",
    "# Chain 생성\n",
    "prompt_template = \"\"\"Extract and save the relevant entities mentioned \\\n",
    "in the following passage together with their properties. \n",
    "Only extract the properties mentioned in the 'information_extraction' function. \\\n",
    "When no suitable data is present, show the default value 'N/A'.\n",
    "\n",
    "Passage:\n",
    "{input}\n",
    "\"\"\" \n",
    "\n",
    "prompt = ChatPromptTemplate.from_template(prompt_template)\n",
    "llm = ChatOpenAI(temperature=0, model_name=\"gpt-3.5-turbo-0125\", api_key=OPENAI_API_KEY)\n",
    "chain = create_extraction_chain(schema=schema, llm=llm, prompt=prompt)\n",
    "\n",
    "# Chain 실행\n",
    "response = chain.invoke(docs[0])\n",
    "\n",
    "# 결과 확인\n",
    "response"
   ]
  },
  {
   "cell_type": "code",
   "execution_count": 17,
   "metadata": {},
   "outputs": [
    {
     "data": {
      "text/html": [
       "<div>\n",
       "<style scoped>\n",
       "    .dataframe tbody tr th:only-of-type {\n",
       "        vertical-align: middle;\n",
       "    }\n",
       "\n",
       "    .dataframe tbody tr th {\n",
       "        vertical-align: top;\n",
       "    }\n",
       "\n",
       "    .dataframe thead th {\n",
       "        text-align: right;\n",
       "    }\n",
       "</style>\n",
       "<table border=\"1\" class=\"dataframe\">\n",
       "  <thead>\n",
       "    <tr style=\"text-align: right;\">\n",
       "      <th></th>\n",
       "      <th>상품_이름</th>\n",
       "      <th>상품_설명</th>\n",
       "      <th>상품_가격</th>\n",
       "      <th>상품_평가</th>\n",
       "    </tr>\n",
       "  </thead>\n",
       "  <tbody>\n",
       "    <tr>\n",
       "      <th>0</th>\n",
       "      <td>이탈리아 무디 파사타 토마토 퓨리</td>\n",
       "      <td>이탈리아의 햇살에 빨갛 익은 토마토를 지중해의 111년만으로 만든 벨벳 재질의 퓨레</td>\n",
       "      <td>1,990</td>\n",
       "      <td>새콤하면서 짭짤한 맛이 느껴지는 토마토 퓨레</td>\n",
       "    </tr>\n",
       "    <tr>\n",
       "      <th>1</th>\n",
       "      <td>메일 바이오 프로틴 요거트 플레인</td>\n",
       "      <td>lgg 유산균과 단백질이 풍부한 요거트</td>\n",
       "      <td>1,490</td>\n",
       "      <td>부드럽게 마실 수 있는 맛있는 요거트</td>\n",
       "    </tr>\n",
       "    <tr>\n",
       "      <th>2</th>\n",
       "      <td>고디바 브라운</td>\n",
       "      <td>다크와 밀크 두 가지 맛의 초콜릿 브라우니</td>\n",
       "      <td>18,990</td>\n",
       "      <td>고급스러운 맛과 부드러운 조화가 돋보이는 초콜릿 브라우니</td>\n",
       "    </tr>\n",
       "    <tr>\n",
       "      <th>3</th>\n",
       "      <td>포크 베이크</td>\n",
       "      <td>고기와 치즈로 가득한 포크 베이크</td>\n",
       "      <td>5,900</td>\n",
       "      <td>진짜 이안 가득 고기로 풍성한 맛이 나는 포크 베이크</td>\n",
       "    </tr>\n",
       "  </tbody>\n",
       "</table>\n",
       "</div>"
      ],
      "text/plain": [
       "                상품_이름                                           상품_설명   상품_가격  \\\n",
       "0  이탈리아 무디 파사타 토마토 퓨리  이탈리아의 햇살에 빨갛 익은 토마토를 지중해의 111년만으로 만든 벨벳 재질의 퓨레   1,990   \n",
       "1  메일 바이오 프로틴 요거트 플레인                           lgg 유산균과 단백질이 풍부한 요거트   1,490   \n",
       "2             고디바 브라운                         다크와 밀크 두 가지 맛의 초콜릿 브라우니  18,990   \n",
       "3              포크 베이크                              고기와 치즈로 가득한 포크 베이크   5,900   \n",
       "\n",
       "                             상품_평가  \n",
       "0         새콤하면서 짭짤한 맛이 느껴지는 토마토 퓨레  \n",
       "1             부드럽게 마실 수 있는 맛있는 요거트  \n",
       "2  고급스러운 맛과 부드러운 조화가 돋보이는 초콜릿 브라우니  \n",
       "3    진짜 이안 가득 고기로 풍성한 맛이 나는 포크 베이크  "
      ]
     },
     "execution_count": 17,
     "metadata": {},
     "output_type": "execute_result"
    }
   ],
   "source": [
    "# 결과를 판다스 데이터프레임으로 변환\n",
    "df = pd.DataFrame(response['text'])\n",
    "df.head()"
   ]
  },
  {
   "cell_type": "code",
   "execution_count": 18,
   "metadata": {},
   "outputs": [],
   "source": [
    "# 전체 동영상에 대해 자막을 추출하고 엔티티를 추출\n",
    "def extract_entities_from_youtube_videos(url_list):\n",
    "    \"\"\"\n",
    "    YouTube 동영상의 자막을 가져와 엔티티를 추출하는 함수\n",
    "    Args:\n",
    "        url_list (list): YouTube 동영상 URL 리스트\n",
    "    Returns:\n",
    "        pd.DataFrame: 엔티티 추출 결과\n",
    "    \"\"\"\n",
    "    # 스키마 정의\n",
    "    schema = {\n",
    "        \"properties\": {\n",
    "            \"상품_이름\": {\"type\": \"string\"},\n",
    "            \"상품_설명\": {\"type\": \"string\"},\n",
    "            \"상품_가격\": {\"type\": \"string\"},\n",
    "            \"상품_평가\": {\"type\": \"string\"},\n",
    "        },\n",
    "        \"required\": [\"상품_이름\", \"상품_설명\", \"상품_가격\", \"상품_평가\"],\n",
    "    }\n",
    "\n",
    "    # Chain 생성\n",
    "    prompt_template = \"\"\"Extract and save the relevant entities mentioned \\\n",
    "    in the following passage together with their properties. \n",
    "    Only extract the properties mentioned in the 'information_extraction' function. \\\n",
    "    When no suitable data is present, show the default value 'N/A'.\n",
    "\n",
    "    Passage:\n",
    "    {input}\n",
    "    \"\"\" \n",
    "\n",
    "    prompt = ChatPromptTemplate.from_template(prompt_template)\n",
    "    llm = ChatOpenAI(temperature=0, model_name=\"gpt-3.5-turbo-0125\", api_key=OPENAI_API_KEY)\n",
    "    chain = create_extraction_chain(schema=schema, llm=llm, prompt=prompt)\n",
    "\n",
    "    # 결과를 저장할 데이터프레임 생성\n",
    "    df = pd.DataFrame()\n",
    "\n",
    "    for url in url_list:\n",
    "        # 동영상 자막 가져오기\n",
    "        docs = get_youtube_video_transcript(url)\n",
    "\n",
    "        # Chain 실행\n",
    "        response = chain.invoke(docs[0])\n",
    "\n",
    "        # 결과를 데이터프레임으로 변환\n",
    "        df = pd.concat([df, pd.DataFrame(response['text'])])\n",
    "\n",
    "    return df"
   ]
  },
  {
   "cell_type": "code",
   "execution_count": 19,
   "metadata": {},
   "outputs": [
    {
     "data": {
      "text/html": [
       "<div>\n",
       "<style scoped>\n",
       "    .dataframe tbody tr th:only-of-type {\n",
       "        vertical-align: middle;\n",
       "    }\n",
       "\n",
       "    .dataframe tbody tr th {\n",
       "        vertical-align: top;\n",
       "    }\n",
       "\n",
       "    .dataframe thead th {\n",
       "        text-align: right;\n",
       "    }\n",
       "</style>\n",
       "<table border=\"1\" class=\"dataframe\">\n",
       "  <thead>\n",
       "    <tr style=\"text-align: right;\">\n",
       "      <th></th>\n",
       "      <th>상품_이름</th>\n",
       "      <th>상품_설명</th>\n",
       "      <th>상품_가격</th>\n",
       "      <th>상품_평가</th>\n",
       "    </tr>\n",
       "  </thead>\n",
       "  <tbody>\n",
       "    <tr>\n",
       "      <th>0</th>\n",
       "      <td>이탈리아 무디 파사타 토마토 퓨리</td>\n",
       "      <td>이탈리아의 햇살에 빨갛 익은 토마토를 지중해의 111년만으로 만든 벨벳 재질의 퓨레</td>\n",
       "      <td>1,990</td>\n",
       "      <td>새콤하면서 짭짤한 맛이 느껴지는 이탈리안 토마토 퓨레</td>\n",
       "    </tr>\n",
       "    <tr>\n",
       "      <th>1</th>\n",
       "      <td>메일 바이오 프로틴 요거트 플레인</td>\n",
       "      <td>lgg 유산균 요건 크리스찬 한센 유산균으로 커클랜드 유산균 제조 업체 세계 1위 ...</td>\n",
       "      <td>1,490</td>\n",
       "      <td>부드럽게 마실 수 있는 요거트 플레인</td>\n",
       "    </tr>\n",
       "    <tr>\n",
       "      <th>2</th>\n",
       "      <td>고디바 브라운</td>\n",
       "      <td>다크와 밀크 두 가지 맛으로 구성된 초콜릿 브라우니</td>\n",
       "      <td>18,990</td>\n",
       "      <td>고급스러운 맛과 부드러운 조화가 특징인 고디바 브라운</td>\n",
       "    </tr>\n",
       "    <tr>\n",
       "      <th>3</th>\n",
       "      <td>포크 베이크</td>\n",
       "      <td>고기와 치즈가 풍부하게 들어간 포크 베이크</td>\n",
       "      <td>5,900</td>\n",
       "      <td>진짜 이안 가득 고기로 풍성한 맛이 나는 쫄깃한 포크 베이크</td>\n",
       "    </tr>\n",
       "    <tr>\n",
       "      <th>0</th>\n",
       "      <td>글래드 매직랩</td>\n",
       "      <td>고지방이 함유된 음식에는 사용을 피해야 하지만 랩 자체의 끈끈한 접착력이 있어 먹다...</td>\n",
       "      <td>24,990원에 3개</td>\n",
       "      <td>코스트코에서 용량 대비 국내 최저가로 판매되고 있음</td>\n",
       "    </tr>\n",
       "    <tr>\n",
       "      <th>1</th>\n",
       "      <td>동물복지계란</td>\n",
       "      <td>난각번호 1,2번 계란은 개선된 환경에서 자유롭게 지내는 닭이 생산한 신선하고 영양...</td>\n",
       "      <td>30개 한판을 9,490원에</td>\n",
       "      <td>일반 마트에서 비슷한 등급의 계란보다 저렴하고 풀무원 동물복지란 인증을 받은 제품임</td>\n",
       "    </tr>\n",
       "    <tr>\n",
       "      <th>2</th>\n",
       "      <td>속초식 명태무침</td>\n",
       "      <td>집에서 맛있는 명태 회냉면을 즐길 수 있는 코스트코 속초식 명태무침</td>\n",
       "      <td>N/A</td>\n",
       "      <td>냉면 가격이 올라가는 요즘 집에서 손쉽게 즐길 수 있는 제품</td>\n",
       "    </tr>\n",
       "  </tbody>\n",
       "</table>\n",
       "</div>"
      ],
      "text/plain": [
       "                상품_이름                                              상품_설명  \\\n",
       "0  이탈리아 무디 파사타 토마토 퓨리     이탈리아의 햇살에 빨갛 익은 토마토를 지중해의 111년만으로 만든 벨벳 재질의 퓨레   \n",
       "1  메일 바이오 프로틴 요거트 플레인  lgg 유산균 요건 크리스찬 한센 유산균으로 커클랜드 유산균 제조 업체 세계 1위 ...   \n",
       "2             고디바 브라운                       다크와 밀크 두 가지 맛으로 구성된 초콜릿 브라우니   \n",
       "3              포크 베이크                            고기와 치즈가 풍부하게 들어간 포크 베이크   \n",
       "0             글래드 매직랩  고지방이 함유된 음식에는 사용을 피해야 하지만 랩 자체의 끈끈한 접착력이 있어 먹다...   \n",
       "1              동물복지계란  난각번호 1,2번 계란은 개선된 환경에서 자유롭게 지내는 닭이 생산한 신선하고 영양...   \n",
       "2            속초식 명태무침              집에서 맛있는 명태 회냉면을 즐길 수 있는 코스트코 속초식 명태무침   \n",
       "\n",
       "             상품_가격                                           상품_평가  \n",
       "0            1,990                   새콤하면서 짭짤한 맛이 느껴지는 이탈리안 토마토 퓨레  \n",
       "1            1,490                            부드럽게 마실 수 있는 요거트 플레인  \n",
       "2           18,990                   고급스러운 맛과 부드러운 조화가 특징인 고디바 브라운  \n",
       "3            5,900               진짜 이안 가득 고기로 풍성한 맛이 나는 쫄깃한 포크 베이크  \n",
       "0      24,990원에 3개                    코스트코에서 용량 대비 국내 최저가로 판매되고 있음  \n",
       "1  30개 한판을 9,490원에  일반 마트에서 비슷한 등급의 계란보다 저렴하고 풀무원 동물복지란 인증을 받은 제품임  \n",
       "2              N/A               냉면 가격이 올라가는 요즘 집에서 손쉽게 즐길 수 있는 제품  "
      ]
     },
     "execution_count": 19,
     "metadata": {},
     "output_type": "execute_result"
    }
   ],
   "source": [
    "df = extract_entities_from_youtube_videos(url_list[:2])\n",
    "df"
   ]
  },
  {
   "cell_type": "markdown",
   "metadata": {},
   "source": [
    "# 유튜브 동영상 댓글 분석\n",
    "삼성 SDS 채널 구독 이벤트   \n",
    "https://www.youtube.com/watch?v=j_EciRV3V1k&t=15s"
   ]
  },
  {
   "cell_type": "markdown",
   "metadata": {},
   "source": [
    "## 댓글 데이터 크롤링으로 수집"
   ]
  },
  {
   "cell_type": "code",
   "execution_count": 20,
   "metadata": {},
   "outputs": [],
   "source": [
    "# 삼성 SDS 채널 구독 이벤트 \n",
    "\n",
    "url = \"https://www.youtube.com/watch?v=j_EciRV3V1k&t=15s\""
   ]
  },
  {
   "cell_type": "code",
   "execution_count": 21,
   "metadata": {},
   "outputs": [
    {
     "ename": "OSError",
     "evalue": "[Errno 8] Exec format error: '/Users/seran/.wdm/drivers/chromedriver/mac64/128.0.6613.86/chromedriver-mac-arm64/THIRD_PARTY_NOTICES.chromedriver'",
     "output_type": "error",
     "traceback": [
      "\u001b[0;31m---------------------------------------------------------------------------\u001b[0m",
      "\u001b[0;31mOSError\u001b[0m                                   Traceback (most recent call last)",
      "Cell \u001b[0;32mIn[21], line 21\u001b[0m\n\u001b[1;32m     18\u001b[0m service \u001b[38;5;241m=\u001b[39m Service(ChromeDriverManager()\u001b[38;5;241m.\u001b[39minstall())\n\u001b[1;32m     20\u001b[0m \u001b[38;5;66;03m# 웹 드라이버 초기화\u001b[39;00m\n\u001b[0;32m---> 21\u001b[0m driver \u001b[38;5;241m=\u001b[39m \u001b[43mwebdriver\u001b[49m\u001b[38;5;241;43m.\u001b[39;49m\u001b[43mChrome\u001b[49m\u001b[43m(\u001b[49m\u001b[43mservice\u001b[49m\u001b[38;5;241;43m=\u001b[39;49m\u001b[43mservice\u001b[49m\u001b[43m,\u001b[49m\u001b[43m \u001b[49m\u001b[43moptions\u001b[49m\u001b[38;5;241;43m=\u001b[39;49m\u001b[43moptions\u001b[49m\u001b[43m)\u001b[49m\n\u001b[1;32m     23\u001b[0m \u001b[38;5;66;03m# 윈도우 크기 설정\u001b[39;00m\n\u001b[1;32m     24\u001b[0m driver\u001b[38;5;241m.\u001b[39mset_window_size(\u001b[38;5;241m800\u001b[39m, \u001b[38;5;241m600\u001b[39m)\n",
      "File \u001b[0;32m/opt/homebrew/Caskroom/miniforge/base/envs/toy-pjt-b/lib/python3.11/site-packages/selenium/webdriver/chrome/webdriver.py:45\u001b[0m, in \u001b[0;36mWebDriver.__init__\u001b[0;34m(self, options, service, keep_alive)\u001b[0m\n\u001b[1;32m     42\u001b[0m service \u001b[38;5;241m=\u001b[39m service \u001b[38;5;28;01mif\u001b[39;00m service \u001b[38;5;28;01melse\u001b[39;00m Service()\n\u001b[1;32m     43\u001b[0m options \u001b[38;5;241m=\u001b[39m options \u001b[38;5;28;01mif\u001b[39;00m options \u001b[38;5;28;01melse\u001b[39;00m Options()\n\u001b[0;32m---> 45\u001b[0m \u001b[38;5;28;43msuper\u001b[39;49m\u001b[43m(\u001b[49m\u001b[43m)\u001b[49m\u001b[38;5;241;43m.\u001b[39;49m\u001b[38;5;21;43m__init__\u001b[39;49m\u001b[43m(\u001b[49m\n\u001b[1;32m     46\u001b[0m \u001b[43m    \u001b[49m\u001b[43mbrowser_name\u001b[49m\u001b[38;5;241;43m=\u001b[39;49m\u001b[43mDesiredCapabilities\u001b[49m\u001b[38;5;241;43m.\u001b[39;49m\u001b[43mCHROME\u001b[49m\u001b[43m[\u001b[49m\u001b[38;5;124;43m\"\u001b[39;49m\u001b[38;5;124;43mbrowserName\u001b[39;49m\u001b[38;5;124;43m\"\u001b[39;49m\u001b[43m]\u001b[49m\u001b[43m,\u001b[49m\n\u001b[1;32m     47\u001b[0m \u001b[43m    \u001b[49m\u001b[43mvendor_prefix\u001b[49m\u001b[38;5;241;43m=\u001b[39;49m\u001b[38;5;124;43m\"\u001b[39;49m\u001b[38;5;124;43mgoog\u001b[39;49m\u001b[38;5;124;43m\"\u001b[39;49m\u001b[43m,\u001b[49m\n\u001b[1;32m     48\u001b[0m \u001b[43m    \u001b[49m\u001b[43moptions\u001b[49m\u001b[38;5;241;43m=\u001b[39;49m\u001b[43moptions\u001b[49m\u001b[43m,\u001b[49m\n\u001b[1;32m     49\u001b[0m \u001b[43m    \u001b[49m\u001b[43mservice\u001b[49m\u001b[38;5;241;43m=\u001b[39;49m\u001b[43mservice\u001b[49m\u001b[43m,\u001b[49m\n\u001b[1;32m     50\u001b[0m \u001b[43m    \u001b[49m\u001b[43mkeep_alive\u001b[49m\u001b[38;5;241;43m=\u001b[39;49m\u001b[43mkeep_alive\u001b[49m\u001b[43m,\u001b[49m\n\u001b[1;32m     51\u001b[0m \u001b[43m\u001b[49m\u001b[43m)\u001b[49m\n",
      "File \u001b[0;32m/opt/homebrew/Caskroom/miniforge/base/envs/toy-pjt-b/lib/python3.11/site-packages/selenium/webdriver/chromium/webdriver.py:50\u001b[0m, in \u001b[0;36mChromiumDriver.__init__\u001b[0;34m(self, browser_name, vendor_prefix, options, service, keep_alive)\u001b[0m\n\u001b[1;32m     47\u001b[0m \u001b[38;5;28mself\u001b[39m\u001b[38;5;241m.\u001b[39mservice \u001b[38;5;241m=\u001b[39m service\n\u001b[1;32m     49\u001b[0m \u001b[38;5;28mself\u001b[39m\u001b[38;5;241m.\u001b[39mservice\u001b[38;5;241m.\u001b[39mpath \u001b[38;5;241m=\u001b[39m DriverFinder\u001b[38;5;241m.\u001b[39mget_path(\u001b[38;5;28mself\u001b[39m\u001b[38;5;241m.\u001b[39mservice, options)\n\u001b[0;32m---> 50\u001b[0m \u001b[38;5;28;43mself\u001b[39;49m\u001b[38;5;241;43m.\u001b[39;49m\u001b[43mservice\u001b[49m\u001b[38;5;241;43m.\u001b[39;49m\u001b[43mstart\u001b[49m\u001b[43m(\u001b[49m\u001b[43m)\u001b[49m\n\u001b[1;32m     52\u001b[0m executor \u001b[38;5;241m=\u001b[39m ChromiumRemoteConnection(\n\u001b[1;32m     53\u001b[0m     remote_server_addr\u001b[38;5;241m=\u001b[39m\u001b[38;5;28mself\u001b[39m\u001b[38;5;241m.\u001b[39mservice\u001b[38;5;241m.\u001b[39mservice_url,\n\u001b[1;32m     54\u001b[0m     browser_name\u001b[38;5;241m=\u001b[39mbrowser_name,\n\u001b[0;32m   (...)\u001b[0m\n\u001b[1;32m     57\u001b[0m     ignore_proxy\u001b[38;5;241m=\u001b[39moptions\u001b[38;5;241m.\u001b[39m_ignore_local_proxy,\n\u001b[1;32m     58\u001b[0m )\n\u001b[1;32m     60\u001b[0m \u001b[38;5;28;01mtry\u001b[39;00m:\n",
      "File \u001b[0;32m/opt/homebrew/Caskroom/miniforge/base/envs/toy-pjt-b/lib/python3.11/site-packages/selenium/webdriver/common/service.py:98\u001b[0m, in \u001b[0;36mService.start\u001b[0;34m(self)\u001b[0m\n\u001b[1;32m     91\u001b[0m \u001b[38;5;28;01mdef\u001b[39;00m \u001b[38;5;21mstart\u001b[39m(\u001b[38;5;28mself\u001b[39m) \u001b[38;5;241m-\u001b[39m\u001b[38;5;241m>\u001b[39m \u001b[38;5;28;01mNone\u001b[39;00m:\n\u001b[1;32m     92\u001b[0m \u001b[38;5;250m    \u001b[39m\u001b[38;5;124;03m\"\"\"Starts the Service.\u001b[39;00m\n\u001b[1;32m     93\u001b[0m \n\u001b[1;32m     94\u001b[0m \u001b[38;5;124;03m    :Exceptions:\u001b[39;00m\n\u001b[1;32m     95\u001b[0m \u001b[38;5;124;03m     - WebDriverException : Raised either when it can't start the service\u001b[39;00m\n\u001b[1;32m     96\u001b[0m \u001b[38;5;124;03m       or when it can't connect to the service\u001b[39;00m\n\u001b[1;32m     97\u001b[0m \u001b[38;5;124;03m    \"\"\"\u001b[39;00m\n\u001b[0;32m---> 98\u001b[0m     \u001b[38;5;28;43mself\u001b[39;49m\u001b[38;5;241;43m.\u001b[39;49m\u001b[43m_start_process\u001b[49m\u001b[43m(\u001b[49m\u001b[38;5;28;43mself\u001b[39;49m\u001b[38;5;241;43m.\u001b[39;49m\u001b[43m_path\u001b[49m\u001b[43m)\u001b[49m\n\u001b[1;32m    100\u001b[0m     count \u001b[38;5;241m=\u001b[39m \u001b[38;5;241m0\u001b[39m\n\u001b[1;32m    101\u001b[0m     \u001b[38;5;28;01mwhile\u001b[39;00m \u001b[38;5;28;01mTrue\u001b[39;00m:\n",
      "File \u001b[0;32m/opt/homebrew/Caskroom/miniforge/base/envs/toy-pjt-b/lib/python3.11/site-packages/selenium/webdriver/common/service.py:208\u001b[0m, in \u001b[0;36mService._start_process\u001b[0;34m(self, path)\u001b[0m\n\u001b[1;32m    205\u001b[0m         start_info\u001b[38;5;241m.\u001b[39mdwFlags \u001b[38;5;241m=\u001b[39m subprocess\u001b[38;5;241m.\u001b[39mCREATE_NEW_CONSOLE \u001b[38;5;241m|\u001b[39m subprocess\u001b[38;5;241m.\u001b[39mSTARTF_USESHOWWINDOW\n\u001b[1;32m    206\u001b[0m         start_info\u001b[38;5;241m.\u001b[39mwShowWindow \u001b[38;5;241m=\u001b[39m subprocess\u001b[38;5;241m.\u001b[39mSW_HIDE\n\u001b[0;32m--> 208\u001b[0m     \u001b[38;5;28mself\u001b[39m\u001b[38;5;241m.\u001b[39mprocess \u001b[38;5;241m=\u001b[39m \u001b[43msubprocess\u001b[49m\u001b[38;5;241;43m.\u001b[39;49m\u001b[43mPopen\u001b[49m\u001b[43m(\u001b[49m\n\u001b[1;32m    209\u001b[0m \u001b[43m        \u001b[49m\u001b[43mcmd\u001b[49m\u001b[43m,\u001b[49m\n\u001b[1;32m    210\u001b[0m \u001b[43m        \u001b[49m\u001b[43menv\u001b[49m\u001b[38;5;241;43m=\u001b[39;49m\u001b[38;5;28;43mself\u001b[39;49m\u001b[38;5;241;43m.\u001b[39;49m\u001b[43menv\u001b[49m\u001b[43m,\u001b[49m\n\u001b[1;32m    211\u001b[0m \u001b[43m        \u001b[49m\u001b[43mclose_fds\u001b[49m\u001b[38;5;241;43m=\u001b[39;49m\u001b[43mclose_file_descriptors\u001b[49m\u001b[43m,\u001b[49m\n\u001b[1;32m    212\u001b[0m \u001b[43m        \u001b[49m\u001b[43mstdout\u001b[49m\u001b[38;5;241;43m=\u001b[39;49m\u001b[38;5;28;43mself\u001b[39;49m\u001b[38;5;241;43m.\u001b[39;49m\u001b[43mlog_output\u001b[49m\u001b[43m,\u001b[49m\n\u001b[1;32m    213\u001b[0m \u001b[43m        \u001b[49m\u001b[43mstderr\u001b[49m\u001b[38;5;241;43m=\u001b[39;49m\u001b[38;5;28;43mself\u001b[39;49m\u001b[38;5;241;43m.\u001b[39;49m\u001b[43mlog_output\u001b[49m\u001b[43m,\u001b[49m\n\u001b[1;32m    214\u001b[0m \u001b[43m        \u001b[49m\u001b[43mstdin\u001b[49m\u001b[38;5;241;43m=\u001b[39;49m\u001b[43mPIPE\u001b[49m\u001b[43m,\u001b[49m\n\u001b[1;32m    215\u001b[0m \u001b[43m        \u001b[49m\u001b[43mcreationflags\u001b[49m\u001b[38;5;241;43m=\u001b[39;49m\u001b[38;5;28;43mself\u001b[39;49m\u001b[38;5;241;43m.\u001b[39;49m\u001b[43mcreation_flags\u001b[49m\u001b[43m,\u001b[49m\n\u001b[1;32m    216\u001b[0m \u001b[43m        \u001b[49m\u001b[43mstartupinfo\u001b[49m\u001b[38;5;241;43m=\u001b[39;49m\u001b[43mstart_info\u001b[49m\u001b[43m,\u001b[49m\n\u001b[1;32m    217\u001b[0m \u001b[43m        \u001b[49m\u001b[38;5;241;43m*\u001b[39;49m\u001b[38;5;241;43m*\u001b[39;49m\u001b[38;5;28;43mself\u001b[39;49m\u001b[38;5;241;43m.\u001b[39;49m\u001b[43mpopen_kw\u001b[49m\u001b[43m,\u001b[49m\n\u001b[1;32m    218\u001b[0m \u001b[43m    \u001b[49m\u001b[43m)\u001b[49m\n\u001b[1;32m    219\u001b[0m     logger\u001b[38;5;241m.\u001b[39mdebug(\n\u001b[1;32m    220\u001b[0m         \u001b[38;5;124m\"\u001b[39m\u001b[38;5;124mStarted executable: `\u001b[39m\u001b[38;5;132;01m%s\u001b[39;00m\u001b[38;5;124m` in a child process with pid: \u001b[39m\u001b[38;5;132;01m%s\u001b[39;00m\u001b[38;5;124m using \u001b[39m\u001b[38;5;132;01m%s\u001b[39;00m\u001b[38;5;124m to output \u001b[39m\u001b[38;5;132;01m%s\u001b[39;00m\u001b[38;5;124m\"\u001b[39m,\n\u001b[1;32m    221\u001b[0m         \u001b[38;5;28mself\u001b[39m\u001b[38;5;241m.\u001b[39m_path,\n\u001b[0;32m   (...)\u001b[0m\n\u001b[1;32m    224\u001b[0m         \u001b[38;5;28mself\u001b[39m\u001b[38;5;241m.\u001b[39mlog_output,\n\u001b[1;32m    225\u001b[0m     )\n\u001b[1;32m    226\u001b[0m \u001b[38;5;28;01mexcept\u001b[39;00m \u001b[38;5;167;01mTypeError\u001b[39;00m:\n",
      "File \u001b[0;32m/opt/homebrew/Caskroom/miniforge/base/envs/toy-pjt-b/lib/python3.11/subprocess.py:1026\u001b[0m, in \u001b[0;36mPopen.__init__\u001b[0;34m(self, args, bufsize, executable, stdin, stdout, stderr, preexec_fn, close_fds, shell, cwd, env, universal_newlines, startupinfo, creationflags, restore_signals, start_new_session, pass_fds, user, group, extra_groups, encoding, errors, text, umask, pipesize, process_group)\u001b[0m\n\u001b[1;32m   1022\u001b[0m         \u001b[38;5;28;01mif\u001b[39;00m \u001b[38;5;28mself\u001b[39m\u001b[38;5;241m.\u001b[39mtext_mode:\n\u001b[1;32m   1023\u001b[0m             \u001b[38;5;28mself\u001b[39m\u001b[38;5;241m.\u001b[39mstderr \u001b[38;5;241m=\u001b[39m io\u001b[38;5;241m.\u001b[39mTextIOWrapper(\u001b[38;5;28mself\u001b[39m\u001b[38;5;241m.\u001b[39mstderr,\n\u001b[1;32m   1024\u001b[0m                     encoding\u001b[38;5;241m=\u001b[39mencoding, errors\u001b[38;5;241m=\u001b[39merrors)\n\u001b[0;32m-> 1026\u001b[0m     \u001b[38;5;28;43mself\u001b[39;49m\u001b[38;5;241;43m.\u001b[39;49m\u001b[43m_execute_child\u001b[49m\u001b[43m(\u001b[49m\u001b[43margs\u001b[49m\u001b[43m,\u001b[49m\u001b[43m \u001b[49m\u001b[43mexecutable\u001b[49m\u001b[43m,\u001b[49m\u001b[43m \u001b[49m\u001b[43mpreexec_fn\u001b[49m\u001b[43m,\u001b[49m\u001b[43m \u001b[49m\u001b[43mclose_fds\u001b[49m\u001b[43m,\u001b[49m\n\u001b[1;32m   1027\u001b[0m \u001b[43m                        \u001b[49m\u001b[43mpass_fds\u001b[49m\u001b[43m,\u001b[49m\u001b[43m \u001b[49m\u001b[43mcwd\u001b[49m\u001b[43m,\u001b[49m\u001b[43m \u001b[49m\u001b[43menv\u001b[49m\u001b[43m,\u001b[49m\n\u001b[1;32m   1028\u001b[0m \u001b[43m                        \u001b[49m\u001b[43mstartupinfo\u001b[49m\u001b[43m,\u001b[49m\u001b[43m \u001b[49m\u001b[43mcreationflags\u001b[49m\u001b[43m,\u001b[49m\u001b[43m \u001b[49m\u001b[43mshell\u001b[49m\u001b[43m,\u001b[49m\n\u001b[1;32m   1029\u001b[0m \u001b[43m                        \u001b[49m\u001b[43mp2cread\u001b[49m\u001b[43m,\u001b[49m\u001b[43m \u001b[49m\u001b[43mp2cwrite\u001b[49m\u001b[43m,\u001b[49m\n\u001b[1;32m   1030\u001b[0m \u001b[43m                        \u001b[49m\u001b[43mc2pread\u001b[49m\u001b[43m,\u001b[49m\u001b[43m \u001b[49m\u001b[43mc2pwrite\u001b[49m\u001b[43m,\u001b[49m\n\u001b[1;32m   1031\u001b[0m \u001b[43m                        \u001b[49m\u001b[43merrread\u001b[49m\u001b[43m,\u001b[49m\u001b[43m \u001b[49m\u001b[43merrwrite\u001b[49m\u001b[43m,\u001b[49m\n\u001b[1;32m   1032\u001b[0m \u001b[43m                        \u001b[49m\u001b[43mrestore_signals\u001b[49m\u001b[43m,\u001b[49m\n\u001b[1;32m   1033\u001b[0m \u001b[43m                        \u001b[49m\u001b[43mgid\u001b[49m\u001b[43m,\u001b[49m\u001b[43m \u001b[49m\u001b[43mgids\u001b[49m\u001b[43m,\u001b[49m\u001b[43m \u001b[49m\u001b[43muid\u001b[49m\u001b[43m,\u001b[49m\u001b[43m \u001b[49m\u001b[43mumask\u001b[49m\u001b[43m,\u001b[49m\n\u001b[1;32m   1034\u001b[0m \u001b[43m                        \u001b[49m\u001b[43mstart_new_session\u001b[49m\u001b[43m,\u001b[49m\u001b[43m \u001b[49m\u001b[43mprocess_group\u001b[49m\u001b[43m)\u001b[49m\n\u001b[1;32m   1035\u001b[0m \u001b[38;5;28;01mexcept\u001b[39;00m:\n\u001b[1;32m   1036\u001b[0m     \u001b[38;5;66;03m# Cleanup if the child failed starting.\u001b[39;00m\n\u001b[1;32m   1037\u001b[0m     \u001b[38;5;28;01mfor\u001b[39;00m f \u001b[38;5;129;01min\u001b[39;00m \u001b[38;5;28mfilter\u001b[39m(\u001b[38;5;28;01mNone\u001b[39;00m, (\u001b[38;5;28mself\u001b[39m\u001b[38;5;241m.\u001b[39mstdin, \u001b[38;5;28mself\u001b[39m\u001b[38;5;241m.\u001b[39mstdout, \u001b[38;5;28mself\u001b[39m\u001b[38;5;241m.\u001b[39mstderr)):\n",
      "File \u001b[0;32m/opt/homebrew/Caskroom/miniforge/base/envs/toy-pjt-b/lib/python3.11/subprocess.py:1955\u001b[0m, in \u001b[0;36mPopen._execute_child\u001b[0;34m(self, args, executable, preexec_fn, close_fds, pass_fds, cwd, env, startupinfo, creationflags, shell, p2cread, p2cwrite, c2pread, c2pwrite, errread, errwrite, restore_signals, gid, gids, uid, umask, start_new_session, process_group)\u001b[0m\n\u001b[1;32m   1953\u001b[0m     err_msg \u001b[38;5;241m=\u001b[39m os\u001b[38;5;241m.\u001b[39mstrerror(errno_num)\n\u001b[1;32m   1954\u001b[0m \u001b[38;5;28;01mif\u001b[39;00m err_filename \u001b[38;5;129;01mis\u001b[39;00m \u001b[38;5;129;01mnot\u001b[39;00m \u001b[38;5;28;01mNone\u001b[39;00m:\n\u001b[0;32m-> 1955\u001b[0m     \u001b[38;5;28;01mraise\u001b[39;00m child_exception_type(errno_num, err_msg, err_filename)\n\u001b[1;32m   1956\u001b[0m \u001b[38;5;28;01melse\u001b[39;00m:\n\u001b[1;32m   1957\u001b[0m     \u001b[38;5;28;01mraise\u001b[39;00m child_exception_type(errno_num, err_msg)\n",
      "\u001b[0;31mOSError\u001b[0m: [Errno 8] Exec format error: '/Users/seran/.wdm/drivers/chromedriver/mac64/128.0.6613.86/chromedriver-mac-arm64/THIRD_PARTY_NOTICES.chromedriver'"
     ]
    }
   ],
   "source": [
    "# Seleium 드라이버 생성\n",
    "from selenium import webdriver\n",
    "from selenium.webdriver.chrome.service import Service\n",
    "from webdriver_manager.chrome import ChromeDriverManager\n",
    "\n",
    "from selenium.webdriver.common.keys import Keys\n",
    "from selenium.webdriver.common.by import By\n",
    "\n",
    "from bs4 import BeautifulSoup\n",
    "import time\n",
    "import random\n",
    "\n",
    "# # Chrome 옵션 설정\n",
    "# options = webdriver.ChromeOptions()\n",
    "# # options.add_argument('--headless')  \n",
    "\n",
    "# # 드라이버 서비스 생성\n",
    "# service = Service(ChromeDriverManager().install())\n",
    "\n",
    "# # 웹 드라이버 초기화\n",
    "# driver = webdriver.Chrome(service=service, options=options)\n",
    "\n",
    "\n",
    "### mac에 맞게 변경 ###\n",
    "# Chrome 옵션 설정\n",
    "\n",
    "options = webdriver.ChromeOptions()\n",
    "options.add_argument('--no-sandbox')\n",
    "options.add_argument('--disable-dev-shm-usage')\n",
    "\n",
    "# Selenium Manager를 사용하여 자동으로 드라이버 관리\n",
    "service = Service()\n",
    "\n",
    "# 웹 드라이버 초기화\n",
    "driver = webdriver.Chrome(service=service, options=options)\n",
    "\n",
    "#####################\n",
    "\n",
    "\n",
    "\n",
    "# 윈도우 크기 설정\n",
    "driver.set_window_size(800, 600)\n",
    "\n",
    "# URL 접속하여 실행\n",
    "driver.implicitly_wait(5)\n",
    "driver.get(url)\n",
    "\n",
    "# 팝업의 '아니요' 버튼을 클릭하여 닫기\n",
    "try:\n",
    "    dismiss_button = driver.find_element(By.CSS_SELECTOR, \"#dismiss-button button\")\n",
    "    dismiss_button.click()\n",
    "except:\n",
    "    pass "
   ]
  },
  {
   "cell_type": "code",
   "execution_count": null,
   "metadata": {},
   "outputs": [],
   "source": [
    "# 현재 페이지 높이\n",
    "current_page_height = driver.execute_script(\"return document.documentElement.scrollHeight\") \n",
    "print(current_page_height)\n",
    "\n",
    "\n",
    "# 스크롤 다운\n",
    "while current_page_height < 100000: \n",
    "    \n",
    "    driver.execute_script(f\"window.scrollTo({current_page_height}, {current_page_height + 10000});\") \n",
    "    time.sleep(random.randint(1, 4))\n",
    "    body = driver.find_element(By.CSS_SELECTOR, 'body')\n",
    "    body.send_keys(Keys.PAGE_DOWN)\n",
    "    time.sleep(random.randint(1, 4))\n",
    "    \n",
    "    scrolled_page_height = driver.execute_script(\"return document.documentElement.scrollHeight\")  \n",
    "    if scrolled_page_height == current_page_height: \n",
    "        break\n",
    "    current_page_height = driver.execute_script(\"return document.documentElement.scrollHeight\")     \n"
   ]
  },
  {
   "cell_type": "code",
   "execution_count": null,
   "metadata": {},
   "outputs": [],
   "source": [
    "# HTML 소스 파싱 \n",
    "html = driver.page_source\n",
    "soup = BeautifulSoup(html, 'html.parser')\n",
    "soup.find(name=\"div\", attrs={\"id\":\"contents\"})\n",
    "\n",
    "# 댓글 요소를 찾기\n",
    "reviews = soup.find_all(name='ytd-comment-thread-renderer', attrs={'class':'style-scope ytd-item-section-renderer'})\n",
    "\n",
    "print(len(reviews))\n",
    "print(reviews[2])"
   ]
  },
  {
   "cell_type": "code",
   "execution_count": null,
   "metadata": {},
   "outputs": [],
   "source": [
    "### 사용자 이름\n",
    "#author-text > span\n",
    "reviews[2].select(\"#author-text > span\")[0].text.strip()"
   ]
  },
  {
   "cell_type": "code",
   "execution_count": null,
   "metadata": {},
   "outputs": [],
   "source": [
    "### 댓글 텍스트\n",
    "#content-text\n",
    "reviews[2].select(\"#content-text\")[0].text"
   ]
  },
  {
   "cell_type": "code",
   "execution_count": null,
   "metadata": {},
   "outputs": [],
   "source": [
    "### 날짜\n",
    "#published-time-text\n",
    "reviews[2].select(\"#published-time-text\")[0].text.strip()"
   ]
  },
  {
   "cell_type": "code",
   "execution_count": null,
   "metadata": {},
   "outputs": [],
   "source": [
    "### 리뷰 정보(이름, 댓글, 날짜)를 추출하는 함수 정의\n",
    "def get_review_info(review):\n",
    "    \"\"\"\n",
    "    댓글 요소에서 사용자 이름, 댓글, 날짜를 추출하는 함수\n",
    "    Args:\n",
    "        review: 댓글 요소\n",
    "    Returns:\n",
    "        dict: 사용자 이름, 댓글, 날짜 정보를 담은 딕셔너리\n",
    "    \"\"\"\n",
    "    author = review.select(\"#author-text > span\")[0].text.strip()\n",
    "    comment = review.select(\"#content-text\")[0].text\n",
    "    date = review.select(\"#published-time-text\")[0].text.strip()\n",
    "    return {\"author\": author, \"comment\": comment, \"date\": date}\n",
    "\n",
    "\n",
    "# 리뷰 정보 추출\n",
    "review_info = get_review_info(reviews[2])\n",
    "print(review_info)"
   ]
  },
  {
   "cell_type": "code",
   "execution_count": null,
   "metadata": {},
   "outputs": [],
   "source": [
    "from datetime import datetime\n",
    "from dateutil.relativedelta import relativedelta\n",
    "\n",
    "def convert_time_strings(time_str, current_time=None):\n",
    "    \"\"\"\n",
    "    시간 문자열을 datetime 객체로 변환하는 함수\n",
    "    Args:\n",
    "        time_str: 시간 문자열\n",
    "        current_time: 기준 시간\n",
    "    Returns:\n",
    "        datetime: 변환된 datetime 객체\n",
    "    \"\"\"\n",
    "    if current_time is None:\n",
    "        current_time = datetime.now()\n",
    "\n",
    "    time_str = time_str.replace(\" \", \"\").strip()\n",
    "\n",
    "    if \"분전\" in time_str:\n",
    "        minutes = time_str.replace(\"분전\", \"\")\n",
    "        minutes = re.sub(\"[^0-9]\", \"\", minutes)\n",
    "        minutes = int(minutes)\n",
    "        return (current_time - relativedelta(minutes=minutes)).strftime(\"%Y-%m-%d %H:%M:%S\")\n",
    "        \n",
    "    elif \"시간전\" in time_str:\n",
    "        hours = time_str.replace(\"시간전\", \"\")\n",
    "        hours = re.sub(\"[^0-9]\", \"\", hours)\n",
    "        hours = int(hours)\n",
    "        return (current_time - relativedelta(hours=hours)).strftime(\"%Y-%m-%d %H:%M:%S\")\n",
    "    \n",
    "    elif \"일전\" in time_str:\n",
    "        days = time_str.replace(\"일전\", \"\")\n",
    "        days = re.sub(\"[^0-9]\", \"\", days)\n",
    "        days = int(days)\n",
    "        return (current_time - relativedelta(days=days)).strftime(\"%Y-%m-%d %H:%M:%S\")\n",
    "    elif \"주전\" in time_str:\n",
    "        weeks = time_str.replace(\"주전\", \"\")\n",
    "        weeks = re.sub(\"[^0-9]\", \"\", weeks)\n",
    "        weeks = int(weeks)\n",
    "        return (current_time - relativedelta(weeks=weeks)).strftime(\"%Y-%m-%d %H:%M:%S\")\n",
    "    elif \"개월전\" in time_str:\n",
    "        months = time_str.replace(\"개월전\", \"\")\n",
    "        months = re.sub(\"[^0-9]\", \"\", months)\n",
    "        months = int(months)\n",
    "        return (current_time - relativedelta(months=months)).strftime(\"%Y-%m-%d %H:%M:%S\")\n",
    "    elif \"년전\" in time_str:\n",
    "        years = time_str.replace(\"년전\", \"\")\n",
    "        years = re.sub(\"[^0-9]\", \"\", years)\n",
    "        years = int(years)\n",
    "        return (current_time - relativedelta(years=years)).strftime(\"%Y-%m-%d %H:%M:%S\")\n",
    "    else:\n",
    "        try:\n",
    "            time_str = (time_str).strftime(\"%Y-%m-%d %H:%M:%S\")\n",
    "        except:\n",
    "            time_str = np.nan\n",
    "        return time_str\n",
    "    \n",
    "# 시간 문자열 변환\n",
    "time_str = \"1시간전\"\n",
    "converted_time = convert_time_strings(time_str)\n",
    "print(converted_time)"
   ]
  },
  {
   "cell_type": "code",
   "execution_count": null,
   "metadata": {},
   "outputs": [],
   "source": [
    "### 리뷰 정보(이름, 댓글, 좋아요, 날짜)를 추출하는 함수 정의\n",
    "def get_review_info(review):\n",
    "    \"\"\"\n",
    "    댓글 요소에서 사용자 이름, 댓글, 날짜를 추출하는 함수\n",
    "    Args:\n",
    "        review: 댓글 요소\n",
    "    Returns:\n",
    "        dict: 사용자 이름, 댓글, 날짜 정보를 담은 딕셔너리\n",
    "    \"\"\"\n",
    "    author = review.select(\"#author-text > span\")[0].text.strip()\n",
    "    comment = review.select(\"#content-text\")[0].text\n",
    "    date = review.select(\"#published-time-text\")[0].text.strip()\n",
    "    try:\n",
    "        date = convert_time_strings(date)\n",
    "    except:\n",
    "        pass\n",
    "    return {\"author\": author, \"comment\": comment, \"date\": date}\n",
    "\n",
    "\n",
    "# 리뷰 정보 추출\n",
    "review_info = get_review_info(reviews[2])\n",
    "print(review_info)"
   ]
  },
  {
   "cell_type": "code",
   "execution_count": null,
   "metadata": {},
   "outputs": [],
   "source": [
    "### 한 페이지의 모든 리뷰를 반복문으로 추출하는 함수 정의\n",
    "\n",
    "def get_youtube_reviews(url):\n",
    "    \"\"\"\n",
    "    한 페이지의 모든 리뷰를 추출하는 함수\n",
    "    Args:\n",
    "        url: YouTube 동영상 URL\n",
    "    Returns:\n",
    "        list: 리뷰 정보 딕셔너리를 담은 리스트\n",
    "    \"\"\"\n",
    "    # driver 설정\n",
    "    options = webdriver.ChromeOptions()\n",
    "    options.add_argument('--headless')  \n",
    "    service = Service(ChromeDriverManager().install())\n",
    "    driver = webdriver.Chrome(service=service, options=options)\n",
    "    driver.set_window_size(800, 600)\n",
    "    driver.get(url)\n",
    "    driver.implicitly_wait(5)\n",
    "    time.sleep(5)\n",
    "\n",
    "    # 팝업 닫기\n",
    "    try:\n",
    "        dismiss_button = driver.find_element(By.CSS_SELECTOR, \"#dismiss-button button\")\n",
    "        dismiss_button.click()\n",
    "    except:\n",
    "        pass\n",
    "\n",
    "    driver.implicitly_wait(5)\n",
    "    time.sleep(5)\n",
    "   \n",
    "    current_page_height = driver.execute_script(\"return document.documentElement.scrollHeight\") \n",
    "    while current_page_height < 100000: \n",
    "        driver.execute_script(f\"window.scrollTo({current_page_height}, {current_page_height + 10000});\") \n",
    "        time.sleep(random.randint(1, 4))\n",
    "        body = driver.find_element(By.CSS_SELECTOR, 'body')\n",
    "        body.send_keys(Keys.PAGE_DOWN)\n",
    "        time.sleep(random.randint(1, 4))\n",
    "        scrolled_page_height = driver.execute_script(\"return document.documentElement.scrollHeight\")  \n",
    "        if scrolled_page_height == current_page_height: \n",
    "            break\n",
    "        current_page_height = driver.execute_script(\"return document.documentElement.scrollHeight\")  \n",
    "\n",
    "    # HTML 추출하고 driver 닫기\n",
    "    driver.implicitly_wait(5)\n",
    "    html = driver.page_source\n",
    "    driver.close()\n",
    "    \n",
    "    # HTML 파싱\n",
    "    soup = BeautifulSoup(html, 'html.parser')\n",
    "    reviews = soup.find_all(name='ytd-comment-thread-renderer', attrs={'class':'style-scope ytd-item-section-renderer'})\n",
    "    review_list = []\n",
    "    for review in reviews:\n",
    "        review_info = get_review_info(review)\n",
    "        review_list.append(review_info)\n",
    "    return review_list\n",
    "\n",
    "\n",
    "# 함수 실행\n",
    "reviews = get_youtube_reviews(url)\n",
    "print(len(reviews))\n",
    "print(reviews[0])"
   ]
  },
  {
   "cell_type": "code",
   "execution_count": null,
   "metadata": {},
   "outputs": [],
   "source": [
    "# 판다스 데이터프레임으로 변환\n",
    "df = pd.DataFrame(reviews)\n",
    "df.head()"
   ]
  },
  {
   "cell_type": "code",
   "execution_count": null,
   "metadata": {},
   "outputs": [],
   "source": [
    "# 수집한 데이터를 저장\n",
    "df.to_csv(\"youtube_reviews.csv\", index=False)"
   ]
  },
  {
   "cell_type": "code",
   "execution_count": null,
   "metadata": {},
   "outputs": [],
   "source": [
    "# 저장해둔 데이터를 불러오는 코드\n",
    "df = pd.read_csv(\"youtube_reviews.csv\")"
   ]
  },
  {
   "cell_type": "code",
   "execution_count": null,
   "metadata": {},
   "outputs": [],
   "source": [
    "pd.to_datetime(df['date']).describe()"
   ]
  },
  {
   "cell_type": "markdown",
   "metadata": {},
   "source": [
    "## 시간에 따른 리뷰 수의 변화를 그래프로 시각화"
   ]
  },
  {
   "cell_type": "code",
   "execution_count": null,
   "metadata": {},
   "outputs": [],
   "source": [
    "# 날짜 데이터를 datetime 객체로 변환\n",
    "df['date'] = pd.to_datetime(df['date'])\n",
    "\n",
    "# 날짜별로 데이터를 그룹화하고 리뷰 수를 계산\n",
    "review_counts = df.groupby(df['date'].dt.date).size()\n",
    "\n",
    "# 그래프로 시각화\n",
    "plt.figure(figsize=(10, 4))\n",
    "review_counts.plot(kind='line', marker='o', linestyle='-')\n",
    "plt.title('Daily Review Counts Over Time')\n",
    "plt.xlabel('Date')\n",
    "plt.ylabel('Number of Reviews')\n",
    "plt.grid(True)\n",
    "plt.show()\n"
   ]
  },
  {
   "cell_type": "markdown",
   "metadata": {},
   "source": [
    "## Huggingface Pipleline 으로 감성 분석"
   ]
  },
  {
   "cell_type": "code",
   "execution_count": null,
   "metadata": {},
   "outputs": [],
   "source": [
    "from transformers import pipeline\n",
    "sentiment_pipeline = pipeline(model=\"dudcjs2779/sentiment-analysis-with-klue-bert-base\")\n",
    "data = [\"너무 좋아요\", \"조금 아쉬웠어요\", \"좋은지 나쁜지 모르겠어요\", \"최악이에요\", \"최고에요\"]\n",
    "sentiment_pipeline(data)"
   ]
  },
  {
   "cell_type": "code",
   "execution_count": null,
   "metadata": {},
   "outputs": [],
   "source": [
    "df['comment'].str.len().describe()"
   ]
  },
  {
   "cell_type": "code",
   "execution_count": null,
   "metadata": {},
   "outputs": [],
   "source": [
    "df[df['comment'].str.len() < 10]"
   ]
  },
  {
   "cell_type": "code",
   "execution_count": null,
   "metadata": {},
   "outputs": [],
   "source": [
    "# 리뷰에 대한 감정 분석 결과를 긍정, 부정으로 예측 \n",
    "def analyze_sentiment_classification(review):\n",
    "    \"\"\"\n",
    "    리뷰에 대한 감정 분석 결과를 중립(LABEL_0), 긍정(LABEL_1), 부정(LABEL_2)로 분류\n",
    "    Args:\n",
    "        review: 리뷰 텍스트\n",
    "    Returns:\n",
    "        float: 감정 분석 결과\n",
    "    \"\"\"\n",
    "    sentiment_pipeline = pipeline(model=\"dudcjs2779/sentiment-analysis-with-klue-bert-base\")\n",
    "    sentiment = sentiment_pipeline([str(review)[:100]])[0]\n",
    "    \n",
    "    return sentiment['label']\n",
    "\n",
    "# 함수 실행\n",
    "sentiment_labels = analyze_sentiment_classification(data[0])\n",
    "sentiment_labels"
   ]
  },
  {
   "cell_type": "code",
   "execution_count": null,
   "metadata": {},
   "outputs": [],
   "source": [
    "data[0]"
   ]
  },
  {
   "cell_type": "code",
   "execution_count": null,
   "metadata": {},
   "outputs": [],
   "source": [
    "df['comment'].head()"
   ]
  },
  {
   "cell_type": "code",
   "execution_count": null,
   "metadata": {},
   "outputs": [],
   "source": [
    "# HTML 태그 제거\n",
    "df['comment'] = df['comment'].str.replace('[^A-Za-z0-9가-힣ㄱ-ㅎ\\ ]', '', regex=True)\n",
    "df['comment'].head()"
   ]
  },
  {
   "cell_type": "code",
   "execution_count": null,
   "metadata": {},
   "outputs": [],
   "source": [
    "# 리뷰에 대한 감정 분석 결과를 데이터프레임에 추가\n",
    "df['sentiment_class'] = df['comment'].apply(analyze_sentiment_classification)\n",
    "df.head()"
   ]
  },
  {
   "cell_type": "code",
   "execution_count": null,
   "metadata": {},
   "outputs": [],
   "source": [
    "# df.to_csv(\"youtube_reviews_classification.csv\", index=False)\n",
    "df = pd.read_csv(\"youtube_reviews_classification.csv\")\n",
    "df.head()"
   ]
  },
  {
   "cell_type": "code",
   "execution_count": null,
   "metadata": {},
   "outputs": [],
   "source": [
    "# 감성 분석 결과를 막대 그래프로 비교\n",
    "plt.figure(figsize=(10, 3))\n",
    "sns.countplot(x='sentiment_class', data=df)\n",
    "plt.show()"
   ]
  },
  {
   "cell_type": "code",
   "execution_count": null,
   "metadata": {},
   "outputs": [],
   "source": [
    "# 부정 감성을 갖고 있는 데이터를 확인 \n",
    "df[df['sentiment_class']==\"LABEL_2\"]"
   ]
  },
  {
   "cell_type": "code",
   "execution_count": null,
   "metadata": {},
   "outputs": [],
   "source": [
    "### 시간의 변화에 따른 감성 분석 변화\n",
    "\n",
    "# 'date' 열을 datetime 형태로 변환\n",
    "df['date'] = pd.to_datetime(df['date'])\n",
    "\n",
    "# 월별로 감성 클래스의 빈도 계산\n",
    "df['month'] = df['date'].dt.month  \n",
    "grouped_data = df.groupby(['month', 'sentiment_class']).size().reset_index(name='counts')\n",
    "\n",
    "# Pivot Table 생성\n",
    "pivot_data = grouped_data.pivot(index='month', columns='sentiment_class', values='counts').fillna(0)\n",
    "\n",
    "# 시각화\n",
    "pivot_data.plot(kind='bar', stacked=True, figsize=(10, 5))\n",
    "plt.title('월별 감성 분석 결과')\n",
    "plt.xlabel('날짜')\n",
    "plt.ylabel('리뷰 수')\n",
    "plt.show()"
   ]
  },
  {
   "cell_type": "markdown",
   "metadata": {},
   "source": [
    "## 랭체인을 활용한 LLM 감성분석 (분류)"
   ]
  },
  {
   "cell_type": "code",
   "execution_count": null,
   "metadata": {},
   "outputs": [],
   "source": [
    "from langchain_core.prompts.few_shot import FewShotPromptTemplate\n",
    "from langchain_core.prompts.prompt import PromptTemplate\n",
    "\n",
    "# 리뷰 예시와 해당 리뷰의 감성(긍정, 부정, 중립)을 정의\n",
    "examples = [\n",
    "    {\n",
    "        \"review\": \"매우 유익했습니다!\",\n",
    "        \"sentiment\": \"긍정\",\n",
    "    },\n",
    "    {\n",
    "        \"review\": \"매우 실망스러웠어요.\",\n",
    "        \"sentiment\": \"부정\",\n",
    "    },\n",
    "    {\n",
    "        \"review\": \"만족스러웠습니다.\",\n",
    "        \"sentiment\": \"긍정\",\n",
    "    },\n",
    "    {\n",
    "        \"review\": \"사용이 간편해서 좋았습니다.\",\n",
    "        \"sentiment\": \"긍정\",\n",
    "    },\n",
    "    {\n",
    "        \"review\": \"내용이 조금 지루했지만, 정보는 유용했습니다.\",\n",
    "        \"sentiment\": \"중립\",\n",
    "    },\n",
    "    {\n",
    "        \"review\": \"예상보다 참석자가 많아서 질문을 충분히 하지 못했습니다.\",\n",
    "        \"sentiment\": \"부정\",\n",
    "    },\n",
    "]\n",
    "\n",
    "\n",
    "# Few-shot 학습을 위한 템플릿 정의\n",
    "example_prompt = PromptTemplate(\n",
    "    input_variables=[\"review\", \"sentiment\"], template=\"review: {review}\\n{sentiment}\"\n",
    ")\n",
    "\n",
    "print(example_prompt.format(**examples[0]))"
   ]
  },
  {
   "cell_type": "code",
   "execution_count": null,
   "metadata": {},
   "outputs": [],
   "source": [
    "prompt = FewShotPromptTemplate(\n",
    "    examples=examples,\n",
    "    example_prompt=example_prompt,\n",
    "    suffix=\"review: {input}\",\n",
    "    input_variables=[\"input\"],\n",
    ")\n",
    "\n",
    "# 새 리뷰에 대한 감성 분석 예제 생성\n",
    "new_review = \"이벤트 내용은 좋은데 기간이 너무 짧았어요.\"\n",
    "print(prompt.format(input=new_review))"
   ]
  },
  {
   "cell_type": "code",
   "execution_count": null,
   "metadata": {},
   "outputs": [],
   "source": [
    "# LLM\n",
    "from langchain_openai import ChatOpenAI\n",
    "llm = ChatOpenAI(temperature=0, model=\"gpt-3.5-turbo-0125\",\n",
    "                 api_key=OPENAI_API_KEY)\n",
    "\n",
    "chain = prompt | llm\n",
    "\n",
    "response = chain.invoke(new_review)\n",
    "\n",
    "response"
   ]
  },
  {
   "cell_type": "code",
   "execution_count": null,
   "metadata": {},
   "outputs": [],
   "source": [
    "sentiment = response.content\n",
    "sentiment"
   ]
  },
  {
   "cell_type": "code",
   "execution_count": null,
   "metadata": {},
   "outputs": [],
   "source": [
    "# 5개의 샘플 데이터\n",
    "test_df = df.head()\n",
    "test_df"
   ]
  },
  {
   "cell_type": "code",
   "execution_count": null,
   "metadata": {},
   "outputs": [],
   "source": [
    "# 모든 리뷰에 대해서 감성 분석을 적용해서 새로운 열에 추가하는 함수\n",
    "def analyze_sentiment_llm(review):\n",
    "    response = chain.invoke(review)\n",
    "    return response.content\n",
    "\n",
    "test_df['sentiment_llm'] = test_df['comment'].apply(analyze_sentiment_llm)\n",
    "test_df"
   ]
  },
  {
   "cell_type": "markdown",
   "metadata": {},
   "source": [
    "## 랭체인을 활용한 LLM 감성분석 (평점 예측)"
   ]
  },
  {
   "cell_type": "code",
   "execution_count": null,
   "metadata": {},
   "outputs": [],
   "source": [
    "from langchain_core.prompts.prompt import PromptTemplate\n",
    "from langchain_openai import ChatOpenAI\n",
    "from langchain_core.output_parsers import StrOutputParser\n",
    "\n",
    "\n",
    "llm = ChatOpenAI(temperature=0, model=\"gpt-3.5-turbo-0125\",\n",
    "                 api_key=OPENAI_API_KEY)\n",
    "\n",
    "\n",
    "template = \"\"\"\n",
    "Classify the given sentiment of the given text into positive or negative classes and provide a relevant score.\n",
    "The sentiment score should be between 0.0 and 1.0, where 0.0 indicates a negative sentiment and 1.0 indicates a positive sentiment.\n",
    "\n",
    "Input: {input}\n",
    "\n",
    "Output: sentiment_label (Score: sentiment_score)\n",
    "\"\"\"\n",
    "\n",
    "prompt = PromptTemplate.from_template(template)\n",
    "output_parser = StrOutputParser()\n",
    "\n",
    "# LCEL chaining\n",
    "chain = prompt | llm | output_parser\n",
    "\n",
    "# chain 호출\n",
    "response = chain.invoke({\"input\": \"최고예요\"})\n",
    "\n",
    "# 결과 확인\n",
    "response"
   ]
  },
  {
   "cell_type": "code",
   "execution_count": null,
   "metadata": {},
   "outputs": [],
   "source": [
    "re.search(r\"\\d+\\.\\d+\", response).group()"
   ]
  },
  {
   "cell_type": "code",
   "execution_count": null,
   "metadata": {},
   "outputs": [],
   "source": [
    "# 감정 분석 결과를 반환하는 함수 정의\n",
    "def analyze_sentiment_score_llm(review):\n",
    "    \"\"\"\n",
    "    리뷰에 대한 감정 분석 결과를 0~1 사이의 값으로 변환하는 함수\n",
    "    Args:\n",
    "        review: 리뷰 텍스트\n",
    "    Returns:\n",
    "        float: 감정 분석 결과\n",
    "    \"\"\"\n",
    "    template = \"\"\"\n",
    "    Classify the given sentiment of the given text into positive or negative classes and provide a relevant score.\n",
    "    The sentiment score should be between 0.0 and 1.0, where 0.0 indicates a negative sentiment and 1.0 indicates a positive sentiment.\n",
    "\n",
    "    Input: {input}\n",
    "\n",
    "    Output: sentiment_label (Score: sentiment_score)\n",
    "    \"\"\"\n",
    "\n",
    "    prompt = PromptTemplate.from_template(template)\n",
    "    output_parser = StrOutputParser()\n",
    "\n",
    "    llm = ChatOpenAI(temperature=0, model=\"gpt-3.5-turbo-0125\",\n",
    "                     api_key=OPENAI_API_KEY)\n",
    "\n",
    "    chain = prompt | llm | output_parser\n",
    "\n",
    "    response = chain.invoke({\"input\": review})\n",
    "    \n",
    "    sentiment_score = re.search(r\"\\d+\\.\\d+\", response).group()\n",
    "    \n",
    "    return sentiment_score\n",
    "\n",
    "\n",
    "# 함수 실행\n",
    "sentiment_score = analyze_sentiment_score_llm(\"최고예요\")\n",
    "sentiment_score"
   ]
  },
  {
   "cell_type": "code",
   "execution_count": null,
   "metadata": {},
   "outputs": [],
   "source": [
    "# 함수 실행\n",
    "sentiment_score = analyze_sentiment_score_llm(\"별로예요\")\n",
    "sentiment_score"
   ]
  },
  {
   "cell_type": "code",
   "execution_count": null,
   "metadata": {},
   "outputs": [],
   "source": [
    "# 함수 실행\n",
    "sentiment_score = analyze_sentiment_score_llm(\"보통 수준이에요\")\n",
    "sentiment_score"
   ]
  },
  {
   "cell_type": "code",
   "execution_count": null,
   "metadata": {},
   "outputs": [],
   "source": [
    "test_df['sentiment_llm_socre'] = test_df['comment'].apply(analyze_sentiment_score_llm)\n",
    "test_df"
   ]
  },
  {
   "cell_type": "code",
   "execution_count": null,
   "metadata": {},
   "outputs": [],
   "source": []
  }
 ],
 "metadata": {
  "kernelspec": {
   "display_name": "toy-pjt-b",
   "language": "python",
   "name": "python3"
  },
  "language_info": {
   "codemirror_mode": {
    "name": "ipython",
    "version": 3
   },
   "file_extension": ".py",
   "mimetype": "text/x-python",
   "name": "python",
   "nbconvert_exporter": "python",
   "pygments_lexer": "ipython3",
   "version": "3.11.9"
  }
 },
 "nbformat": 4,
 "nbformat_minor": 4
}
